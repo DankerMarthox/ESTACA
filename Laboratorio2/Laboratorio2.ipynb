{
 "cells": [
  {
   "cell_type": "markdown",
   "metadata": {},
   "source": [
    "<img src=\"img/usmlogo.png\" style=\"float:right;height:85px\"> <img src=\"img/dilogo.png\" style=\"float:left;height:90px\">\n",
    "<center>\n",
    "    <h1> Laboratorio 1 </h1>\n",
    "    <h2> Profesor: Ricardo Ñanculef </h2>\n",
    "    <h3> Ayudante: Gabriel Ortega </h3>\n",
    "    <h4> Martin Salinas Scussolin; 201773557-0 ; Malla Nueva </h4>\n",
    "    <h4> Jose Quezada Silva ; 201773528-7 ; Malla Nueva </h4>\n",
    "</center>\n",
    "<p>\n",
    "<center><h4>Marzo 2019</h4></center>\n",
    "</p>"
   ]
  },
  {
   "cell_type": "markdown",
   "metadata": {},
   "source": [
    "## Instrucciones\n",
    "\n",
    "La modalidad de trabajo será mediante el uso de jupyter notebook. El notebook debe ser desarrollado en parejas o individual. Este laboratorio debe ser entregado el día 3 de Mayo.\n",
    "\n",
    "La **modalidad de entrega será un archivo Apellido1_Apellido2_Lab2.zip** que contenga un notebook que incluya todas las preguntas con sus respectivas respuestas + un README que indique la forma correcta de ejecutar su notebook. El laboratorio puede ser trabajado tanto en lenguaje R como en lenguaje python (para los que usen python 2.X, absténganse a las consecuencias). Lea bien el enunciado.\n",
    "\n",
    "\n",
    "**Cualquier copia detectada implicará nota 0 en el laboratorio correspondiente y se notificará la situación al profesor.**\n"
   ]
  },
  {
   "cell_type": "markdown",
   "metadata": {},
   "source": [
    "---\n",
    "**Esto es solo una sugerencia y no tendrá ningún impacto en su nota**\n",
    "\n",
    "## Tip para Gráficos (Python)\n",
    "\n",
    "Puede hacer sus gráficos un poco más estilosos utilizando la libreria seaborn\n",
    "\n",
    "```python\n",
    "import matplotlib.pyplot as plt\n",
    "import seaborn as sns\n",
    "sns.set()\n",
    "%matplotlib inline #con esto no es necesario hacer plt.show()\n",
    "```\n",
    "\n",
    "El uso es igual que un gráfico de matplotlib, solo que ```sns.set()``` hace que se cargue la visualización de seaborn encima. [Informacion sobre seaborn.set()](https://seaborn.pydata.org/generated/seaborn.set.html)\n",
    "\n",
    "## Tip para Gráficos (R)\n",
    "\n",
    "Puede hacer sus gráficos un poco más estilosos utilizando la libreria [ggplot2](https://www.statmethods.net/advgraphs/ggplot2.html)\n",
    "\n",
    "\n",
    "## Interactive Widgets\n",
    "\n",
    "Si usted está trabajando en python puede hacer una widget interactiva que varíe los parámetros de una función, como se puede ver en el siguiente fragmento de código (debe ejecutarlo)."
   ]
  },
  {
   "cell_type": "code",
   "execution_count": 90,
   "metadata": {
    "collapsed": false
   },
   "outputs": [
    {
     "data": {
      "image/png": "[encoded data removed]",
      "text/plain": [
       "<matplotlib.figure.Figure at 0x7f541ffc9940>"
      ]
     },
     "metadata": {},
     "output_type": "display_data"
    }
   ],
   "source": [
    "from ipywidgets import interact \n",
    "import matplotlib.pyplot as plt\n",
    "import seaborn as sns\n",
    "import numpy as np\n",
    "sns.set()\n",
    "%matplotlib inline \n",
    "\n",
    "def plot_serie(x):\n",
    "    values = np.arange(1,x,0.5)**2\n",
    "    values2 = np.arange(1,x,0.5)**3\n",
    "    plt.xlabel(\"X\")\n",
    "    plt.ylabel(\"Y\")\n",
    "    plt.plot(values/values2)\n",
    "        \n",
    "\n",
    "interact(plot_serie,x=(2,20))"
   ]
  },
  {
   "cell_type": "markdown",
   "metadata": {},
   "source": [
    "---\n",
    "## 1. Retención de Clientes\n",
    "\n",
    "La fuga (*churn*, término en inglés) de clientes es algo que muchas empresas de hoy en día sufren, la fuga puede deberse a muchos factores, uno de estos podría ser alguna característica del servicio en sí que provee la empresa. En esta sección usted trabajará con un dataset de \"Telco\", una empresa de telecomunicaciones, donde verá varios datos relacionados al plan de los clientes, uno de estos campos siendo \"*Churn*\", si el cliente se fugó o no. \n",
    "\n",
    "El archivo a utilizar es \"churn.csv\" y para información extra puede referirse a [este enlace](https://www.kaggle.com/blastchar/telco-customer-churn)\n",
    "\n",
    ">a) Haga un análisis exploratorio **a su criterio** del dataset y extraiga 3 conclusiones acerca del conjunto de datos"
   ]
  },
  {
   "cell_type": "code",
   "execution_count": 1,
   "metadata": {
    "collapsed": true
   },
   "outputs": [],
   "source": [
    "import pandas as pd\n",
    "import scipy as sc"
   ]
  },
  {
   "cell_type": "code",
   "execution_count": 2,
   "metadata": {
    "collapsed": true
   },
   "outputs": [],
   "source": [
    "#inclusion dataset\n",
    "df = pd.read_csv(\"churn.csv\") "
   ]
  },
  {
   "cell_type": "markdown",
   "metadata": {},
   "source": [
    "> b.1) Determine la probabilidad de que: <ul>\n",
    "    <li>Un cliente sea mujer dado que tiene fibra óptica </li>\n",
    "    <li>Un cliente sea hombre dado que tiene fibra óptica</li>\n",
    "    <li>Un cliente sea mujer dado que no tiene fibra óptica</li>\n",
    "    <li>Un cliente sea hombre dado que no tiene fibra óptica</li>\n",
    "    </ul>\n",
    "    Además indique cuál/es de estos pares deben sumar 1 (Si es que algún par debe sumar esta cantidad). Justifique su respuesta.\n",
    "    "
   ]
  },
  {
   "cell_type": "code",
   "execution_count": 83,
   "metadata": {
    "collapsed": false
   },
   "outputs": [],
   "source": [
    "class probs:\n",
    "    \n",
    "    opticFiber = len(df.loc[df[\"InternetService\"] == \"Fiber optic\"])\n",
    "    notOpticFiber = len(df.loc[df[\"InternetService\"] != \"Fiber optic\"])\n",
    "    \n",
    "    women = len(df.loc[(df[\"gender\"] == \"Female\")])\n",
    "    womenOF = len(df.loc[(df[\"gender\"] == \"Female\") & (df[\"InternetService\"] == \"Fiber optic\")])\n",
    "    womenNotOf = len(df.loc[(df[\"gender\"] == \"Female\") & (df[\"InternetService\"] != \"Fiber optic\")])\n",
    "   \n",
    "    men = len(df.loc[(df[\"gender\"] == \"Male\")])\n",
    "    menOF = len(df.loc[(df[\"gender\"] == \"Male\") & (df[\"InternetService\"] == \"Fiber optic\")])\n",
    "    menNotOf = len(df.loc[(df[\"gender\"] == \"Male\") & (df[\"InternetService\"] != \"Fiber optic\")])\n",
    "    \n",
    "def p_A_if_B(a,b):\n",
    "    return a/b\n",
    "\n",
    "def Bayes(a,b,c):\n",
    "    return (a*b/c)"
   ]
  },
  {
   "cell_type": "code",
   "execution_count": 45,
   "metadata": {
    "collapsed": false
   },
   "outputs": [
    {
     "name": "stdout",
     "output_type": "stream",
     "text": [
      "0.5016149870801033\n",
      "0.4983850129198967\n",
      "0.49024575627058525\n",
      "0.5097542437294148\n"
     ]
    }
   ],
   "source": [
    "#round(probabilities.women,2)\n",
    "print(p_A_if_B(probs.womenOF, probs.opticFiber))\n",
    "print(p_A_if_B(probs.menOF, probs.opticFiber))\n",
    "print(p_A_if_B(probs.womenNotOf, probs.notOpticFiber))\n",
    "print(p_A_if_B(probs.menNotOf, probs.notOpticFiber))"
   ]
  },
  {
   "cell_type": "markdown",
   "metadata": {},
   "source": [
    ">b.2) ¿Es posible concluir que si un cliente es hombre tiene más probabilidad de tener fibra óptica? ¿Y si es mujer? ¿Por qué?"
   ]
  },
  {
   "cell_type": "markdown",
   "metadata": {},
   "source": [
    ">Por Bayes"
   ]
  },
  {
   "cell_type": "code",
   "execution_count": 73,
   "metadata": {
    "collapsed": false
   },
   "outputs": [
    {
     "data": {
      "text/plain": [
       "0.4395854039471816"
      ]
     },
     "execution_count": 73,
     "metadata": {},
     "output_type": "execute_result"
    }
   ],
   "source": [
    "probs.opticFiber"
   ]
  },
  {
   "cell_type": "code",
   "execution_count": 80,
   "metadata": {
    "collapsed": false
   },
   "outputs": [
    {
     "name": "stdout",
     "output_type": "stream",
     "text": [
      "0.4340365682137834\n"
     ]
    }
   ],
   "source": [
    "print(Bayes(p_A_if_B(probs.menOF, probs.opticFiber),probs.opticFiber,probs.men))"
   ]
  },
  {
   "cell_type": "code",
   "execution_count": 79,
   "metadata": {
    "collapsed": false
   },
   "outputs": [
    {
     "name": "stdout",
     "output_type": "stream",
     "text": [
      "0.4452408256880734\n"
     ]
    }
   ],
   "source": [
    "print(Bayes(p_A_if_B(probs.womenOF, probs.opticFiber),probs.opticFiber,probs.women))"
   ]
  },
  {
   "cell_type": "markdown",
   "metadata": {},
   "source": [
    ">c) Utilizando criterios de probabilidad condicional ¿Hay algún servicio de internet más propenso a la fuga?"
   ]
  },
  {
   "cell_type": "code",
   "execution_count": 84,
   "metadata": {
    "collapsed": true
   },
   "outputs": [],
   "source": [
    "class probs2:\n",
    "    \n",
    "    IntDSL = len(df.loc[(df[\"InternetService\"] == \"DSL\")])\n",
    "    IntDSLChurn = len(df.loc[(df[\"InternetService\"] == \"DSL\") & (df[\"Churn\"] == \"Yes\")])\n",
    "    \n",
    "    IntOf = len(df.loc[(df[\"InternetService\"] == \"Fiber optic\")])\n",
    "    IntOfChurn = len(df.loc[(df[\"InternetService\"] == \"Fiber optic\") & (df[\"Churn\"] == \"Yes\")])\n"
   ]
  },
  {
   "cell_type": "code",
   "execution_count": 85,
   "metadata": {
    "collapsed": false
   },
   "outputs": [
    {
     "data": {
      "text/plain": [
       "0.1895910780669145"
      ]
     },
     "execution_count": 85,
     "metadata": {},
     "output_type": "execute_result"
    }
   ],
   "source": [
    "p_A_if_B(probs2.IntDSLChurn,probs2.IntDSL)"
   ]
  },
  {
   "cell_type": "code",
   "execution_count": 86,
   "metadata": {
    "collapsed": false
   },
   "outputs": [
    {
     "data": {
      "text/plain": [
       "0.4189276485788114"
      ]
     },
     "execution_count": 86,
     "metadata": {},
     "output_type": "execute_result"
    }
   ],
   "source": [
    "p_A_if_B(probs2.IntOfChurn,probs2.IntOf)"
   ]
  },
  {
   "cell_type": "markdown",
   "metadata": {},
   "source": [
    ">d) Utilizando criterios de probabilidad condicional, ¿es el cargo mensual un buen predictor de la fuga? y ¿es la fuga un buen predictor del cargo mensual de un cliente?"
   ]
  },
  {
   "cell_type": "code",
   "execution_count": 117,
   "metadata": {
    "collapsed": false
   },
   "outputs": [
    {
     "data": {
      "text/plain": [
       "18.25"
      ]
     },
     "execution_count": 117,
     "metadata": {},
     "output_type": "execute_result"
    }
   ],
   "source": [
    "df[\"MonthlyCharges\"].min()"
   ]
  },
  {
   "cell_type": "code",
   "execution_count": 118,
   "metadata": {
    "collapsed": false
   },
   "outputs": [
    {
     "data": {
      "text/plain": [
       "MonthlyCharges\n",
       "(18.25, 28.25]      34140.90\n",
       "(28.25, 38.25]       6275.45\n",
       "(38.25, 48.25]      15848.05\n",
       "(48.25, 58.25]      33547.95\n",
       "(58.25, 68.25]      29727.80\n",
       "(68.25, 78.25]      63920.90\n",
       "(78.25, 88.25]      79012.05\n",
       "(88.25, 98.25]      80541.10\n",
       "(98.25, 108.25]     78119.50\n",
       "(108.25, 118.25]    34371.70\n",
       "Name: MonthlyCharges, dtype: float64"
      ]
     },
     "execution_count": 118,
     "metadata": {},
     "output_type": "execute_result"
    }
   ],
   "source": [
    "df[\"MonthlyCharges\"].groupby(pd.cut(df[\"MonthlyCharges\"],bins=np.arange(18.25,118.75,10))).sum()"
   ]
  },
  {
   "cell_type": "code",
   "execution_count": null,
   "metadata": {
    "collapsed": true
   },
   "outputs": [],
   "source": [
    "class probs3:\n",
    "    \n",
    "    "
   ]
  },
  {
   "cell_type": "markdown",
   "metadata": {},
   "source": [
    ">e) Utilizando criterios de probabilidad condicional, ¿es el cargo mensual un buen predictor de la estadia de un cliente? y ¿es la estadia del cliente un buen predictor del cargo mensual de este?\n",
    "\n",
    "*Estadia*: tenure"
   ]
  },
  {
   "cell_type": "code",
   "execution_count": null,
   "metadata": {
    "collapsed": true
   },
   "outputs": [],
   "source": []
  },
  {
   "cell_type": "markdown",
   "metadata": {},
   "source": [
    "## 2. Máquina de Rube Goldberg\n",
    "\n",
    "Una máquina de Rube Goldberg es un artefacto extremadamente complejo que realiza una tarea fácil. Usted, en su tiempo libre, decidió construir uno de estos artefactos que consta de 5 etapas:\n",
    "\n",
    "<ol>\n",
    "    <li>Lanza una bolita que rueda por un riel con una probabilidad de $\\dfrac{2}{5}$ de caerse</li>\n",
    "    <li>Después de rodar por el riel cae en una catapulta que la lanza en la dirección correcta el $60\\%$ de las veces</li>\n",
    "    <li>Impacta contra una tela que le frena el impulso y la hace caer sobre el interruptor de un ventilador, el $80\\%$ de las veces es capaz de activar el ventilador</li>\n",
    "    <li>Cuando el ventilador se activa empuja un barco de juguete en una fuente con agua hasta el otro extremo de esta para empujar otra bolita, el barco llega con suficiente impulso con una probabilidad de $\\dfrac{6}{9}$</li>\n",
    "    <li>Esta bolita rueda por otro riel y cae sobre el control remoto que enciende su televisor, en un $30\\%$ de las veces logra encenderlo</li>\n",
    "</ol>\n",
    "\n",
    ">a) Usted quiere subir su máquina de Rube Goldberg a Youtube™, estime cuántas veces (en promedio) tendrá que poner en marcha su máquina hasta que resulte por primera vez en video. A su vez, haga un gráfico mostrando la probabilidad de no tener éxito en función del número de puestas en marcha de la máquina y comente."
   ]
  },
  {
   "cell_type": "code",
   "execution_count": null,
   "metadata": {
    "collapsed": true
   },
   "outputs": [],
   "source": []
  },
  {
   "cell_type": "markdown",
   "metadata": {},
   "source": [
    "> b) Si usted cuenta con 1000 bolitas, estime tanto téorica como empíricamente cuántas bolitas fallan en cada estapa. Compare sus resultados obtenidos.\n",
    "\n",
    "*Recuerde que habrá una cantidad de bolitas que no fallarán*"
   ]
  },
  {
   "cell_type": "code",
   "execution_count": null,
   "metadata": {
    "collapsed": true
   },
   "outputs": [],
   "source": []
  },
  {
   "cell_type": "markdown",
   "metadata": {},
   "source": [
    "> c) Determine la función de probabilidad que rige este fenómeno según todos los estados posibles de la bolita"
   ]
  },
  {
   "cell_type": "code",
   "execution_count": null,
   "metadata": {
    "collapsed": true
   },
   "outputs": [],
   "source": []
  },
  {
   "cell_type": "markdown",
   "metadata": {},
   "source": [
    ">d) Genere 1000 valores aleatorios que sigan la función de probabilidad que encontró en c), haga un histograma y compare con lo obtenido en b)"
   ]
  },
  {
   "cell_type": "code",
   "execution_count": null,
   "metadata": {
    "collapsed": true
   },
   "outputs": [],
   "source": []
  },
  {
   "cell_type": "markdown",
   "metadata": {},
   "source": [
    "## 3. Perritos Enfermos\n",
    "\n",
    "Usted trabaja en un refugio de animales que se especializa en recibir perros, además de contar con el equipo necesario para tratar con enfermedades que estos puedan presentar. Viendo las noticias se enteró que un virus sumamente peligroso para los perros se está expandiendo rápidamente por la zona y sospecha que algunos de los perros bajo su cuidado pueden estar infectados pero, no presentan un síntoma de momento. Para suerte suya este virus tiene cura hace tiempo y cuenta con el equipo para analizar muestras de saliva para detectar qué perro está infectado con el virus o no.\n",
    "\n",
    "Usted tiene 500 perros, para no hacer la prueba 1 a 1 ha decidido juntar muestras de saliva en grupos de $K$ perros (con $K$ siendo un divisor de 500), y en caso de que el examen arroje positivo hará la prueba 1 a 1 del grupo. Asuma que 8 perros están infectados, pero usted no sabe esto a priori.\n",
    "\n",
    ">a) ¿Es posible determinar **teóricamente** un $K$ tal que la cantidad de veces que se realiza la prueba sea la menor posible? De ser así, encuentre dicho K. ¿Qué distribución es comparable a este fenómeno?"
   ]
  },
  {
   "cell_type": "code",
   "execution_count": null,
   "metadata": {
    "collapsed": true
   },
   "outputs": [],
   "source": []
  },
  {
   "cell_type": "markdown",
   "metadata": {},
   "source": [
    ">b) Encuentre **empíricamente** un valor de $K$ que minimice la cantidad de veces que se realiza la prueba y compare con el obtenido en b)"
   ]
  },
  {
   "cell_type": "code",
   "execution_count": null,
   "metadata": {
    "collapsed": true
   },
   "outputs": [],
   "source": []
  },
  {
   "cell_type": "markdown",
   "metadata": {},
   "source": [
    ">c) Ahora usted conoce la cantidad de perros infectados, realice el mismo experimento que en b) y compare sus resultados. ¿A qué se debe esta diferencia? "
   ]
  },
  {
   "cell_type": "code",
   "execution_count": null,
   "metadata": {
    "collapsed": true
   },
   "outputs": [],
   "source": []
  },
  {
   "cell_type": "markdown",
   "metadata": {},
   "source": [
    "## Reglas del Juego y Comentarios \n",
    "\n",
    "+ Errores ortográficos, de redacción y oraciones ambiguas descontarán parte de su puntaje.\n",
    "+ Dudas solamente hasta el día 27 de Abril a las 15hrs.\n",
    "+ Dudas **principalmente** vía moodle, evite otro tipo de medio ya que su duda podría ser la de otro.\n",
    "+ Cada día de atraso descuenta 25 puntos de la nota final con un máximo de dos días de retraso (después es 0).\n",
    "+ La versión de R que se usará para revisar es 3.5.3\n",
    "+ La versión de Python que se usará para revisar es 3.6.8\n",
    "+ Use cualquier librería que estime conveniente, si requiere de instalación explicitarlo en el README (y bien explicitado).\n",
    "+ Código comentado para facilitar entendimiento.\n",
    "+ Sea formal y claro con su respuesta, **explique su procedimiento y luego responda.** \n",
    "+ Defina bien las secciones de su notebook, el orden siempre es bueno :) [Tips para usar Markdown](https://github.com/adam-p/markdown-here/wiki/Markdown-Cheatsheet)"
   ]
  }
 ],
 "metadata": {
  "kernelspec": {
   "display_name": "Python 3",
   "language": "python",
   "name": "python3"
  },
  "language_info": {
   "codemirror_mode": {
    "name": "ipython",
    "version": 3
   },
   "file_extension": ".py",
   "mimetype": "text/x-python",
   "name": "python",
   "nbconvert_exporter": "python",
   "pygments_lexer": "ipython3",
   "version": "3.6.0"
  },
  "widgets": {
   "state": {
    "4c2f88cd23e440c0bdfed246980fb59f": {
     "views": [
      {
       "cell_index": 3
      }
     ]
    }
   },
   "version": "1.2.0"
  }
 },
 "nbformat": 4,
 "nbformat_minor": 2
}
