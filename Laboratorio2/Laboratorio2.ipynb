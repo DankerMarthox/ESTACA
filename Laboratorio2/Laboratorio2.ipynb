{
 "cells": [
  {
   "cell_type": "markdown",
   "metadata": {},
   "source": [
    "<img src=\"img/usmlogo.png\" style=\"float:right;height:85px\"> <img src=\"img/dilogo.png\" style=\"float:left;height:90px\">\n",
    "<center>\n",
    "    <h1> Laboratorio 2 </h1>\n",
    "    <h2> Profesor: Ricardo Ñanculef </h2>\n",
    "    <h3> Ayudante: Gabriel Ortega </h3>\n",
    "    <h4> Martin Salinas Scussolin; 201773557-0 ; Malla Nueva </h4>\n",
    "    <h4> Jose Quezada Silva ; 201773528-7 ; Malla Nueva </h4>\n",
    "</center>\n",
    "<p>\n",
    "<center><h4>Marzo 2019</h4></center>\n",
    "</p>"
   ]
  },
  {
   "cell_type": "markdown",
   "metadata": {},
   "source": [
    "## Instrucciones\n",
    "\n",
    "La modalidad de trabajo será mediante el uso de jupyter notebook. El notebook debe ser desarrollado en parejas o individual. Este laboratorio debe ser entregado el día 3 de Mayo.\n",
    "\n",
    "La **modalidad de entrega será un archivo Apellido1_Apellido2_Lab2.zip** que contenga un notebook que incluya todas las preguntas con sus respectivas respuestas + un README que indique la forma correcta de ejecutar su notebook. El laboratorio puede ser trabajado tanto en lenguaje R como en lenguaje python (para los que usen python 2.X, absténganse a las consecuencias). Lea bien el enunciado.\n",
    "\n",
    "\n",
    "**Cualquier copia detectada implicará nota 0 en el laboratorio correspondiente y se notificará la situación al profesor.**\n"
   ]
  },
  {
   "cell_type": "markdown",
   "metadata": {},
   "source": [
    "---\n",
    "**Esto es solo una sugerencia y no tendrá ningún impacto en su nota**\n",
    "\n",
    "## Tip para Gráficos (Python)\n",
    "\n",
    "Puede hacer sus gráficos un poco más estilosos utilizando la libreria seaborn\n",
    "\n",
    "```python\n",
    "import matplotlib.pyplot as plt\n",
    "import seaborn as sns\n",
    "sns.set()\n",
    "%matplotlib inline #con esto no es necesario hacer plt.show()\n",
    "```\n",
    "\n",
    "El uso es igual que un gráfico de matplotlib, solo que ```sns.set()``` hace que se cargue la visualización de seaborn encima. [Informacion sobre seaborn.set()](https://seaborn.pydata.org/generated/seaborn.set.html)\n",
    "\n",
    "## Tip para Gráficos (R)\n",
    "\n",
    "Puede hacer sus gráficos un poco más estilosos utilizando la libreria [ggplot2](https://www.statmethods.net/advgraphs/ggplot2.html)\n",
    "\n",
    "\n",
    "## Interactive Widgets\n",
    "\n",
    "Si usted está trabajando en python puede hacer una widget interactiva que varíe los parámetros de una función, como se puede ver en el siguiente fragmento de código (debe ejecutarlo)."
   ]
  },
  {
   "cell_type": "code",
   "execution_count": 1,
   "metadata": {},
   "outputs": [],
   "source": [
    "from ipywidgets import interact \n",
    "from random import choices\n",
    "import matplotlib.pyplot as plt\n",
    "import seaborn as sns\n",
    "import numpy as np\n",
    "sns.set()\n",
    "%matplotlib inline \n",
    "\n"
   ]
  },
  {
   "cell_type": "markdown",
   "metadata": {},
   "source": [
    "---\n",
    "## 1. Retención de Clientes\n",
    "\n",
    "La fuga (*churn*, término en inglés) de clientes es algo que muchas empresas de hoy en día sufren, la fuga puede deberse a muchos factores, uno de estos podría ser alguna característica del servicio en sí que provee la empresa. En esta sección usted trabajará con un dataset de \"Telco\", una empresa de telecomunicaciones, donde verá varios datos relacionados al plan de los clientes, uno de estos campos siendo \"*Churn*\", si el cliente se fugó o no. \n",
    "\n",
    "El archivo a utilizar es \"churn.csv\" y para información extra puede referirse a [este enlace](https://www.kaggle.com/blastchar/telco-customer-churn)\n",
    "\n",
    ">a) Haga un análisis exploratorio **a su criterio** del dataset y extraiga 3 conclusiones acerca del conjunto de datos"
   ]
  },
  {
   "cell_type": "code",
   "execution_count": 2,
   "metadata": {},
   "outputs": [],
   "source": [
    "from random import choices\n"
   ]
  },
  {
   "cell_type": "markdown",
   "metadata": {},
   "source": [
    "### Desarrollo"
   ]
  },
  {
   "cell_type": "code",
   "execution_count": 3,
   "metadata": {},
   "outputs": [],
   "source": [
    "import pandas as pd\n",
    "import scipy as sc"
   ]
  },
  {
   "cell_type": "code",
   "execution_count": 4,
   "metadata": {},
   "outputs": [],
   "source": [
    "#inclusion dataset\n",
    "df = pd.read_csv(\"churn.csv\") "
   ]
  },
  {
   "cell_type": "markdown",
   "metadata": {},
   "source": [
    "Después de cargar los datos, se separan por género, para luego ser filtrados por la columna tenure, la cual muestra la duración de los clientes en la compañía. Esto se realiza con el fin de poder graficar los datos y tener una mejor apreciación de estos."
   ]
  },
  {
   "cell_type": "code",
   "execution_count": 5,
   "metadata": {},
   "outputs": [],
   "source": [
    "dfFemale = df.loc[(df[\"gender\"] == 'Female')]\n",
    "dfMale = df.loc[(df[\"gender\"] == 'Male')]\n",
    "\n",
    "dfToPlotMale = pd.DataFrame(dfMale.groupby(\"tenure\").size())\n",
    "dfToPlotMale.columns=[\"Men\"]\n",
    "\n",
    "dfToPlotFemale = pd.DataFrame(dfFemale.groupby(\"tenure\").size())\n",
    "dfToPlotFemale.columns=[\"Women\"]\n",
    "\n",
    "dfToPlot = pd.concat([dfToPlotMale,\n",
    "                      dfToPlotFemale],\n",
    "                      sort=False,\n",
    "                      axis=1)"
   ]
  },
  {
   "cell_type": "code",
   "execution_count": 6,
   "metadata": {},
   "outputs": [
    {
     "data": {
      "text/html": [
       "<div>\n",
       "<style scoped>\n",
       "    .dataframe tbody tr th:only-of-type {\n",
       "        vertical-align: middle;\n",
       "    }\n",
       "\n",
       "    .dataframe tbody tr th {\n",
       "        vertical-align: top;\n",
       "    }\n",
       "\n",
       "    .dataframe thead th {\n",
       "        text-align: right;\n",
       "    }\n",
       "</style>\n",
       "<table border=\"1\" class=\"dataframe\">\n",
       "  <thead>\n",
       "    <tr style=\"text-align: right;\">\n",
       "      <th></th>\n",
       "      <th>Men</th>\n",
       "      <th>Women</th>\n",
       "    </tr>\n",
       "  </thead>\n",
       "  <tbody>\n",
       "    <tr>\n",
       "      <th>mean</th>\n",
       "      <td>48.698630</td>\n",
       "      <td>47.780822</td>\n",
       "    </tr>\n",
       "    <tr>\n",
       "      <th>std</th>\n",
       "      <td>40.917154</td>\n",
       "      <td>37.016981</td>\n",
       "    </tr>\n",
       "    <tr>\n",
       "      <th>min</th>\n",
       "      <td>6.000000</td>\n",
       "      <td>5.000000</td>\n",
       "    </tr>\n",
       "    <tr>\n",
       "      <th>25%</th>\n",
       "      <td>33.000000</td>\n",
       "      <td>32.000000</td>\n",
       "    </tr>\n",
       "    <tr>\n",
       "      <th>50%</th>\n",
       "      <td>38.000000</td>\n",
       "      <td>38.000000</td>\n",
       "    </tr>\n",
       "    <tr>\n",
       "      <th>75%</th>\n",
       "      <td>50.000000</td>\n",
       "      <td>48.000000</td>\n",
       "    </tr>\n",
       "    <tr>\n",
       "      <th>max</th>\n",
       "      <td>329.000000</td>\n",
       "      <td>284.000000</td>\n",
       "    </tr>\n",
       "  </tbody>\n",
       "</table>\n",
       "</div>"
      ],
      "text/plain": [
       "             Men       Women\n",
       "mean   48.698630   47.780822\n",
       "std    40.917154   37.016981\n",
       "min     6.000000    5.000000\n",
       "25%    33.000000   32.000000\n",
       "50%    38.000000   38.000000\n",
       "75%    50.000000   48.000000\n",
       "max   329.000000  284.000000"
      ]
     },
     "execution_count": 6,
     "metadata": {},
     "output_type": "execute_result"
    }
   ],
   "source": [
    "dfToPlot.describe()[1:]"
   ]
  },
  {
   "cell_type": "markdown",
   "metadata": {},
   "source": [
    "Se usa el método describe de pandas para obtener un análisis básico de los datos separados anteriormente. \n",
    "Se puede ver que los datos son similares entre hombres y mujeres, estos se asemejan tanto como en los cuartiles, donde la diferencia es de un mes. Además, se puede ver que el mayor tiempo que duró un cliente hombre es mayor a la máxima estadía de un cliente mujer. En relación a la desviación estándar de los datos, se puede notar que la de los hombres es mayor.\n",
    "Lo anterior se puede ver reflejado en los boxplots siguientes, en los cuales se omiten los outliers para una mejor visualización de los datos."
   ]
  },
  {
   "cell_type": "code",
   "execution_count": 7,
   "metadata": {},
   "outputs": [
    {
     "data": {
      "text/plain": [
       "<matplotlib.axes._subplots.AxesSubplot at 0x1ac5e598198>"
      ]
     },
     "execution_count": 7,
     "metadata": {},
     "output_type": "execute_result"
    },
    {
     "data": {
      "image/png": "[encoded data removed]",
      "text/plain": [
       "<Figure size 432x288 with 1 Axes>"
      ]
     },
     "metadata": {
      "needs_background": "light"
     },
     "output_type": "display_data"
    }
   ],
   "source": [
    "dfToPlot.boxplot(showfliers=False)"
   ]
  },
  {
   "cell_type": "markdown",
   "metadata": {},
   "source": [
    "Se puede ver que los datos son similares entre sí, con la pequeña diferencia, que en el caso de los hombres, los datos son un poco más grandes que los de las mujeres."
   ]
  },
  {
   "cell_type": "markdown",
   "metadata": {},
   "source": [
    "> b.1) Determine la probabilidad de que: <ul>\n",
    "    <li>Un cliente sea mujer dado que tiene fibra óptica </li>\n",
    "    <li>Un cliente sea hombre dado que tiene fibra óptica</li>\n",
    "    <li>Un cliente sea mujer dado que no tiene fibra óptica</li>\n",
    "    <li>Un cliente sea hombre dado que no tiene fibra óptica</li>\n",
    "    </ul>\n",
    "    Además indique cuál/es de estos pares deben sumar 1 (Si es que algún par debe sumar esta cantidad). Justifique su respuesta.\n",
    "    "
   ]
  },
  {
   "cell_type": "markdown",
   "metadata": {},
   "source": [
    "### Desarrollo\n",
    "Para el cálculo de las probabilidades, se utiliza probabilidad condicional, para ello, se separan los datos según los requisitos necesarios. \n"
   ]
  },
  {
   "cell_type": "code",
   "execution_count": 8,
   "metadata": {},
   "outputs": [],
   "source": [
    "def p_A_if_B(a,b):\n",
    "    return a/b\n",
    "\n",
    "def Bayes(a,b,c):\n",
    "    return (a*b/c)"
   ]
  },
  {
   "cell_type": "code",
   "execution_count": 9,
   "metadata": {},
   "outputs": [
    {
     "name": "stdout",
     "output_type": "stream",
     "text": [
      "Probabilidad de que un cliente sea mujer dado que tiene fibra óptica: 0.5016149870801033\n",
      "Probabilidad de que un cliente sea hombre dado que tiene fibra óptica: 0.4983850129198967\n",
      "Probabilidad de que un cliente sea mujer dado que no tiene fibra óptica: 0.49024575627058525\n",
      "Probabilidad de que un cliente sea hombre dado que no tiene fibra óptica: 0.5097542437294148\n"
     ]
    }
   ],
   "source": [
    "class probs:\n",
    "\n",
    "    opticFiber = len(df.loc[df[\"InternetService\"] == \"Fiber optic\"])/len(df)\n",
    "    notOpticFiber = len(df.loc[df[\"InternetService\"] != \"Fiber optic\"])/len(df)\n",
    "    \n",
    "    women = len(df.loc[(df[\"gender\"] == \"Female\")])/len(df)\n",
    "    womenOF = len(df.loc[(df[\"gender\"] == \"Female\") & (df[\"InternetService\"] == \"Fiber optic\")])/len(df)\n",
    "    womenNotOf = len(df.loc[(df[\"gender\"] == \"Female\") & (df[\"InternetService\"] != \"Fiber optic\")])/len(df)\n",
    "   \n",
    "    men = len(df.loc[(df[\"gender\"] == \"Male\")])/len(df)\n",
    "    menOF = len(df.loc[(df[\"gender\"] == \"Male\") & (df[\"InternetService\"] == \"Fiber optic\")])/len(df)\n",
    "    menNotOf = len(df.loc[(df[\"gender\"] == \"Male\") & (df[\"InternetService\"] != \"Fiber optic\")])/len(df)\n",
    "    \n",
    "#round(probabilities.women,2)\n",
    "print(\"Probabilidad de que un cliente sea mujer dado que tiene fibra óptica:\", \n",
    "      p_A_if_B(probs.womenOF, probs.opticFiber))\n",
    "print(\"Probabilidad de que un cliente sea hombre dado que tiene fibra óptica:\" ,\n",
    "      p_A_if_B(probs.menOF, probs.opticFiber))\n",
    "print(\"Probabilidad de que un cliente sea mujer dado que no tiene fibra óptica:\",\n",
    "      p_A_if_B(probs.womenNotOf, probs.notOpticFiber))\n",
    "print(\"Probabilidad de que un cliente sea hombre dado que no tiene fibra óptica:\", \n",
    "      p_A_if_B(probs.menNotOf, probs.notOpticFiber))"
   ]
  },
  {
   "cell_type": "markdown",
   "metadata": {},
   "source": [
    ">b.2) ¿Es posible concluir que si un cliente es hombre tiene más probabilidad de tener fibra óptica? ¿Y si es mujer? ¿Por qué?"
   ]
  },
  {
   "cell_type": "markdown",
   "metadata": {},
   "source": [
    "### Desarrollo\n",
    "Usando la regla de Bayes, y con los datos separados anteriormente, se pueden obtener las probabilidades solicitadas."
   ]
  },
  {
   "cell_type": "code",
   "execution_count": 10,
   "metadata": {},
   "outputs": [
    {
     "name": "stdout",
     "output_type": "stream",
     "text": [
      "Probabilidad de que tenga fibra óptica dado que es hombre: 0.4340365682137834\n",
      "Probabilidad de que tenga fibra óptica dado que es mujer: 0.4452408256880734\n"
     ]
    }
   ],
   "source": [
    "print(\"Probabilidad de que tenga fibra óptica dado que es hombre:\",\n",
    "      Bayes(p_A_if_B(probs.menOF, probs.opticFiber),probs.opticFiber,probs.men))\n",
    "print(\"Probabilidad de que tenga fibra óptica dado que es mujer:\",\n",
    "      Bayes(p_A_if_B(probs.womenOF, probs.opticFiber),probs.opticFiber,probs.women))"
   ]
  },
  {
   "cell_type": "markdown",
   "metadata": {},
   "source": [
    "Con los valores encontrados anteriormente, es posible concluir de que la probabilidad de que una cliente tenga fibra óptica dado que es mujer es mayor."
   ]
  },
  {
   "cell_type": "markdown",
   "metadata": {},
   "source": [
    ">c) Utilizando criterios de probabilidad condicional ¿Hay algún servicio de internet más propenso a la fuga?"
   ]
  },
  {
   "cell_type": "markdown",
   "metadata": {},
   "source": [
    "### Desarrollo\n",
    "Usando probabilidad condicional es posible obtener los datos. Además, se separa el dataset según es necesario."
   ]
  },
  {
   "cell_type": "code",
   "execution_count": 11,
   "metadata": {},
   "outputs": [
    {
     "name": "stdout",
     "output_type": "stream",
     "text": [
      "Probabilidad de que un cliente tenga DSL dado que se fugó: 0.1895910780669145\n",
      "Probabilidad de que un cliente tenga fibra óptica dado que se fugó: 0.4189276485788114\n"
     ]
    }
   ],
   "source": [
    "class probs2:\n",
    "    \n",
    "    IntChurn = len(df.loc[(df[\"Churn\"] == \"Yes\") & (df[\"InternetService\"] != \"No\") ])\n",
    "    IntDSL = len(df.loc[(df[\"InternetService\"] == \"DSL\")])\n",
    "    IntDSLChurn = len(df.loc[(df[\"InternetService\"] == \"DSL\") & (df[\"Churn\"] == \"Yes\")])\n",
    "    \n",
    "    IntOf = len(df.loc[(df[\"InternetService\"] == \"Fiber optic\")])\n",
    "    IntOfChurn = len(df.loc[(df[\"InternetService\"] == \"Fiber optic\") & (df[\"Churn\"] == \"Yes\")])\n",
    "\n",
    "print(\"Probabilidad de que un cliente tenga DSL dado que se fugó:\",\n",
    "      p_A_if_B(probs2.IntDSLChurn,probs2.IntDSL))\n",
    "print(\"Probabilidad de que un cliente tenga fibra óptica dado que se fugó:\",\n",
    "      p_A_if_B(probs2.IntOfChurn,probs2.IntOf))"
   ]
  },
  {
   "cell_type": "markdown",
   "metadata": {},
   "source": [
    "Con esto, es posible concluir que si un cliente tiene fibra óptica como servicio de internet, entonces es más propenso a salirse de la compañía."
   ]
  },
  {
   "cell_type": "markdown",
   "metadata": {},
   "source": [
    ">d) Utilizando criterios de probabilidad condicional, ¿es el cargo mensual un buen predictor de la fuga? y ¿es la fuga un buen predictor del cargo mensual de un cliente?"
   ]
  },
  {
   "cell_type": "markdown",
   "metadata": {},
   "source": [
    "### Desarrollo \n",
    "Se obtienen rangos de cargo mensual, a partir de los datos mín y máx del dataset en la columna MonthlyCharges. Esto se realiza con el fin de encontrar que el intervalo más grande posee más personas las cuales se retiran de la compañía."
   ]
  },
  {
   "cell_type": "code",
   "execution_count": 12,
   "metadata": {
    "scrolled": true
   },
   "outputs": [
    {
     "name": "stdout",
     "output_type": "stream",
     "text": [
      "Máximo: 118.75\n",
      "Mínimo: 18.25\n"
     ]
    },
    {
     "data": {
      "text/plain": [
       "MonthlyCharges\n",
       "(18.25, 38.25]      40416.35\n",
       "(38.25, 58.25]      49396.00\n",
       "(58.25, 78.25]      93648.70\n",
       "(78.25, 98.25]     159553.15\n",
       "(98.25, 118.25]    112491.20\n",
       "Name: MonthlyCharges, dtype: float64"
      ]
     },
     "execution_count": 12,
     "metadata": {},
     "output_type": "execute_result"
    }
   ],
   "source": [
    "print(\"Máximo:\", df[\"MonthlyCharges\"].max())\n",
    "print(\"Mínimo:\", df[\"MonthlyCharges\"].min())\n",
    "df[\"MonthlyCharges\"].groupby(pd.cut(df[\"MonthlyCharges\"],bins=np.arange(18.25,118.75,20))).sum()"
   ]
  },
  {
   "cell_type": "code",
   "execution_count": 13,
   "metadata": {},
   "outputs": [
    {
     "name": "stdout",
     "output_type": "stream",
     "text": [
      "Probabilidad de que se fuge dado que se le cobra entre (18.25, 38.25]: 0.11414253897550111\n",
      "Probabilidad de que se fuge dado que se le cobra entre (38.25, 58.25]: 0.2715430861723447\n",
      "Probabilidad de que se fuge dado que se le cobra entre (58.25, 78.25]: 0.2921597633136095\n",
      "Probabilidad de que se fuge dado que se le cobra entre (78.25, 98.25]: 0.3667763157894737\n",
      "Probabilidad de que se fuge dado que se le cobra entre (98.25, 118.25]: 0.30740393626991563\n"
     ]
    }
   ],
   "source": [
    "class probs3:\n",
    "      \n",
    "    ChurnThot = len(df.loc[(df[\"Churn\"] == \"Yes\")])\n",
    "    \n",
    "    p1 = len(df.loc[(df[\"MonthlyCharges\"] > 18.25) & (df[\"MonthlyCharges\"] <= 38.25) & (df[\"Churn\"] == \"Yes\")])\n",
    "    p2 = len(df.loc[(df[\"MonthlyCharges\"] > 38.25) & (df[\"MonthlyCharges\"] <= 58.25) & (df[\"Churn\"] == \"Yes\")])\n",
    "    p3 = len(df.loc[(df[\"MonthlyCharges\"] > 58.25) & (df[\"MonthlyCharges\"] <= 78.25) & (df[\"Churn\"] == \"Yes\")])\n",
    "    p4 = len(df.loc[(df[\"MonthlyCharges\"] > 78.25) & (df[\"MonthlyCharges\"] <= 98.25) & (df[\"Churn\"] == \"Yes\")])\n",
    "    p5 = len(df.loc[(df[\"MonthlyCharges\"] > 98.25) & (df[\"MonthlyCharges\"] <= 118.25) & (df[\"Churn\"] == \"Yes\")])\n",
    "    \n",
    "    mOne = len(df.loc[(df[\"MonthlyCharges\"] > 18.25) & (df[\"MonthlyCharges\"] <= 38.25)])\n",
    "    mTwo = len(df.loc[(df[\"MonthlyCharges\"] > 38.25) & (df[\"MonthlyCharges\"] <= 58.25)])\n",
    "    mThree = len(df.loc[(df[\"MonthlyCharges\"] > 58.25) & (df[\"MonthlyCharges\"] <= 78.25)])\n",
    "    mFour = len(df.loc[(df[\"MonthlyCharges\"] > 78.25) & (df[\"MonthlyCharges\"] <= 98.25)])\n",
    "    mFive = len(df.loc[(df[\"MonthlyCharges\"] > 98.25) & (df[\"MonthlyCharges\"] <= 118.25)])\n",
    "\n",
    "class probs4:\n",
    "    P1 = Bayes(p_A_if_B(probs3.p1,probs3.mOne),probs3.mOne, probs3.ChurnThot)\n",
    "    P2 = Bayes(p_A_if_B(probs3.p2,probs3.mTwo), probs3.mTwo, probs3.ChurnThot)\n",
    "    P3 = Bayes(p_A_if_B(probs3.p3,probs3.mThree), probs3.mThree, probs3.ChurnThot)\n",
    "    P4 = Bayes(p_A_if_B(probs3.p4,probs3.mFour), probs3.mFour, probs3.ChurnThot)\n",
    "    P5 = Bayes(p_A_if_B(probs3.p5,probs3.mFive), probs3.mFive, probs3.ChurnThot)\n",
    "\n",
    "print(\"Probabilidad de que se fuge dado que se le cobra entre (18.25, 38.25]:\",\n",
    "      p_A_if_B(probs3.p1,probs3.mOne))\n",
    "print(\"Probabilidad de que se fuge dado que se le cobra entre (38.25, 58.25]:\",\n",
    "      p_A_if_B(probs3.p2,probs3.mTwo))\n",
    "print(\"Probabilidad de que se fuge dado que se le cobra entre (58.25, 78.25]:\",\n",
    "      p_A_if_B(probs3.p3,probs3.mThree))\n",
    "print(\"Probabilidad de que se fuge dado que se le cobra entre (78.25, 98.25]:\",\n",
    "      p_A_if_B(probs3.p4,probs3.mFour))\n",
    "print(\"Probabilidad de que se fuge dado que se le cobra entre (98.25, 118.25]:\",\n",
    "      p_A_if_B(probs3.p5,probs3.mFive))"
   ]
  },
  {
   "cell_type": "markdown",
   "metadata": {},
   "source": [
    "Con las probabilidades obtenidas anteriormete, no es posible asegurar que un cliente es más propenso a la fuga si el cobro mensual es mayor."
   ]
  },
  {
   "cell_type": "markdown",
   "metadata": {},
   "source": [
    ">e) Utilizando criterios de probabilidad condicional, ¿es el cargo mensual un buen predictor de la estadia de un cliente? y ¿es la estadia del cliente un buen predictor del cargo mensual de este?\n",
    "\n",
    "*Estadia*: tenure"
   ]
  },
  {
   "cell_type": "markdown",
   "metadata": {},
   "source": [
    "### Desarrollo\n",
    "Se separa tenure, en dos intervalos (t <= 36) y (36 < t), lo que permite ver la corta o larga estadía de los clientes de la compañía.\n",
    "Luego, se separan los datos según los intervalos anteriores (inciso d) y sus intervalos de estadía. Esto, con el fin de ver si es más probable que un cliente dure más o menos según el intervalo de cobro mensual."
   ]
  },
  {
   "cell_type": "code",
   "execution_count": 14,
   "metadata": {},
   "outputs": [
    {
     "data": {
      "text/plain": [
       "tenure\n",
       "(0, 36]      54377\n",
       "(36, 72]    173613\n",
       "Name: tenure, dtype: int64"
      ]
     },
     "execution_count": 14,
     "metadata": {},
     "output_type": "execute_result"
    }
   ],
   "source": [
    "df[\"tenure\"].groupby(pd.cut(df[\"tenure\"],bins=np.arange(0,73,36))).sum()#.tolist()"
   ]
  },
  {
   "cell_type": "code",
   "execution_count": 15,
   "metadata": {},
   "outputs": [],
   "source": [
    "class probs5:\n",
    "    p1_lt = len(df.loc[(df[\"MonthlyCharges\"] > 18.25) & (df[\"MonthlyCharges\"] <= 38.25) & (df[\"tenure\"] <= 36)])\n",
    "    p1_ht = len(df.loc[(df[\"MonthlyCharges\"] > 18.25) & (df[\"MonthlyCharges\"] <= 38.25) & (df[\"tenure\"] > 36)])\n",
    "    \n",
    "    p2_lt = len(df.loc[(df[\"MonthlyCharges\"] > 38.25) & (df[\"MonthlyCharges\"] <= 58.25) & (df[\"tenure\"] <= 36)])\n",
    "    p2_ht = len(df.loc[(df[\"MonthlyCharges\"] > 38.25) & (df[\"MonthlyCharges\"] <= 58.25) & (df[\"tenure\"] > 36)])\n",
    "    \n",
    "    p3_lt = len(df.loc[(df[\"MonthlyCharges\"] > 58.25) & (df[\"MonthlyCharges\"] <= 78.25) & (df[\"tenure\"] <= 36)])\n",
    "    p3_ht = len(df.loc[(df[\"MonthlyCharges\"] > 58.25) & (df[\"MonthlyCharges\"] <= 78.25) & (df[\"tenure\"] > 36)])\n",
    "    \n",
    "    p4_lt = len(df.loc[(df[\"MonthlyCharges\"] > 78.25) & (df[\"MonthlyCharges\"] <= 98.25) & (df[\"tenure\"] <= 36)])\n",
    "    p4_ht = len(df.loc[(df[\"MonthlyCharges\"] > 78.25) & (df[\"MonthlyCharges\"] <= 98.25) & (df[\"tenure\"] > 36)])\n",
    "    \n",
    "    p5_lt = len(df.loc[(df[\"MonthlyCharges\"] > 98.25) & (df[\"MonthlyCharges\"] <= 118.25) & (df[\"tenure\"] <= 36)])\n",
    "    p5_ht = len(df.loc[(df[\"MonthlyCharges\"] > 98.25) & (df[\"MonthlyCharges\"] <= 118.25) & (df[\"tenure\"] > 36)])\n",
    "    \n",
    "    "
   ]
  },
  {
   "cell_type": "code",
   "execution_count": 16,
   "metadata": {},
   "outputs": [
    {
     "name": "stdout",
     "output_type": "stream",
     "text": [
      "Se quedará menos de 36 meses si se le cobran x:\n",
      "Cobro entre (18.25, 38.25]: 0.6375278396436526\n",
      "Cobro entre (38.25, 58.25]: 0.7234468937875751\n",
      "Cobro entre (58.25, 78.25]: 0.6427514792899408\n",
      "Cobro entre (78.25, 98.25]: 0.5696271929824561\n",
      "Cobro entre (98.25, 118.25]: 0.2492970946579194\n",
      "\n",
      "\n",
      "Se quedará más de 36 meses si se le cobran x:\n",
      "Cobro entre (18.25, 38.25]: 0.36247216035634744\n",
      "Cobro entre (38.25, 58.25]: 0.27655310621242485\n",
      "Cobro entre (58.25, 78.25]: 0.3572485207100592\n",
      "Cobro entre (78.25, 98.25]: 0.4303728070175439\n",
      "Cobro entre (98.25, 118.25]: 0.7507029053420806\n"
     ]
    }
   ],
   "source": [
    "print(\"Se quedará menos de 36 meses si se le cobran x:\")\n",
    "print(\"Cobro entre (18.25, 38.25]:\",\n",
    "      probs5.p1_lt/probs3.mOne)\n",
    "print(\"Cobro entre (38.25, 58.25]:\",\n",
    "      probs5.p2_lt/probs3.mTwo)\n",
    "print(\"Cobro entre (58.25, 78.25]:\",\n",
    "      probs5.p3_lt/probs3.mThree)\n",
    "print(\"Cobro entre (78.25, 98.25]:\",\n",
    "      probs5.p4_lt/probs3.mFour)\n",
    "print(\"Cobro entre (98.25, 118.25]:\",\n",
    "      probs5.p5_lt/probs3.mFive)\n",
    "print(\"\\n\")\n",
    "print(\"Se quedará más de 36 meses si se le cobran x:\")\n",
    "print(\"Cobro entre (18.25, 38.25]:\",\n",
    "      probs5.p1_ht/probs3.mOne)\n",
    "print(\"Cobro entre (38.25, 58.25]:\",\n",
    "      probs5.p2_ht/probs3.mTwo)\n",
    "print(\"Cobro entre (58.25, 78.25]:\",\n",
    "      probs5.p3_ht/probs3.mThree)\n",
    "print(\"Cobro entre (78.25, 98.25]:\",\n",
    "      probs5.p4_ht/probs3.mFour)\n",
    "print(\"Cobro entre (98.25, 118.25]:\",\n",
    "      probs5.p5_ht/probs3.mFive)"
   ]
  },
  {
   "cell_type": "markdown",
   "metadata": {},
   "source": [
    "## 2. Máquina de Rube Goldberg\n",
    "\n",
    "Una máquina de Rube Goldberg es un artefacto extremadamente complejo que realiza una tarea fácil. Usted, en su tiempo libre, decidió construir uno de estos artefactos que consta de 5 etapas:\n",
    "\n",
    "<ol>\n",
    "    <li>Lanza una bolita que rueda por un riel con una probabilidad de $\\dfrac{2}{5}$ de caerse</li>\n",
    "    <li>Después de rodar por el riel cae en una catapulta que la lanza en la dirección correcta el $60\\%$ de las veces</li>\n",
    "    <li>Impacta contra una tela que le frena el impulso y la hace caer sobre el interruptor de un ventilador, el $80\\%$ de las veces es capaz de activar el ventilador</li>\n",
    "    <li>Cuando el ventilador se activa empuja un barco de juguete en una fuente con agua hasta el otro extremo de esta para empujar otra bolita, el barco llega con suficiente impulso con una probabilidad de $\\dfrac{6}{9}$</li>\n",
    "    <li>Esta bolita rueda por otro riel y cae sobre el control remoto que enciende su televisor, en un $30\\%$ de las veces logra encenderlo</li>\n",
    "</ol>\n",
    "\n",
    ">a) Usted quiere subir su máquina de Rube Goldberg a Youtube™, estime cuántas veces (en promedio) tendrá que poner en marcha su máquina hasta que resulte por primera vez en video. A su vez, haga un gráfico mostrando la probabilidad de no tener éxito en función del número de puestas en marcha de la máquina y comente."
   ]
  },
  {
   "cell_type": "markdown",
   "metadata": {},
   "source": [
    "### Desarrollo\n",
    "Se realizan 30 experimentos, donde cada uno consiste en calcular si falla o prosigue por un tramo usando una lista con las probabilidades, y una lista con valores, True: si pasa el tramo. Y False: si la bolita falla. Cada experimento termina cuando la bolita hace el circuito completo."
   ]
  },
  {
   "cell_type": "code",
   "execution_count": 17,
   "metadata": {},
   "outputs": [
    {
     "name": "stdout",
     "output_type": "stream",
     "text": [
      "En promedio, la cantidad de veces que se debe repetir el circuito completo en 15000 experimentos es 17\n"
     ]
    }
   ],
   "source": [
    "# Con las probabilidades de ocurrencia en cada sección del trayecto, se crea una lista secuencial de estas\n",
    "# Se usa choices para obtener cada ocurrecia del experimento por cada tramo\n",
    "Probabilidades = [3/5, 0.6, 0.8, 6/9, 0.3]\n",
    "\n",
    "outcomes = [True, False] #pasa, falla\n",
    "\n",
    "totalExpReIter = [] #cantidad successes por experimentos\n",
    "\n",
    "def RGolberg(n):\n",
    "    for i in range(n):\n",
    "        tot = 0\n",
    "        fails = 0\n",
    "        while 1:\n",
    "            tot += 1\n",
    "            if (\n",
    "                choices(outcomes, [Probabilidades[0], 1-Probabilidades[0]]).pop() and\n",
    "                choices(outcomes, [Probabilidades[1], 1-Probabilidades[1]]).pop() and\n",
    "                choices(outcomes, [Probabilidades[2], 1-Probabilidades[2]]).pop() and \n",
    "                choices(outcomes, [Probabilidades[3], 1-Probabilidades[3]]).pop() and \n",
    "                choices(outcomes, [Probabilidades[4], 1-Probabilidades[4]]).pop()):\n",
    "                break\n",
    "        totalExpReIter.append(tot)\n",
    "\n",
    "    print(\"En promedio, la cantidad de veces que se debe repetir el circuito completo en\", n,\"experimentos es\",\n",
    "          round(sum(totalExpReIter)/n))\n",
    "RGolberg(15000)"
   ]
  },
  {
   "cell_type": "code",
   "execution_count": 18,
   "metadata": {},
   "outputs": [
    {
     "data": {
      "image/png": "[encoded data removed]",
      "text/plain": [
       "<Figure size 1080x720 with 1 Axes>"
      ]
     },
     "metadata": {
      "needs_background": "light"
     },
     "output_type": "display_data"
    }
   ],
   "source": [
    "def plotFails(m):\n",
    "    valuesx = [x for x in range(1,m)]\n",
    "    ListaFallos = [] #cantidad de fallos por experimento\n",
    "    ProbTotSucc = np.prod(Probabilidades)\n",
    "    ListaProb = [ProbTotSucc, 1 - ProbTotSucc]\n",
    "    \n",
    "    for expTot in valuesx:\n",
    "        fallos = 0\n",
    "        for gh in range(100):\n",
    "            for expRealiz in range(expTot):\n",
    "                if choices(outcomes, ListaProb).pop():\n",
    "                    break\n",
    "                fallos += 1\n",
    "            \n",
    "        ListaFallos.append(((fallos/100)/expTot))\n",
    "    plt.figure(figsize=(15,10))\n",
    "    plt.xlabel(\"Cantidad de Experimentos\")\n",
    "    plt.ylabel(\"Probabilidad de fallo\")\n",
    "    plt.plot(valuesx, ListaFallos)\n",
    "\n",
    "plotFails(600)"
   ]
  },
  {
   "cell_type": "markdown",
   "metadata": {},
   "source": []
  },
  {
   "cell_type": "markdown",
   "metadata": {},
   "source": [
    "> b) Si usted cuenta con 1000 bolitas, estime tanto téorica como empíricamente cuántas bolitas fallan en cada etapa. Compare sus resultados obtenidos.\n",
    "\n",
    "*Recuerde que habrá una cantidad de bolitas que no fallarán*"
   ]
  },
  {
   "cell_type": "markdown",
   "metadata": {
    "collapsed": true
   },
   "source": [
    "### Desarrollo\n",
    "Para mostrar teóricamente, solo hace falta multiplicar la cantidad de bolitas por la probabilidad de que que se cumpla, por cada segmento del trayecto. Luego"
   ]
  },
  {
   "cell_type": "code",
   "execution_count": 19,
   "metadata": {},
   "outputs": [],
   "source": [
    "# total de bolitas\n",
    "Total = 1000\n",
    "\n",
    "#lista que contendrá la cantidad de bolitas que fallan por tramo\n",
    "winsPorTramo = []\n",
    "for i in Probabilidades:\n",
    "    Total = Total * i\n",
    "    winsPorTramo.append(round(Total))\n",
    "\n",
    "FallosPorTramo = []\n",
    "\n",
    "FallosPorTramo.append(1000 - winsPorTramo[0])\n",
    "FallosPorTramo.append(winsPorTramo[0] - winsPorTramo[1])\n",
    "FallosPorTramo.append(winsPorTramo[1] - winsPorTramo[2])\n",
    "FallosPorTramo.append(winsPorTramo[2] - winsPorTramo[3])\n",
    "FallosPorTramo.append(winsPorTramo[3] - winsPorTramo[4])"
   ]
  },
  {
   "cell_type": "markdown",
   "metadata": {},
   "source": [
    "Para mostrar empíricamente, se hace uso de la función randint del módulo random"
   ]
  },
  {
   "cell_type": "code",
   "execution_count": 20,
   "metadata": {},
   "outputs": [],
   "source": [
    "# Empezamos con 1000 valores, despues del primer tramo, Range cambia a la cantidad de bolitas que lograron\n",
    "# completar el trayecto\n",
    "\n",
    "# Estas listas contienen las probabilidades por tramo\n",
    "probT1 = [3/5, 2/5]\n",
    "probT2 = [0.6, 0.4]\n",
    "probT3 = [0.8, 0.2]\n",
    "probT4 = [6/9, 3/9]\n",
    "probT5 = [0.3, 0.7]\n",
    "\n",
    "# Esta función elige un valor según una lista de probabilidades usando choices\n",
    "def failsWithProb(Range,ListProbs):\n",
    "    \n",
    "    ListValues = [True, False]\n",
    "    List = [choices(ListValues,ListProbs).pop() for i in range(Range)]\n",
    "    x = len(List)\n",
    "    while True in List: List.remove(True)\n",
    "    return (len(List), x - len(List))\n",
    "\n",
    "fails1, Round1 = failsWithProb(1000, probT1)\n",
    "fails2, Round2 = failsWithProb(Round1,probT2)\n",
    "fails3, Round3 = failsWithProb(Round2, probT3)\n",
    "fails4, Round4 = failsWithProb(Round3, probT4)\n",
    "fails5, Round5 = failsWithProb(Round4, probT5)"
   ]
  },
  {
   "cell_type": "code",
   "execution_count": 21,
   "metadata": {},
   "outputs": [
    {
     "name": "stdout",
     "output_type": "stream",
     "text": [
      "Resultados obtenidos teóricamente\n",
      "La cantidad de fallos en el tramo 1 fueron 400\n",
      "La cantidad de fallos en el tramo 2 fueron 240\n",
      "La cantidad de fallos en el tramo 3 fueron 72\n",
      "La cantidad de fallos en el tramo 4 fueron 96\n",
      "La cantidad de fallos en el tramo 5 fueron 134\n",
      "\n",
      "Resultados obtenidos empíricamente\n",
      "La cantidad de fallos en el tramo 1 fueron 374\n",
      "La cantidad de fallos en el tramo 2 fueron 244\n",
      "La cantidad de fallos en el tramo 3 fueron 96\n",
      "La cantidad de fallos en el tramo 4 fueron 106\n",
      "La cantidad de fallos en el tramo 5 fueron 134\n"
     ]
    }
   ],
   "source": [
    "print(\"Resultados obtenidos teóricamente\")\n",
    "a = [print(\"La cantidad de fallos en el tramo\", x + 1, \"fueron\", \n",
    "           FallosPorTramo[x]) for x in range(len(FallosPorTramo))]\n",
    "print(\"\\nResultados obtenidos empíricamente\")\n",
    "print(\"La cantidad de fallos en el tramo 1 fueron\", fails1)\n",
    "print(\"La cantidad de fallos en el tramo 2 fueron\", fails2)\n",
    "print(\"La cantidad de fallos en el tramo 3 fueron\", fails3)\n",
    "print(\"La cantidad de fallos en el tramo 4 fueron\", fails4)\n",
    "print(\"La cantidad de fallos en el tramo 5 fueron\", fails5)"
   ]
  },
  {
   "cell_type": "markdown",
   "metadata": {},
   "source": [
    "Como se puede ver, en ambos casos los resultados son similares, pero en el segundo, los resultados varían según el número que la función choice escoja"
   ]
  },
  {
   "cell_type": "markdown",
   "metadata": {},
   "source": [
    "> c) Determine la función de probabilidad que rige este fenómeno según todos los estados posibles de la bolita"
   ]
  },
  {
   "cell_type": "code",
   "execution_count": null,
   "metadata": {},
   "outputs": [],
   "source": []
  },
  {
   "cell_type": "markdown",
   "metadata": {},
   "source": [
    ">d) Genere 1000 valores aleatorios que sigan la función de probabilidad que encontró en c), haga un histograma y compare con lo obtenido en b)"
   ]
  },
  {
   "cell_type": "code",
   "execution_count": null,
   "metadata": {},
   "outputs": [],
   "source": []
  },
  {
   "cell_type": "markdown",
   "metadata": {},
   "source": [
    "## 3. Perritos Enfermos\n",
    "\n",
    "Usted trabaja en un refugio de animales que se especializa en recibir perros, además de contar con el equipo necesario para tratar con enfermedades que estos puedan presentar. Viendo las noticias se enteró que un virus sumamente peligroso para los perros se está expandiendo rápidamente por la zona y sospecha que algunos de los perros bajo su cuidado pueden estar infectados pero, no presentan un síntoma de momento. Para suerte suya este virus tiene cura hace tiempo y cuenta con el equipo para analizar muestras de saliva para detectar qué perro está infectado con el virus o no.\n",
    "\n",
    "Usted tiene 500 perros, para no hacer la prueba 1 a 1 ha decidido juntar muestras de saliva en grupos de $K$ perros (con $K$ siendo un divisor de 500), y en caso de que el examen arroje positivo hará la prueba 1 a 1 del grupo. Asuma que 8 perros están infectados, pero usted no sabe esto a priori.\n",
    "\n",
    ">a) ¿Es posible determinar **teóricamente** un $K$ tal que la cantidad de veces que se realiza la prueba sea la menor posible? De ser así, encuentre dicho K. ¿Qué distribución es comparable a este fenómeno?"
   ]
  },
  {
   "cell_type": "code",
   "execution_count": 22,
   "metadata": {},
   "outputs": [
    {
     "ename": "SyntaxError",
     "evalue": "invalid syntax (<ipython-input-22-faa297e405f7>, line 2)",
     "output_type": "error",
     "traceback": [
      "\u001b[1;36m  File \u001b[1;32m\"<ipython-input-22-faa297e405f7>\"\u001b[1;36m, line \u001b[1;32m2\u001b[0m\n\u001b[1;33m    K E {1,2,4,5,10,20,25,50,100,125,250,500}\u001b[0m\n\u001b[1;37m      ^\u001b[0m\n\u001b[1;31mSyntaxError\u001b[0m\u001b[1;31m:\u001b[0m invalid syntax\n"
     ]
    }
   ],
   "source": [
    "#NORMAL AAAHH\n",
    "K E {1,2,4,5,10,20,25,50,100,125,250,500}\n",
    "#en ese caso estaría por la mitad aprox ...mmmmmmgrdsrgklsdgñ"
   ]
  },
  {
   "cell_type": "markdown",
   "metadata": {},
   "source": [
    ">b) Encuentre **empíricamente** un valor de $K$ que minimice la cantidad de veces que se realiza la prueba y compare con el obtenido en b)"
   ]
  },
  {
   "cell_type": "code",
   "execution_count": null,
   "metadata": {},
   "outputs": [],
   "source": []
  },
  {
   "cell_type": "markdown",
   "metadata": {},
   "source": [
    ">c) Ahora usted conoce la cantidad de perros infectados, realice el mismo experimento que en b) y compare sus resultados. ¿A qué se debe esta diferencia? "
   ]
  },
  {
   "cell_type": "code",
   "execution_count": null,
   "metadata": {},
   "outputs": [],
   "source": []
  },
  {
   "cell_type": "markdown",
   "metadata": {},
   "source": [
    "## Reglas del Juego y Comentarios \n",
    "\n",
    "+ Errores ortográficos, de redacción y oraciones ambiguas descontarán parte de su puntaje.\n",
    "+ Dudas solamente hasta el día 27 de Abril a las 15hrs.\n",
    "+ Dudas **principalmente** vía moodle, evite otro tipo de medio ya que su duda podría ser la de otro.\n",
    "+ Cada día de atraso descuenta 25 puntos de la nota final con un máximo de dos días de retraso (después es 0).\n",
    "+ La versión de R que se usará para revisar es 3.5.3\n",
    "+ La versión de Python que se usará para revisar es 3.6.8\n",
    "+ Use cualquier librería que estime conveniente, si requiere de instalación explicitarlo en el README (y bien explicitado).\n",
    "+ Código comentado para facilitar entendimiento.\n",
    "+ Sea formal y claro con su respuesta, **explique su procedimiento y luego responda.** \n",
    "+ Defina bien las secciones de su notebook, el orden siempre es bueno :) [Tips para usar Markdown](https://github.com/adam-p/markdown-here/wiki/Markdown-Cheatsheet)"
   ]
  }
 ],
 "metadata": {
  "kernelspec": {
   "display_name": "Python 3",
   "language": "python",
   "name": "python3"
  },
  "language_info": {
   "codemirror_mode": {
    "name": "ipython",
    "version": 3
   },
   "file_extension": ".py",
   "mimetype": "text/x-python",
   "name": "python",
   "nbconvert_exporter": "python",
   "pygments_lexer": "ipython3",
   "version": "3.7.3"
  },
  "widgets": {
   "state": {
    "547222c7693644a29b38b21b706610b5": {
     "views": [
      {
       "cell_index": 3
      }
     ]
    }
   },
   "version": "1.2.0"
  }
 },
 "nbformat": 4,
 "nbformat_minor": 2
}
