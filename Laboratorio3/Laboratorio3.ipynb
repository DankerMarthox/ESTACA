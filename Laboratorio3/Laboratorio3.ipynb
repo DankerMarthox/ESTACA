{
 "cells": [
  {
   "cell_type": "markdown",
   "metadata": {},
   "source": [
    "<img src=\"img/usmlogo.png\" style=\"float:right;height:85px\"> <img src=\"img/dilogo.png\" style=\"float:left;height:90px\">\n",
    "<center>\n",
    "    <h1> Laboratorio 3 </h1>\n",
    "    <h2> Profesor: Ricardo Ñanculef </h2>\n",
    "    <h3> Ayudante: Gabriel Ortega </h3>\n",
    "    <h4> Martin Salinas Scussolin; 201773557-0 ; Malla Nueva </h4>\n",
    "    <h4> Jose Quezada Silva ; 201773528-7 ; Malla Nueva </h4>\n",
    "</center>\n",
    "<p>\n",
    "<center><h4>Mayo 2019</h4></center>\n",
    "</p>"
   ]
  },
  {
   "cell_type": "markdown",
   "metadata": {},
   "source": [
    "## Instrucciones\n",
    "\n",
    "La modalidad de trabajo será mediante el uso de jupyter notebook. El notebook debe ser desarrollado en parejas o individual. Este laboratorio debe ser entregado el día *cuando se baje el paro hay fecha*.\n",
    "\n",
    "La **modalidad de entrega será un archivo Apellido1_Apellido2_Lab3.zip** que contenga un notebook que incluya todas las preguntas con sus respectivas respuestas + un README que indique la forma correcta de ejecutar su notebook. El laboratorio puede ser trabajado tanto en lenguaje R como en lenguaje python (para los que usen python 2.X, absténganse a las consecuencias). Lea bien el enunciado.\n",
    "\n",
    "\n",
    "**Cualquier copia detectada implicará nota 0 en el laboratorio correspondiente y se notificará la situación al profesor.**\n"
   ]
  },
  {
   "cell_type": "code",
   "execution_count": 1,
   "metadata": {},
   "outputs": [],
   "source": [
    "import pandas as pd\n",
    "import numpy as np\n",
    "import matplotlib.pyplot as plt\n",
    "from random import choices\n",
    "import statistics\n",
    "from scipy import stats\n",
    "import math"
   ]
  },
  {
   "cell_type": "markdown",
   "metadata": {},
   "source": [
    "## 1. LDA (40p)\n",
    "\n",
    "Es de mucho interés hoy en día el hecho de poder construir un clasificador que pueda inferir reglas a partir de los datos para poder predecir a futuro, en esta sección trabajará con una versión simplificada del dataset del titanic (data_titanic.csv), la que contiene 3 columnas:\n",
    "\n",
    "* Age: la edad del pasajero\n",
    "* Fare: el precio del boleto\n",
    "* Survived: si sobrevivió a la tragedia o no\n",
    "\n",
    "(Si, estamos en el ámbito multivariado ahora)\n",
    "\n",
    "El clasificador, en breves palabras, intenta maximizar $P(Y=survived|X=age,fare)$ asumiendo que los datos ($X$) provienen de una distribución Gaussiana Multivariada. Se espera que usted sea capaz de obtener los máximos verosímiles de los parámetros de esta distribución para poder construir su clasificador **a mano**.\n",
    "\n",
    ">a) Construya un clasificador LDA que permita distinguir si un pasajero sobrevive o no dado su edad y precio del ticket. *Recomendación: Puede separar una cantidad pequeña de datos para utilizarlos para probar su clasificador, es muy importante que si hace esto, estos datos no sean utilizados en la construcción del clasificador* \n",
    "\n",
    "Cualquier uso de las funciones provistas por los lenguajes que implementen LDA implica puntaje 0 en esta sección **sin excepción**.\n",
    "\n",
    "Esta pregunta es un poco extensa por lo que se recomienda leer bien el material provisto (mas abajo) y los libros guías del curso. No es necesario que responda todo de una, puede ir por partes, es más, esto es recomendable porque así puede ir ganando puntaje y no jugarse todo en un \"funciona/no funciona\" recuerde explicar bien su razonamiento.\n",
    "\n",
    "Si se complica mucho intente el caso univariado primero (fare vs survived ó age vs survived), si solamente presenta el univariado podrá optar a solamente 10 puntos del total (siempre y cuando esté bien).\n",
    "\n",
    "Material que podría resultar útil:\n",
    "* [Video](https://www.youtube.com/watch?v=azXCzI57Yfc)\n",
    "* [Articulo LDA](https://towardsdatascience.com/classification-part-2-linear-discriminant-analysis-ea60c45b9ee5)\n",
    "* [Explicacion matematica de sklearn](https://scikit-learn.org/stable/modules/lda_qda.html#lda-qda)\n",
    "* Libros Guía indicados en el Syllabus(verosimilitud)\n"
   ]
  },
  {
   "cell_type": "markdown",
   "metadata": {},
   "source": [
    "## 2. Teorema de la Función Inversa (10p)\n",
    "\n",
    "El teorema de la función inversa permite generar variables aleatorias continuas con una función de distribución $F(x)$ a partir de la inversa $F^{-1}(x)$. Donde los valores generados en la función inversa están regidos por una distribución uniforme $u \\sim U(0,1)$. \n",
    "\n",
    "En esta sección se trabajará con la distribución Weibull, cuya función de densidad de probabilidad está dada por:\n",
    "\n",
    "\\begin{aligned}\n",
    "Weibull(\\alpha,\\beta) = \\frac{\\alpha}{\\beta^{\\alpha}}x^{\\alpha -1}\\cdot exp \\left( \\frac{-x}{\\beta}\\right)^{\\alpha}\n",
    "\\end{aligned}\n",
    "\n",
    "Para trabajar el teorema de la función inversa siga los siguientes pasos:\n",
    "\n",
    "1. Identificar la función que defina a la variable aleatoria.\n",
    "2. De dicha función calcular la función de densidad acumulada. Explique en breves palabras como obtenerla y si es invertible o no (Lo de invertible hace referencia a esta función de densidad acumulada Weibull en particular y no olvide mencionar cual es la función de densidad acumulada Weibull).\n",
    "3. De la función de densidad acumulada despejar la variable X. La distribución Weibull a trabajar tiene parámetros $\\alpha = 10$ y $\\beta = 3$\n",
    "4. Generar 10000 valores que siguen la distribución $u \\sim U(0,1)$ y utilícelos como argumento en la función inversa encontrada\n",
    "5. Genere una distribución weibull de tamaño 10000 con los mismos $\\alpha$ y $\\beta$ que la trabajada. Y haga un gráfico de la densidad de dichos valores. \n",
    "6. Concluya respecto a lo que observa en ambas gráficas."
   ]
  },
  {
   "cell_type": "markdown",
   "metadata": {},
   "source": [
    "### Desarrollo\n",
    "\n",
    "1)Notamos que la función que define a la variable aleatoria es la siguiente\n",
    "\n",
    "$$f(x;\\alpha,\\beta) = \\frac{\\alpha}{\\beta^\\alpha}x^{\\alpha - 1}\\cdot exp\\left( \\frac{-x}{\\beta}\\right)^{\\alpha}$$\n",
    "\n",
    "2)Usando las propiedades, la función de densidad acumulada se puede obtener integrando $f(x;\\alpha,\\beta)$ desde $-\\infty$ hasta la variable aleatoria $X$:\n",
    "\n",
    "$$F(X;\\alpha,\\beta) = \\int_{-\\infty}^{X}f(x;\\alpha,\\beta)\\ dx$$\n",
    "\n",
    "resultando en:\n",
    "\n",
    "$$\\int_{-\\infty}^{X} \\frac{\\alpha}{\\beta^\\alpha}x^{\\alpha - 1}\\cdot exp\\left( \\frac{-x}{\\beta}\\right)^{\\alpha}\\ dx\\ \\ =\\ 1 - exp\\left( \\frac{-X}{\\beta}\\right)^{\\alpha}$$ \n",
    "\n",
    "Luego, la función de distribución acumulada queda:\n",
    "$$F(X;\\alpha,\\beta) = \\ 1 - exp\\left( \\frac{-X}{\\beta}\\right)^{\\alpha}$$ \n",
    "\n",
    "Notamos que esta función es biyetiva en ($-\\infty,1)$ y por lo tanto invertible.\n",
    "\n",
    "3)Reemplazando $\\alpha = 10, \\beta = 3$, nos queda:\n",
    "\n",
    "$$F(X) = \\ 1 - exp\\left( \\frac{-X}{3}\\right)^{10}$$ \n",
    "\n",
    "Despejando $X$:\n",
    "$$ln(1 - Y) = ln\\left(exp\\left( \\frac{-X}{3}\\right)^{10}\\right)$$\n",
    "\n",
    "$$X = \\frac{3}{10}ln\\left(\\frac{1}{1 - Y}\\right)$$ \n",
    "\n",
    "O bien:\n",
    "\n",
    "$$X = -\\frac{3}{10}ln(1 - Y)$$ "
   ]
  },
  {
   "cell_type": "code",
   "execution_count": 23,
   "metadata": {},
   "outputs": [
    {
     "data": {
      "image/png": "[encoded data removed]",
      "text/plain": [
       "<Figure size 1440x720 with 1 Axes>"
      ]
     },
     "metadata": {
      "needs_background": "light"
     },
     "output_type": "display_data"
    }
   ],
   "source": [
    "# 4) Al generar los valores según la distribución u, se tiene que:\n",
    "\n",
    "x = lambda a: 3 *(math.log(1/(1-a))**(1/10))         # Función inversa\n",
    "data = stats.uniform.rvs(loc=0,scale=1, size=10000)  # datos de distribucion uniforme\n",
    "data2 = [x(y) for y in data]                         # se le aplica la funcion inversa a los datos de la distribucion uniforme\n",
    "\n",
    "# funcion que obtiene datos de una distribucion de weibull con parametros a y b de tamaño (size)\n",
    "def lambTimesWeib(a,b,size):                         \n",
    "    x = np.random.weibull(a=a,size=size)\n",
    "    return b*x\n",
    "\n",
    "y = lambTimesWeib(10,3,10000)                       # datos distribucion de weibull\n",
    "\n",
    "\n",
    "#------------ PLOT ----------------#\n",
    "bins = 75\n",
    "plt.figure(figsize=(20,10))\n",
    "\n",
    "plt.hist(y, bins=bins, histtype=\"step\", label=\"Distribución Weibull\")\n",
    "plt.hist(data2, bins=bins, alpha=1, histtype=\"step\", label=\"Función Inversa\")\n",
    "\n",
    "plt.legend(loc='best', prop={'size': 20})\n",
    "plt_=plt.plot()"
   ]
  },
  {
   "cell_type": "markdown",
   "metadata": {},
   "source": [
    "### Resupuesta\n",
    "\n",
    "En base a los gráficos obtenidos, se puede ver una semejanza aprente en los gráficos de las distribuciones, ergo, podemos decir que funcionó. :)"
   ]
  },
  {
   "cell_type": "markdown",
   "metadata": {},
   "source": [
    "## 3. Teorema del Límite Central (30p)\n",
    "\n",
    "El teorema del límite central es uno de los postulados más importantes de estadística. En esta sección se procederá a comprobarlo en su forma clásica. \n",
    "\n",
    "Sea $x_{1},x_{2},....,x_{n}$ una muestra aleatoria de tamaño $n$ IID extraidas de una distribución con valor esperado $\\mu$ y varianza finita $\\sigma^{2}$. Si calculamos la media muestral: \n",
    "\n",
    "$$ \\bar{X}_{n} = \\frac{\\sum x_{i}}{n}$$\n",
    "\n",
    "Y repetimos este proceso una gran cantidad de veces $(P)$ tendremos una distribución de las medias de las muestras (*Sample mean distribution*). El TLC establece que, si el número de repeticiones es lo suficientemente grande: \n",
    "\n",
    "$$ \\bar{X} \\sim N\\left(\\mu,\\sqrt{\\frac{\\sigma^{2}}{n}}\\right)$$ \n",
    "\n",
    "En esta sección se trabajará con la siguiente distribución y se demostrará lo que enuncia el TLC.\n",
    "\n",
    "| Valor | Probabilidad |\n",
    "|:-----:|:------------:|\n",
    "|   1   |      0.1     |\n",
    "|   2   |      0.2     |\n",
    "|   5   |     0.05     |\n",
    "|   6   |     0.05     |\n",
    "|   7   |      0.2     |\n",
    "|   9   |     0.10     |\n",
    "|   10  |     0.05     |\n",
    "|   11  |     0.2      |\n",
    "|   12  |     0.05     |\n",
    "\n",
    ">a) Determine el valor esperado y la varianza **TEÓRICOS**"
   ]
  },
  {
   "cell_type": "markdown",
   "metadata": {},
   "source": [
    "### Desarrollo\n",
    "\n",
    "Dada la fórmula del valor esperado:\n",
    "$$ E[X] = \\sum_{x \\in R_{X}} {x \\cdot P(x)} $$\n",
    "\n",
    "y la fórmula para la varianza:\n",
    "$$ \\sigma^2 (x) = E[X^2] - E[X]^2 $$\n",
    "Se tiene que los valores teóricos serán:"
   ]
  },
  {
   "cell_type": "code",
   "execution_count": 4,
   "metadata": {},
   "outputs": [
    {
     "name": "stdout",
     "output_type": "stream",
     "text": [
      "El valor esperado es:  6.65\n",
      "La varianza es:  14.03\n"
     ]
    }
   ],
   "source": [
    "valorEsperado =   1*0.1 + 2*0.2 + 5*0.05 + 6*0.05 + 7*0.2 + 9*0.10 + 10*0.05 + 11*0.2 + 12*0.05 \n",
    "sqrdEsp =   (1**2)*0.1 + (2**2)*0.2 + (5**2)*0.05 + (6**2)*0.05 + (7**2)*0.2 + (9**2)*0.10 + (10**2)*0.05 + (11**2)*0.2 + (12**2)*0.05 \n",
    "Varianza = sqrdEsp - (valorEsperado**2)\n",
    "print(\"El valor esperado es: \", valorEsperado)\n",
    "print(\"La varianza es: \", round(Varianza,2))"
   ]
  },
  {
   "cell_type": "markdown",
   "metadata": {},
   "source": [
    ">b) Con $P = 10,1000$ calcule la media de muestras de tamaño : $n \\in[2,10,30,100,1000]$ compare los resultados obtenidos para los dos $P$ dados. Presente los datos en una tabla ordenada con columnas: $n,\\;P=10,\\;P=1000$ Comente, ¿qué parece influir mas, la cantidad de repeticiones, el tamaño de la muestra o ambas?"
   ]
  },
  {
   "cell_type": "code",
   "execution_count": 22,
   "metadata": {},
   "outputs": [],
   "source": [
    "\n",
    "# funcion que selecciona una cantidad de veces determinada (repExp), (numsToDraw) numeros con probabilidad (probs)\n",
    "def selectRandom(repetitionsExp, numsToDraw, values, probs):\n",
    "    lRet = list()\n",
    "    for exp in range(repetitionsExp):\n",
    "        alpha = list()\n",
    "        for num in range(numsToDraw):\n",
    "            alpha.append(choices(values, probs).pop())      \n",
    "        lRet.append(statistics.mean(alpha))\n",
    "    return lRet\n",
    "\n",
    "# funcion que añade los datos a una lista del experimento\n",
    "def appendExpToList(newList, Exps, values, probs, reps):\n",
    "    for i in Exps:\n",
    "        newList.append(selectRandom(reps, i, values, probs))\n",
    "        \n",
    "tablaValores = [1, 2, 5, 6, 7, 9, 10, 11, 12]\n",
    "tablaProbs = [0.1, 0.2, 0.05, 0.05, 0.2, 0.1, 0.05, 0.2, 0.05]\n",
    "\n",
    "n = [2,10,30,100,1000]\n",
    "\n",
    "P10 = list()\n",
    "P1000 = list()\n",
    "\n",
    "appendExpToList(P10, n, tablaValores, tablaProbs, 10)\n",
    "appendExpToList(P1000, n, tablaValores, tablaProbs, 1000)"
   ]
  },
  {
   "cell_type": "code",
   "execution_count": 6,
   "metadata": {},
   "outputs": [
    {
     "data": {
      "text/html": [
       "<div>\n",
       "<style scoped>\n",
       "    .dataframe tbody tr th:only-of-type {\n",
       "        vertical-align: middle;\n",
       "    }\n",
       "\n",
       "    .dataframe tbody tr th {\n",
       "        vertical-align: top;\n",
       "    }\n",
       "\n",
       "    .dataframe thead th {\n",
       "        text-align: right;\n",
       "    }\n",
       "</style>\n",
       "<table border=\"1\" class=\"dataframe\">\n",
       "  <thead>\n",
       "    <tr style=\"text-align: right;\">\n",
       "      <th></th>\n",
       "      <th>n</th>\n",
       "      <th>P = 10</th>\n",
       "      <th>P = 1000</th>\n",
       "    </tr>\n",
       "  </thead>\n",
       "  <tbody>\n",
       "    <tr>\n",
       "      <th>0</th>\n",
       "      <td>2</td>\n",
       "      <td>6.5000</td>\n",
       "      <td>6.6080</td>\n",
       "    </tr>\n",
       "    <tr>\n",
       "      <th>1</th>\n",
       "      <td>10</td>\n",
       "      <td>6.7800</td>\n",
       "      <td>6.6485</td>\n",
       "    </tr>\n",
       "    <tr>\n",
       "      <th>2</th>\n",
       "      <td>30</td>\n",
       "      <td>7.0300</td>\n",
       "      <td>6.6604</td>\n",
       "    </tr>\n",
       "    <tr>\n",
       "      <th>3</th>\n",
       "      <td>100</td>\n",
       "      <td>6.6570</td>\n",
       "      <td>6.6533</td>\n",
       "    </tr>\n",
       "    <tr>\n",
       "      <th>4</th>\n",
       "      <td>1000</td>\n",
       "      <td>6.6061</td>\n",
       "      <td>6.6500</td>\n",
       "    </tr>\n",
       "  </tbody>\n",
       "</table>\n",
       "</div>"
      ],
      "text/plain": [
       "      n  P = 10  P = 1000\n",
       "0     2  6.5000    6.6080\n",
       "1    10  6.7800    6.6485\n",
       "2    30  7.0300    6.6604\n",
       "3   100  6.6570    6.6533\n",
       "4  1000  6.6061    6.6500"
      ]
     },
     "execution_count": 6,
     "metadata": {},
     "output_type": "execute_result"
    }
   ],
   "source": [
    "P10_2 = [statistics.mean(x) for x in P10]\n",
    "P1000_2 = [statistics.mean(x) for x in P1000]\n",
    "\n",
    "dataFrameToShow = pd.DataFrame({\"n\" : n, \"P = 10\" : P10_2, \"P = 1000\" : P1000_2})\n",
    "dataFrameToShow.round(4)"
   ]
  },
  {
   "cell_type": "markdown",
   "metadata": {},
   "source": [
    "Con los datos obtenidos anteriormente, se puede ver una mayor influencia aparente de la cantidad de repeticiones del experimento, dado que los datos están más cercanos a 6.65 en la columna de P = 1000."
   ]
  },
  {
   "cell_type": "markdown",
   "metadata": {},
   "source": [
    ">c) Con lo obtenido en b) haga un histograma para las muestras de tamaño 2, 30 y 1000 de P = 1000. Comente lo que observa y concluya. ¿Se cumple lo que enuncia el teorema del límite central?"
   ]
  },
  {
   "cell_type": "markdown",
   "metadata": {},
   "source": [
    "### Desarrollo\n",
    "Al ordenar los datos en un dataframe, se tiene una mayor facilidad para graficar los datos en boxplots. Se toman los datos para n = 2, 30, 1000 de P = 1000 como columnas del dataframe. Para luego tomarlas cada una como grafico."
   ]
  },
  {
   "cell_type": "code",
   "execution_count": 21,
   "metadata": {},
   "outputs": [
    {
     "data": {
      "image/png": "[encoded data removed]",
      "text/plain": [
       "<Figure size 864x612 with 4 Axes>"
      ]
     },
     "metadata": {
      "needs_background": "light"
     },
     "output_type": "display_data"
    }
   ],
   "source": [
    "dfBoxPlt_1000 = pd.DataFrame({\"n = 2\": P1000[0],\"n = 30\": P1000[2],\"n = 1000\": P1000[4]})\n",
    "dfBoxPlt_1000.hist(figsize=(12,8.5))\n",
    "plt.show()"
   ]
  },
  {
   "cell_type": "markdown",
   "metadata": {},
   "source": [
    "### Respuesta\n",
    "Al observar los boxplots, se puede ver que hay una mayor concentración de los datos alrededor de lo que sería el promedio teórico para n = 1000, por lo que se puede ver reflejado, siempre y cuando existan una cantidad de datos decente (mayor que 2), que los datos obtenidos seguirán una distribucion normal.\n"
   ]
  },
  {
   "cell_type": "markdown",
   "metadata": {},
   "source": [
    "## 4. Ley de los Grandes Números (20p)\n",
    "\n",
    "En estadística, la ley de los grandes números engloba teoremas que describen el comportamiento del promedio de una distribución de variables aleatorias. La ley de los grandes números dice que, en pocas palabras, a medida que se aumenta el tamaño muestral el promedio de la distribución de variables aleatorias converge al promedio de la población completa.\n",
    "\n",
    "Un estudio realizado en el casino de la universidad MSU, indica que el tiempo de espera en la cola del casino para obtener su almuerzo puede modelarse como una distribución Exponencial con parámetro: $\\lambda = 0.1$\n",
    "\n",
    ">a) **Utilizando las funciones provistas por los lenguajes** calcule la probabilidad **teórica** de que un alumno espere menos de 10 minutos, exactamente 20 minutos y más de 50 minutos."
   ]
  },
  {
   "cell_type": "markdown",
   "metadata": {},
   "source": [
    "### Desarrollo\n",
    "\n",
    "Dadas las funciones de python es posible calcular para $\\lambda = 0.1$ con el parámetro scale de la función stats.expon de scipy, además se utiliza la función de probabilidad acumulada cdf."
   ]
  },
  {
   "cell_type": "code",
   "execution_count": 9,
   "metadata": {},
   "outputs": [
    {
     "name": "stdout",
     "output_type": "stream",
     "text": [
      "Probabilidad de que un alumno espere menos de 10 min:     0.632\n",
      "Probabildiad de que un alumno espere exactamente 20 min:  0.014\n",
      "Probabilidad de que un alumno espere más de 50 min:       0.007\n"
     ]
    }
   ],
   "source": [
    "expDistrib = stats.expon(scale=1/0.1)\n",
    "PX10 = expDistrib.cdf(x=10)\n",
    "PX20 = expDistrib.pdf(x=20)\n",
    "PX50 = expDistrib.cdf(x=50)\n",
    "\n",
    "print(\"Probabilidad de que un alumno espere menos de 10 min:    \", round(PX10, 3))\n",
    "print(\"Probabildiad de que un alumno espere exactamente 20 min: \", round(PX20, 3))\n",
    "print(\"Probabilidad de que un alumno espere más de 50 min:      \", round(1 - PX50, 3))"
   ]
  },
  {
   "cell_type": "markdown",
   "metadata": {},
   "source": [
    ">b) Ahora genere 3 muestras de dicha distribución exponencial, con tamaños n = 5, 100, 300, 10000. Para cada una de estas muestras determine las mismas probabilidades calculadas en a) de manera empírica, comente sus resultados."
   ]
  },
  {
   "cell_type": "code",
   "execution_count": 10,
   "metadata": {},
   "outputs": [
    {
     "data": {
      "text/html": [
       "<div>\n",
       "<style scoped>\n",
       "    .dataframe tbody tr th:only-of-type {\n",
       "        vertical-align: middle;\n",
       "    }\n",
       "\n",
       "    .dataframe tbody tr th {\n",
       "        vertical-align: top;\n",
       "    }\n",
       "\n",
       "    .dataframe thead th {\n",
       "        text-align: right;\n",
       "    }\n",
       "</style>\n",
       "<table border=\"1\" class=\"dataframe\">\n",
       "  <thead>\n",
       "    <tr style=\"text-align: right;\">\n",
       "      <th></th>\n",
       "      <th>Probability</th>\n",
       "      <th>n = 5</th>\n",
       "      <th>n = 100</th>\n",
       "      <th>n = 300</th>\n",
       "      <th>n = 10000</th>\n",
       "    </tr>\n",
       "  </thead>\n",
       "  <tbody>\n",
       "    <tr>\n",
       "      <th>0</th>\n",
       "      <td>X &lt; 10</td>\n",
       "      <td>0.466667</td>\n",
       "      <td>0.656667</td>\n",
       "      <td>0.648889</td>\n",
       "      <td>0.633200</td>\n",
       "    </tr>\n",
       "    <tr>\n",
       "      <th>1</th>\n",
       "      <td>X = 20</td>\n",
       "      <td>0.000000</td>\n",
       "      <td>0.000000</td>\n",
       "      <td>0.000000</td>\n",
       "      <td>0.000000</td>\n",
       "    </tr>\n",
       "    <tr>\n",
       "      <th>2</th>\n",
       "      <td>X &gt; 50</td>\n",
       "      <td>0.000000</td>\n",
       "      <td>0.003333</td>\n",
       "      <td>0.010000</td>\n",
       "      <td>0.006133</td>\n",
       "    </tr>\n",
       "  </tbody>\n",
       "</table>\n",
       "</div>"
      ],
      "text/plain": [
       "  Probability     n = 5   n = 100   n = 300  n = 10000\n",
       "0      X < 10  0.466667  0.656667  0.648889   0.633200\n",
       "1      X = 20  0.000000  0.000000  0.000000   0.000000\n",
       "2      X > 50  0.000000  0.003333  0.010000   0.006133"
      ]
     },
     "execution_count": 10,
     "metadata": {},
     "output_type": "execute_result"
    }
   ],
   "source": [
    "\n",
    "# función que retorna una lista con 3 arreglos de distribucion exponencial de tamaño n\n",
    "def returnSets(n):\n",
    "    return [stats.expon.rvs(scale=1/0.1, size=n) for i in range(3)]\n",
    "\n",
    "# funcion que calcula las probabilidades solicitadas en base al set de datos de la funcion anterior\n",
    "def probSet(s):\n",
    "    retList = list()\n",
    "    for i in s:\n",
    "        ListProb10 = list()\n",
    "        ListProb20 = list()\n",
    "        ListProb50 = list()\n",
    "        for x in i:            \n",
    "            if x < 10: ListProb10.append(1)\n",
    "            elif x == 20: ListProb20.append(1)\n",
    "            elif x > 50: ListProb50.append(1)\n",
    "        \n",
    "        retList.append((sum(ListProb10)/len(i), sum(ListProb20)/len(i), sum(ListProb50)/len(i)))\n",
    "    return retList\n",
    "\n",
    "# funcion que calcula las probabilidades finales sumandolas y obteniendo el promedio entre ellas\n",
    "def sumProbSet(s):\n",
    "    final = list()\n",
    "    x, y, z = s\n",
    "    final.append((x[0]+y[0]+z[0])/3)\n",
    "    final.append((x[1]+y[1]+z[1])/3)\n",
    "    final.append((x[2]+y[2]+z[2])/3)\n",
    "    return final\n",
    "\n",
    "# funcion que retorna el promedio de un set de datos tipo probset (de la funcion returnSets)\n",
    "def listMean(L):\n",
    "    return sum([statistics.mean(x) for x in L])/3\n",
    "\n",
    "t5 = returnSets(5)\n",
    "t100 = returnSets(100)\n",
    "t300 = returnSets(300)\n",
    "t10000 = returnSets(10000)\n",
    "\n",
    "n5 = sumProbSet(probSet(t5))\n",
    "n100 = sumProbSet(probSet(t100))\n",
    "n300 = sumProbSet(probSet(t300))\n",
    "n10000 = sumProbSet(probSet(t10000))\n",
    "\n",
    "pd.DataFrame({\"Probability\": [\"X < 10\", \"X = 20\", \"X > 50\"],\n",
    "                   \"n = 5\": n5,\"n = 100\": n100,\"n = 300\": n300, \n",
    "                   \"n = 10000\": n10000})"
   ]
  },
  {
   "cell_type": "markdown",
   "metadata": {},
   "source": [
    "Según los resultados obtenidos, se puede apeciar que a medida que aumenta la cantidad de datos en la muestra, los resultados deseados se acercarán más a los resultados teóricos. Además se puede apreciar que el resultado de X = 20 debe ser 0, lo que resulta ser cierto, sin embargo, la probabilidad teórica en este caso es cercana a 0, puesto que el valor tiene un output de función probabilidad cercano a 0."
   ]
  },
  {
   "cell_type": "markdown",
   "metadata": {},
   "source": [
    ">c) ¿Cuál debería ser la media **teórica** de todas estas distribuciones? ¿Y cuál es la empírica? ¿Si difieren o son iguales a qué se debe esto?"
   ]
  },
  {
   "cell_type": "markdown",
   "metadata": {},
   "source": [
    "### Desarrollo \n",
    "En este caso, la media teórica de las distribuciones, debe ser $\\frac{1}{\\lambda}$.\n",
    "Por lo que se tiene $\\bar{x} = \\frac{1}{0.1} = 10$.\n",
    "\n",
    "En el caso de la media emprírica, se tiene lo siguiente:"
   ]
  },
  {
   "cell_type": "code",
   "execution_count": 11,
   "metadata": {},
   "outputs": [
    {
     "data": {
      "text/html": [
       "<div>\n",
       "<style scoped>\n",
       "    .dataframe tbody tr th:only-of-type {\n",
       "        vertical-align: middle;\n",
       "    }\n",
       "\n",
       "    .dataframe tbody tr th {\n",
       "        vertical-align: top;\n",
       "    }\n",
       "\n",
       "    .dataframe thead th {\n",
       "        text-align: right;\n",
       "    }\n",
       "</style>\n",
       "<table border=\"1\" class=\"dataframe\">\n",
       "  <thead>\n",
       "    <tr style=\"text-align: right;\">\n",
       "      <th></th>\n",
       "      <th>Cantidad de datos</th>\n",
       "      <th>Promedio</th>\n",
       "    </tr>\n",
       "  </thead>\n",
       "  <tbody>\n",
       "    <tr>\n",
       "      <th>0</th>\n",
       "      <td>5</td>\n",
       "      <td>13.771192</td>\n",
       "    </tr>\n",
       "    <tr>\n",
       "      <th>1</th>\n",
       "      <td>100</td>\n",
       "      <td>10.052461</td>\n",
       "    </tr>\n",
       "    <tr>\n",
       "      <th>2</th>\n",
       "      <td>300</td>\n",
       "      <td>10.573957</td>\n",
       "    </tr>\n",
       "    <tr>\n",
       "      <th>3</th>\n",
       "      <td>10000</td>\n",
       "      <td>9.927065</td>\n",
       "    </tr>\n",
       "  </tbody>\n",
       "</table>\n",
       "</div>"
      ],
      "text/plain": [
       "  Cantidad de datos   Promedio\n",
       "0                 5  13.771192\n",
       "1               100  10.052461\n",
       "2               300  10.573957\n",
       "3             10000   9.927065"
      ]
     },
     "execution_count": 11,
     "metadata": {},
     "output_type": "execute_result"
    }
   ],
   "source": [
    "# tabla con la información. Se utiliza un dataframe para una mejor estética.\n",
    "pd.DataFrame({\"Cantidad de datos\" : [\"5\",\"100\",\"300\",\"10000\"], \"Promedio\" : [listMean(t5), listMean(t100), \n",
    "                                                                             listMean(t300), listMean(t10000)]})"
   ]
  },
  {
   "cell_type": "markdown",
   "metadata": {},
   "source": [
    "Se puede ver que los resultados obtenidos empíricamente, son muy similares al resultado teórico. Sin embargo, cada vez que se aumenta la cantidad de datos en la muestra, el promedio es mucho más cercano a el valor teórico, esto se debe a la diferencia en la cantidad de datos puesto que al tener más, se puede acercar mejor a la distribución total, lo que significa que se acercarán más al promedio teórico."
   ]
  },
  {
   "cell_type": "markdown",
   "metadata": {},
   "source": [
    ">d) Genere **un** gráfico de 4 boxplot (1 de cada distribución) y compárelos. Comente lo que observa y concluya respecto a la ley de los grandes números."
   ]
  },
  {
   "cell_type": "code",
   "execution_count": 16,
   "metadata": {},
   "outputs": [
    {
     "data": {
      "image/png": "[encoded data removed]",
      "text/plain": [
       "<Figure size 1440x540 with 1 Axes>"
      ]
     },
     "metadata": {
      "needs_background": "light"
     },
     "output_type": "display_data"
    }
   ],
   "source": [
    "plt.figure(figsize=(20,7.5))                            # se prepara el tamaño del grafico\n",
    "plt.title(\"Distribuciones de tamaño n\",fontsize=20)     # titulo\n",
    "plt.boxplot([t5[0],                                     \n",
    "             t100[0],\n",
    "             t300[0],\n",
    "             t10000[0]], showfliers=False)              # se grafica en boxplots sin outliers \n",
    "a, labels =plt.xticks()\n",
    "labels = [\"n = 5\", \"n = 100\", \"n = 300\", \"n = 10000\"]   # etiquetas del eje x\n",
    "plt.xticks(a,labels, fontsize=25)                       \n",
    "m=plt.plot()                                            #grafico"
   ]
  },
  {
   "cell_type": "markdown",
   "metadata": {},
   "source": [
    "### Respuesta\n",
    "\n",
    "En efecto, se puede ver reflejada la ley de los grandes números, puesto que al analizar los boxplots de cada distribución, se puede destacar que los datos se encuentran cada vez menos dispersos con respecto a la caja, además de las respuestas anteriores, se tiene que el promedio parece converger al promedio teórico de la distribución. "
   ]
  },
  {
   "cell_type": "markdown",
   "metadata": {},
   "source": [
    "# EOF"
   ]
  }
 ],
 "metadata": {
  "kernelspec": {
   "display_name": "Python 3",
   "language": "python",
   "name": "python3"
  },
  "language_info": {
   "codemirror_mode": {
    "name": "ipython",
    "version": 3
   },
   "file_extension": ".py",
   "mimetype": "text/x-python",
   "name": "python",
   "nbconvert_exporter": "python",
   "pygments_lexer": "ipython3",
   "version": "3.7.3"
  }
 },
 "nbformat": 4,
 "nbformat_minor": 2
}
