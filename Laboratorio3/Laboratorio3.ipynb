{
 "cells": [
  {
   "cell_type": "markdown",
   "metadata": {},
   "source": [
    "<img src=\"img/usmlogo.png\" style=\"float:right;height:85px\"> <img src=\"img/dilogo.png\" style=\"float:left;height:90px\">\n",
    "<center>\n",
    "    <h1> Laboratorio 3 </h1>\n",
    "    <h2> Profesor: Ricardo Ñanculef </h2>\n",
    "    <h3> Ayudante: Gabriel Ortega </h3>\n",
    "    <h4> Martin Salinas Scussolin; 201773557-0 ; Malla Nueva </h4>\n",
    "    <h4> Jose Quezada Silva ; 201773528-7 ; Malla Nueva </h4>\n",
    "</center>\n",
    "<p>\n",
    "<center><h4>Mayo 2019</h4></center>\n",
    "</p>"
   ]
  },
  {
   "cell_type": "markdown",
   "metadata": {},
   "source": [
    "## Instrucciones\n",
    "\n",
    "La modalidad de trabajo será mediante el uso de jupyter notebook. El notebook debe ser desarrollado en parejas o individual. Este laboratorio debe ser entregado el día *cuando se baje el paro hay fecha*.\n",
    "\n",
    "La **modalidad de entrega será un archivo Apellido1_Apellido2_Lab3.zip** que contenga un notebook que incluya todas las preguntas con sus respectivas respuestas + un README que indique la forma correcta de ejecutar su notebook. El laboratorio puede ser trabajado tanto en lenguaje R como en lenguaje python (para los que usen python 2.X, absténganse a las consecuencias). Lea bien el enunciado.\n",
    "\n",
    "\n",
    "**Cualquier copia detectada implicará nota 0 en el laboratorio correspondiente y se notificará la situación al profesor.**\n"
   ]
  },
  {
   "cell_type": "code",
   "execution_count": 9,
   "metadata": {},
   "outputs": [],
   "source": [
    "import pandas as pd\n",
    "import numpy as np\n",
    "import matplotlib.pyplot as plt\n",
    "from random import choices\n",
    "import statistics\n",
    "from scipy import stats\n",
    "import math\n",
    "import seaborn as sn"
   ]
  },
  {
   "cell_type": "markdown",
   "metadata": {},
   "source": [
    "## 1. LDA (40p)\n",
    "\n",
    "Es de mucho interés hoy en día el hecho de poder construir un clasificador que pueda inferir reglas a partir de los datos para poder predecir a futuro, en esta sección trabajará con una versión simplificada del dataset del titanic (data_titanic.csv), la que contiene 3 columnas:\n",
    "\n",
    "* Age: la edad del pasajero\n",
    "* Fare: el precio del boleto\n",
    "* Survived: si sobrevivió a la tragedia o no\n",
    "\n",
    "(Si, estamos en el ámbito multivariado ahora)\n",
    "\n",
    "El clasificador, en breves palabras, intenta maximizar $P(Y=survived|X=age,fare)$ asumiendo que los datos ($X$) provienen de una distribución Gaussiana Multivariada. Se espera que usted sea capaz de obtener los máximos verosímiles de los parámetros de esta distribución para poder construir su clasificador **a mano**.\n",
    "\n",
    ">a) Construya un clasificador LDA que permita distinguir si un pasajero sobrevive o no dado su edad y precio del ticket. *Recomendación: Puede separar una cantidad pequeña de datos para utilizarlos para probar su clasificador, es muy importante que si hace esto, estos datos no sean utilizados en la construcción del clasificador* \n",
    "\n",
    "Cualquier uso de las funciones provistas por los lenguajes que implementen LDA implica puntaje 0 en esta sección **sin excepción**.\n",
    "\n",
    "Esta pregunta es un poco extensa por lo que se recomienda leer bien el material provisto (mas abajo) y los libros guías del curso. No es necesario que responda todo de una, puede ir por partes, es más, esto es recomendable porque así puede ir ganando puntaje y no jugarse todo en un \"funciona/no funciona\" recuerde explicar bien su razonamiento.\n",
    "\n",
    "Si se complica mucho intente el caso univariado primero (fare vs survived ó age vs survived), si solamente presenta el univariado podrá optar a solamente 10 puntos del total (siempre y cuando esté bien).\n",
    "\n",
    "Material que podría resultar útil:\n",
    "* [Video](https://www.youtube.com/watch?v=azXCzI57Yfc)\n",
    "* [Articulo LDA](https://towardsdatascience.com/classification-part-2-linear-discriminant-analysis-ea60c45b9ee5)\n",
    "* [Explicacion matematica de sklearn](https://scikit-learn.org/stable/modules/lda_qda.html#lda-qda)\n",
    "* Libros Guía indicados en el Syllabus(verosimilitud)\n"
   ]
  },
  {
   "cell_type": "markdown",
   "metadata": {},
   "source": [
    "### Desarrollo\n",
    "\n",
    "En primer lugar, se busca el valor de la máxima verosimilitud de los parámetros de la distribución, en este caso normal. Para esto se utiliza la función de verosimilitud en la distribución, que consiste en el producto de todos los valores que toma.\n",
    "\n",
    "<br>\n",
    "    <center>\n",
    "    $\\frac{1}{(2\\pi\\sigma^2)^\\frac{1}{2}}exp\\bigg(-\\frac{1}{2}(\\frac{x-\\mu}{\\sigma})^2\\bigg) \n",
    "    \\implies \n",
    "    \\frac{1}{(2\\pi\\sigma^2)^\\frac{n}{2}} exp\\bigg(-\\frac{1}{2}\\sum_{i=1}^{n}(\\frac{x_i-\\mu}{\\sigma})^2\\bigg)$\n",
    "    </center>  \n",
    "<br>\n",
    "\n",
    "Siendo n la cantidad de observaciones.  \n",
    "  \n",
    "Luego, se aplica la función logaritmo natural para buscar la log-verosimilitud, por conveniencia de cálculos.\n",
    "\n",
    "<br>  \n",
    "    <center>\n",
    "    $-\\frac{n}{2}log(2\\pi\\sigma^2)-\\frac{1}{2}\\sum_{i=1}^{n}(\\frac{x_i-\\mu}{\\sigma})^2$\n",
    "    </center>\n",
    "<br>  \n",
    "\n",
    "Con el fin de maximizar $\\sigma$ (varianza) y $\\mu$(valor esperado), se deriva la fórmula con respecto a estas variables.\n",
    "  \n",
    "Con respecto a $\\sigma^2$:\n",
    "<br>\n",
    "    <center>\n",
    "    $-\\frac{n}{2\\sigma^2}+\\frac{1}{2\\sigma^2}\\sum_{i=1}^{n}(x_i-\\mu)^2=0$  \n",
    "    </center>  \n",
    "<br>\n",
    "    <center>\n",
    "    $n\\sigma^2=\\sum_{i=1}^{n}(x_i-\\mu)^2$  \n",
    "    </center>\n",
    "<br>\n",
    "    <center>\n",
    "    $\\sigma^2=\\frac{1}{n}\\sum_{i=1}^{n}(x_i-\\mu)^2$\n",
    "    </center>  \n",
    "\n",
    "Con respecto a $\\mu$:  \n",
    "    <center>\n",
    "    $\\sum_{i=1}^{n}\\frac{(x_i-\\mu)}{\\sigma^2}=0$\n",
    "    </center>\n",
    "<br>\n",
    "    <center>\n",
    "    $\\sum_{i=1}^{n}(x_i-\\mu)=0$\n",
    "    </center>\n",
    "<br>\n",
    "    <center>\n",
    "    $n\\mu=\\sum_{i=1}^{n}x_i$\n",
    "    </center>\n",
    "<br>\n",
    "    <center>\n",
    "    $\\mu=\\sum_{i=1}^{n}\\frac{x_i}{n}$\n",
    "    </center>\n",
    "<br>\n",
    "\n",
    "Sin embargo, en este caso se requiere de un clasificador multivariado, al que corresponde la notación vectorial.  \n",
    "\n",
    "Los máximos verosímiles con múltiples variables son similares, solo que se consideran las dos dimensiones presentes en este caso.  \n",
    "De esta manera, el vector promedio $\\hat{\\mu}$ corresponde a \n",
    "\n",
    "<br>\n",
    "    <center>\n",
    "    $\\frac{1}{n}\\sum_{i=1}^{n}X_i$\n",
    "    </center>  \n",
    "<br>\n",
    "\n",
    "Mientras que $\\hat{\\Sigma}$\n",
    "<br>\n",
    "    <center>\n",
    "    $\\sum_{k=0}^{K}\\frac{1}{N-K}\\sum_{i=1}^{n}(x_i-\\hat\\mu_k)(x_i-\\hat\\mu_k)^T$\n",
    "    </center>\n",
    "<br>\n",
    "La idea es llegar a una fórmula que, dado un vector, definido en este caso por la edad y el costo del pasaje, lo clasifique en una de las clases de interés, o sea, si el pasajero vive o muere, mediante la maximización de la probabilidad de pertenecer a una de estas clases. **\n",
    "\n",
    "<br>  \n",
    "Por Bayes  \n",
    "    <center>\n",
    "    $máx\\:P(Y=k|X=x)=\\frac{f_k(x) \\pi_k}{\\sum_{l=1}^{k}f_l(x) \\pi_l}$\n",
    "    </center>\n",
    "<br>\n",
    "\n",
    "Siendo $\\pi_k \\equiv P(Y=k)$  \n",
    "\n",
    "La función de densidad $f_k(x)$ corresponde a una distribución normal multivariada:  \n",
    "\n",
    "<br>\n",
    "    <center>\n",
    "    $f_k(x)=|2\\pi\\Sigma_k|^\\frac{1}{2}exp\\bigg(-\\frac{1}{2}(x-\\mu_k)^T\\Sigma_k^{-1}(x-\\mu_k)\\bigg)$\n",
    "    </center>\n",
    "<br>\n",
    "\n",
    "En LDA, se considera la misma matriz de covarianza para toda clase k, o sea $\\Sigma_k=\\Sigma$  \n",
    "  \n",
    "De la misma manera que antes, se aplica el logaritmo natural a la función que se quiere maximizar una vez introducida la función de densidad en ella.  \n",
    "\n",
    "<br>\n",
    "    <center>\n",
    "    $máx\\:\\bigg(-\\frac{1}{2}log|2\\pi\\Sigma|-\\frac{1}{2}(x-\\mu_k)^T\\Sigma^{-1}(x-\\mu_k)+log(\\pi_k)\\bigg)$\n",
    "    </center>\n",
    "<br>\n",
    "\n",
    "A continuación se eliminan las variables que no dependen de k, puesto que son innecesarias para buscar el máximo valor de la fórmula.\n",
    "\n",
    "<br>\n",
    "    <center>\n",
    "    $máx\\:\\bigg(-\\frac{1}{2}(x^T\\Sigma^{-1}x+\\mu_k^{-1}\\Sigma^{-1}\\mu_k)+x^T\\Sigma^{-1}\\mu_k+log(\\pi_k)\\bigg)$\n",
    "    </center>\n",
    "<br>\n",
    "\n",
    "Resultando en la función lineal discriminante:\n",
    "    <center>\n",
    "    $\\delta(x)=-\\frac{1}{2}\\mu_k^T\\Sigma^{-1}\\mu_k+x^T\\Sigma^{-1}\\mu_k+log(\\pi_k)$\n",
    "    </center>\n",
    "<br>\n",
    "\n",
    "A través de esta función, se puede clasificar el vector x dentro de una de las clases (k). El vector x pertenece a la clase cuyo valor de la función discriminante sea mayor."
   ]
  },
  {
   "cell_type": "code",
   "execution_count": 16,
   "metadata": {
    "scrolled": false
   },
   "outputs": [
    {
     "data": {
      "image/png": "[encoded data removed]",
      "text/plain": [
       "<Figure size 432x288 with 1 Axes>"
      ]
     },
     "metadata": {
      "needs_background": "light"
     },
     "output_type": "display_data"
    },
    {
     "name": "stdout",
     "output_type": "stream",
     "text": [
      "d(Clase 0):  6.009633162447731\n",
      "d(Clase 1):  6.99739799110498\n",
      "Pasaje:  200 \tEdad:  55\n",
      "VIVEN!\n",
      "\n",
      "None\n"
     ]
    },
    {
     "data": {
      "text/plain": [
       "<matplotlib.axes._subplots.AxesSubplot at 0x14dd7986f28>"
      ]
     },
     "execution_count": 16,
     "metadata": {},
     "output_type": "execute_result"
    },
    {
     "data": {
      "image/png": "[encoded data removed]",
      "text/plain": [
       "<Figure size 432x288 with 2 Axes>"
      ]
     },
     "metadata": {
      "needs_background": "light"
     },
     "output_type": "display_data"
    }
   ],
   "source": [
    "#Funcion determinante lineal que reciba un archivo csv, una edad y un costo para predecir si vive o muere.\n",
    "def openCSV(file, col = []):\n",
    "    try:\n",
    "        fDf = pd.read_csv(file, delimiter=\",\")\n",
    "    \n",
    "    except FileNotFoundError:\n",
    "            print(\"Nombre de archivo incorrecto.\")\n",
    "\n",
    "    if col != []:\n",
    "        fDf = fDf[col]\n",
    "    \n",
    "    return fDf\n",
    "    \n",
    "    \n",
    "    #Clasificador\n",
    "def DoAClass(df, fare, age, show = False):\n",
    "    \n",
    "    #Vivo o muerto\n",
    "    DoA = -1\n",
    "    \n",
    "    #vector (fare,age)\n",
    "    x = np.array([fare,age])\n",
    "\n",
    "    #Se separan las clases\n",
    "    tClass0 = df[df[\"Survived\"] == 0]\n",
    "    tClass1 = df[df[\"Survived\"] == 1]\n",
    "\n",
    "    #Promedios por clase\n",
    "    pK0 = tClass0.shape[0]/df.shape[0]\n",
    "    pK1 = tClass1.shape[0]/df.shape[0]\n",
    "    \n",
    "    #Matriz común de covarianza\n",
    "    covT = np.cov(df[[\"Fare\",\"Age\"]],rowvar = False)\n",
    "    \n",
    "    #Medias\n",
    "    meanFare0 = tClass0[[\"Fare\"]].mean()\n",
    "    meanAge0 = tClass0[[\"Age\"]].mean()\n",
    "    \n",
    "    meanFare1 = tClass1[[\"Fare\"]].mean()\n",
    "    meanAge1 = tClass1[[\"Age\"]].mean()\n",
    "    \n",
    "    #Vectores promedio \n",
    "    meanV0 = np.array([meanFare0,meanAge0])\n",
    "    meanV1 = np.array([meanFare1,meanAge1])\n",
    "\n",
    "    #Función lineal discriminante para x entregado\n",
    "    D0 = -0.5 * (np.transpose(meanV0).dot(np.linalg.inv(covT))).dot(meanV0)[0][0] + (np.transpose(x).dot(np.linalg.inv(covT))).dot(meanV0)[0] + np.log(pK0)\n",
    "    D1 = -0.5 * (np.transpose(meanV1).dot(np.linalg.inv(covT))).dot(meanV1)[0][0] + (np.transpose(x).dot(np.linalg.inv(covT))).dot(meanV1)[0] + np.log(pK1)\n",
    "    \n",
    "    if D0 > D1:\n",
    "        DoA = 0\n",
    "    else: \n",
    "        DoA = 1\n",
    "    \n",
    "    if show:\n",
    "        print(\"d(Clase 0): \", D0)\n",
    "        print(\"d(Clase 1): \", D1)\n",
    "\n",
    "        print(\"Pasaje: \",fare,\"\\tEdad: \",age)\n",
    "    if DoA:\n",
    "        if show:\n",
    "            print (print(\"VIVEN!\\n\"))\n",
    "        return True\n",
    "    else:\n",
    "        if show:\n",
    "            print(\"Murió.\\n\")\n",
    "        return False\n",
    "\n",
    "\n",
    "    #Gráfico\n",
    "def GrafClass(df):\n",
    "\n",
    "    groups = df.groupby('Survived')\n",
    "    fig, ax = plt.subplots()\n",
    "    for name, group in groups:\n",
    "        ax.plot(group.Fare, group.Age, marker = 'o', linestyle = '', ms = 5, label = name)\n",
    "    ax.legend()\n",
    "    x =  plt.show()\n",
    "\n",
    "\n",
    "def matriz_confusion(df):\n",
    "    \n",
    "    real = []\n",
    "    clasificador = []\n",
    "    \n",
    "    for p in df.iterrows():\n",
    "\n",
    "        if DoAClass(df,p[1][1],p[1][2]):\n",
    "            clasificador.append(1)\n",
    "        else:\n",
    "            clasificador.append(0)\n",
    "\n",
    "        real.append(int(p[1][0]))\n",
    "\n",
    "    CM = pd.crosstab([real], [clasificador], rownames = [\"real\"], colnames = [\"clasificador\"])\n",
    "    return CM\n",
    "\n",
    "    \n",
    "T = openCSV('titanic.csv',[\"Survived\",\"Fare\",\"Age\"])\n",
    "\n",
    "#Se consideran solo datos con edades válidas\n",
    "T = T[T.Age >= 0]\n",
    "\n",
    "#T = T.sample(n = 20) #muestra\n",
    "GrafClass(T)\n",
    "DoAClass(T,200,55,True)\n",
    "\n",
    "sn.heatmap(matriz_confusion(T),annot = True)"
   ]
  },
  {
   "cell_type": "markdown",
   "metadata": {},
   "source": [
    "## 2. Teorema de la Función Inversa (10p)\n",
    "\n",
    "El teorema de la función inversa permite generar variables aleatorias continuas con una función de distribución $F(x)$ a partir de la inversa $F^{-1}(x)$. Donde los valores generados en la función inversa están regidos por una distribución uniforme $u \\sim U(0,1)$. \n",
    "\n",
    "En esta sección se trabajará con la distribución Weibull, cuya función de densidad de probabilidad está dada por:\n",
    "\n",
    "\\begin{aligned}\n",
    "Weibull(\\alpha,\\beta) = \\frac{\\alpha}{\\beta^{\\alpha}}x^{\\alpha -1}\\cdot exp \\left( \\frac{-x}{\\beta}\\right)^{\\alpha}\n",
    "\\end{aligned}\n",
    "\n",
    "Para trabajar el teorema de la función inversa siga los siguientes pasos:\n",
    "\n",
    "1. Identificar la función que defina a la variable aleatoria.\n",
    "2. De dicha función calcular la función de densidad acumulada. Explique en breves palabras como obtenerla y si es invertible o no (Lo de invertible hace referencia a esta función de densidad acumulada Weibull en particular y no olvide mencionar cual es la función de densidad acumulada Weibull).\n",
    "3. De la función de densidad acumulada despejar la variable X. La distribución Weibull a trabajar tiene parámetros $\\alpha = 10$ y $\\beta = 3$\n",
    "4. Generar 10000 valores que siguen la distribución $u \\sim U(0,1)$ y utilícelos como argumento en la función inversa encontrada\n",
    "5. Genere una distribución weibull de tamaño 10000 con los mismos $\\alpha$ y $\\beta$ que la trabajada. Y haga un gráfico de la densidad de dichos valores. \n",
    "6. Concluya respecto a lo que observa en ambas gráficas."
   ]
  },
  {
   "cell_type": "markdown",
   "metadata": {},
   "source": [
    "### Desarrollo\n",
    "\n",
    "1)Notamos que la función que define a la variable aleatoria es la siguiente\n",
    "\n",
    "$$f(x;\\alpha,\\beta) = \\frac{\\alpha}{\\beta^\\alpha}x^{\\alpha - 1}\\cdot exp\\left( \\frac{-x}{\\beta}\\right)^{\\alpha}$$\n",
    "\n",
    "2)Usando las propiedades, la función de densidad acumulada se puede obtener integrando $f(x;\\alpha,\\beta)$ desde $-\\infty$ hasta la variable aleatoria $X$:\n",
    "\n",
    "$$F(X;\\alpha,\\beta) = \\int_{-\\infty}^{X}f(x;\\alpha,\\beta)\\ dx$$\n",
    "\n",
    "resultando en:\n",
    "\n",
    "$$\\int_{-\\infty}^{X} \\frac{\\alpha}{\\beta^\\alpha}x^{\\alpha - 1}\\cdot exp\\left( \\frac{-x}{\\beta}\\right)^{\\alpha}\\ dx\\ \\ =\\ 1 - exp\\left( \\frac{-X}{\\beta}\\right)^{\\alpha}$$ \n",
    "\n",
    "Luego, la función de distribución acumulada queda:\n",
    "$$F(X;\\alpha,\\beta) = \\ 1 - exp\\left( \\frac{-X}{\\beta}\\right)^{\\alpha}$$ \n",
    "\n",
    "Notamos que esta función es biyetiva en ($-\\infty,1)$ y por lo tanto invertible.\n",
    "\n",
    "3)Reemplazando $\\alpha = 10, \\beta = 3$, nos queda:\n",
    "\n",
    "$$F(X) = \\ 1 - exp\\left( \\frac{-X}{3}\\right)^{10}$$ \n",
    "\n",
    "Despejando $X$:\n",
    "$$ln(1 - Y) = ln\\left(exp\\left( \\frac{-X}{3}\\right)^{10}\\right)$$\n",
    "\n",
    "$$X = \\frac{3}{10}ln\\left(\\frac{1}{1 - Y}\\right)$$ "
   ]
  },
  {
   "cell_type": "code",
   "execution_count": 8,
   "metadata": {},
   "outputs": [
    {
     "data": {
      "image/png": "[encoded data removed]",
      "text/plain": [
       "<Figure size 1440x720 with 1 Axes>"
      ]
     },
     "metadata": {
      "needs_background": "light"
     },
     "output_type": "display_data"
    }
   ],
   "source": [
    "# 4) Al generar los valores según la distribución u, se tiene que:\n",
    "\n",
    "x = lambda a: 3 *(math.log(1/(1-a))**(1/10))         # Función inversa\n",
    "data = stats.uniform.rvs(loc=0,scale=1, size=10000)  # datos de distribucion uniforme\n",
    "data2 = [x(y) for y in data]                         # se le aplica la funcion inversa a los datos de la distribucion uniforme\n",
    "\n",
    "# funcion que obtiene datos de una distribucion de weibull con parametros a y b de tamaño (size)\n",
    "def lambTimesWeib(a,b,size):                         \n",
    "    x = np.random.weibull(a=a,size=size)\n",
    "    return b*x\n",
    "\n",
    "y = lambTimesWeib(10,3,10000)                       # datos distribucion de weibull\n",
    "\n",
    "\n",
    "#------------ PLOT ----------------#\n",
    "bins = 75\n",
    "plt.figure(figsize=(20,10))\n",
    "\n",
    "plt.hist(y, bins=bins, histtype=\"step\", label=\"Distribución Weibull\")\n",
    "plt.hist(data2, bins=bins, alpha=1, histtype=\"step\", label=\"Función Inversa\")\n",
    "\n",
    "plt.legend(loc='best', prop={'size': 20})\n",
    "plt_=plt.plot()"
   ]
  },
  {
   "cell_type": "markdown",
   "metadata": {},
   "source": [
    "### Resupuesta\n",
    "\n",
    "En base a los gráficos obtenidos, se puede ver una semejanza aprente en los gráficos de las distribuciones, ergo, podemos decir que funcionó. :)\n",
    "En otras palabras, es válido realizar la aseveración de que se cumple el teorema de la función inversa."
   ]
  },
  {
   "cell_type": "markdown",
   "metadata": {},
   "source": [
    "## 3. Teorema del Límite Central (30p)\n",
    "\n",
    "El teorema del límite central es uno de los postulados más importantes de estadística. En esta sección se procederá a comprobarlo en su forma clásica. \n",
    "\n",
    "Sea $x_{1},x_{2},....,x_{n}$ una muestra aleatoria de tamaño $n$ IID extraidas de una distribución con valor esperado $\\mu$ y varianza finita $\\sigma^{2}$. Si calculamos la media muestral: \n",
    "\n",
    "$$ \\bar{X}_{n} = \\frac{\\sum x_{i}}{n}$$\n",
    "\n",
    "Y repetimos este proceso una gran cantidad de veces $(P)$ tendremos una distribución de las medias de las muestras (*Sample mean distribution*). El TLC establece que, si el número de repeticiones es lo suficientemente grande: \n",
    "\n",
    "$$ \\bar{X} \\sim N\\left(\\mu,\\sqrt{\\frac{\\sigma^{2}}{n}}\\right)$$ \n",
    "\n",
    "En esta sección se trabajará con la siguiente distribución y se demostrará lo que enuncia el TLC.\n",
    "\n",
    "| Valor | Probabilidad |\n",
    "|:-----:|:------------:|\n",
    "|   1   |      0.1     |\n",
    "|   2   |      0.2     |\n",
    "|   5   |     0.05     |\n",
    "|   6   |     0.05     |\n",
    "|   7   |      0.2     |\n",
    "|   9   |     0.10     |\n",
    "|   10  |     0.05     |\n",
    "|   11  |     0.2      |\n",
    "|   12  |     0.05     |\n",
    "\n",
    ">a) Determine el valor esperado y la varianza **TEÓRICOS**"
   ]
  },
  {
   "cell_type": "markdown",
   "metadata": {},
   "source": [
    "### Desarrollo\n",
    "\n",
    "Dada la fórmula del valor esperado:\n",
    "$$ E[X] = \\sum_{x \\in R_{X}} {x \\cdot P(x)} $$\n",
    "\n",
    "y la fórmula para la varianza:\n",
    "$$ \\sigma^2 (x) = E[X^2] - E[X]^2 $$\n",
    "Se tiene que los valores teóricos serán:"
   ]
  },
  {
   "cell_type": "code",
   "execution_count": 4,
   "metadata": {},
   "outputs": [
    {
     "name": "stdout",
     "output_type": "stream",
     "text": [
      "El valor esperado es:  6.65\n",
      "La varianza es:  14.03\n"
     ]
    }
   ],
   "source": [
    "valorEsperado =   1*0.1 + 2*0.2 + 5*0.05 + 6*0.05 + 7*0.2 + 9*0.10 + 10*0.05 + 11*0.2 + 12*0.05 \n",
    "sqrdEsp =   (1**2)*0.1 + (2**2)*0.2 + (5**2)*0.05 + (6**2)*0.05 + (7**2)*0.2 + (9**2)*0.10 + (10**2)*0.05 + (11**2)*0.2 + (12**2)*0.05 \n",
    "Varianza = sqrdEsp - (valorEsperado**2)\n",
    "print(\"El valor esperado es: \", valorEsperado)\n",
    "print(\"La varianza es: \", round(Varianza,2))"
   ]
  },
  {
   "cell_type": "markdown",
   "metadata": {},
   "source": [
    ">b) Con $P = 10,1000$ calcule la media de muestras de tamaño : $n \\in[2,10,30,100,1000]$ compare los resultados obtenidos para los dos $P$ dados. Presente los datos en una tabla ordenada con columnas: $n,\\;P=10,\\;P=1000$ Comente, ¿qué parece influir mas, la cantidad de repeticiones, el tamaño de la muestra o ambas?"
   ]
  },
  {
   "cell_type": "code",
   "execution_count": 11,
   "metadata": {},
   "outputs": [],
   "source": [
    "\n",
    "# funcion que selecciona una cantidad de veces determinada (repExp), (numsToDraw) numeros con probabilidad (probs)\n",
    "def selectRandom(repetitionsExp, numsToDraw, values, probs):\n",
    "    lRet = list()\n",
    "    for exp in range(repetitionsExp):\n",
    "        alpha = list()\n",
    "        for num in range(numsToDraw):\n",
    "            alpha.append(choices(values, probs).pop())      \n",
    "        lRet.append(statistics.mean(alpha))\n",
    "    return lRet\n",
    "\n",
    "# funcion que añade los datos a una lista del experimento\n",
    "def appendExpToList(newList, Exps, values, probs, reps):\n",
    "    for i in Exps:\n",
    "        newList.append(selectRandom(reps, i, values, probs))\n",
    "        \n",
    "tablaValores = [1, 2, 5, 6, 7, 9, 10, 11, 12]\n",
    "tablaProbs = [0.1, 0.2, 0.05, 0.05, 0.2, 0.1, 0.05, 0.2, 0.05]\n",
    "\n",
    "n = [2,10,30,100,1000]\n",
    "\n",
    "P10 = list()\n",
    "P1000 = list()\n",
    "\n",
    "appendExpToList(P10, n, tablaValores, tablaProbs, 10)\n",
    "appendExpToList(P1000, n, tablaValores, tablaProbs, 1000)"
   ]
  },
  {
   "cell_type": "code",
   "execution_count": 12,
   "metadata": {},
   "outputs": [
    {
     "data": {
      "text/html": [
       "<div>\n",
       "<style scoped>\n",
       "    .dataframe tbody tr th:only-of-type {\n",
       "        vertical-align: middle;\n",
       "    }\n",
       "\n",
       "    .dataframe tbody tr th {\n",
       "        vertical-align: top;\n",
       "    }\n",
       "\n",
       "    .dataframe thead th {\n",
       "        text-align: right;\n",
       "    }\n",
       "</style>\n",
       "<table border=\"1\" class=\"dataframe\">\n",
       "  <thead>\n",
       "    <tr style=\"text-align: right;\">\n",
       "      <th></th>\n",
       "      <th>n</th>\n",
       "      <th>P = 10</th>\n",
       "      <th>P = 1000</th>\n",
       "    </tr>\n",
       "  </thead>\n",
       "  <tbody>\n",
       "    <tr>\n",
       "      <th>0</th>\n",
       "      <td>2</td>\n",
       "      <td>6.6500</td>\n",
       "      <td>6.6670</td>\n",
       "    </tr>\n",
       "    <tr>\n",
       "      <th>1</th>\n",
       "      <td>10</td>\n",
       "      <td>6.1100</td>\n",
       "      <td>6.6688</td>\n",
       "    </tr>\n",
       "    <tr>\n",
       "      <th>2</th>\n",
       "      <td>30</td>\n",
       "      <td>6.4267</td>\n",
       "      <td>6.6557</td>\n",
       "    </tr>\n",
       "    <tr>\n",
       "      <th>3</th>\n",
       "      <td>100</td>\n",
       "      <td>6.5250</td>\n",
       "      <td>6.6623</td>\n",
       "    </tr>\n",
       "    <tr>\n",
       "      <th>4</th>\n",
       "      <td>1000</td>\n",
       "      <td>6.6771</td>\n",
       "      <td>6.6478</td>\n",
       "    </tr>\n",
       "  </tbody>\n",
       "</table>\n",
       "</div>"
      ],
      "text/plain": [
       "      n  P = 10  P = 1000\n",
       "0     2  6.6500    6.6670\n",
       "1    10  6.1100    6.6688\n",
       "2    30  6.4267    6.6557\n",
       "3   100  6.5250    6.6623\n",
       "4  1000  6.6771    6.6478"
      ]
     },
     "execution_count": 12,
     "metadata": {},
     "output_type": "execute_result"
    }
   ],
   "source": [
    "P10_2 = [statistics.mean(x) for x in P10]\n",
    "P1000_2 = [statistics.mean(x) for x in P1000]\n",
    "\n",
    "dataFrameToShow = pd.DataFrame({\"n\" : n, \"P = 10\" : P10_2, \"P = 1000\" : P1000_2})\n",
    "dataFrameToShow.round(4)"
   ]
  },
  {
   "cell_type": "markdown",
   "metadata": {},
   "source": [
    "Con los datos obtenidos anteriormente, se puede ver una mayor influencia aparente de la cantidad de repeticiones del experimento, dado que los datos están más cercanos a 6.65 en la columna de P = 1000."
   ]
  },
  {
   "cell_type": "markdown",
   "metadata": {},
   "source": [
    ">c) Con lo obtenido en b) haga un histograma para las muestras de tamaño 2, 30 y 1000 de P = 1000. Comente lo que observa y concluya. ¿Se cumple lo que enuncia el teorema del límite central?"
   ]
  },
  {
   "cell_type": "markdown",
   "metadata": {},
   "source": [
    "### Desarrollo\n",
    "Al ordenar los datos en un dataframe, se tiene una mayor facilidad para graficar los datos en boxplots. Se toman los datos para n = 2, 30, 1000 de P = 1000 como columnas del dataframe. Para luego tomarlas cada una como grafico."
   ]
  },
  {
   "cell_type": "code",
   "execution_count": 13,
   "metadata": {},
   "outputs": [
    {
     "data": {
      "image/png": "[encoded data removed]",
      "text/plain": [
       "<Figure size 864x612 with 4 Axes>"
      ]
     },
     "metadata": {
      "needs_background": "light"
     },
     "output_type": "display_data"
    }
   ],
   "source": [
    "dfBoxPlt_1000 = pd.DataFrame({\"n = 2\": P1000[0],\"n = 30\": P1000[2],\"n = 1000\": P1000[4]})\n",
    "dfBoxPlt_1000.hist(figsize=(12,8.5))\n",
    "plt.show()"
   ]
  },
  {
   "cell_type": "markdown",
   "metadata": {},
   "source": [
    "### Respuesta\n",
    "Al observar los boxplots, se puede ver que hay una mayor concentración de los datos alrededor de lo que sería el promedio teórico para n = 1000, por lo que se puede ver reflejado, siempre y cuando existan una cantidad de datos decente (mayor que 2), que los datos obtenidos seguirán una distribucion normal.\n"
   ]
  },
  {
   "cell_type": "markdown",
   "metadata": {},
   "source": [
    "## 4. Ley de los Grandes Números (20p)\n",
    "\n",
    "En estadística, la ley de los grandes números engloba teoremas que describen el comportamiento del promedio de una distribución de variables aleatorias. La ley de los grandes números dice que, en pocas palabras, a medida que se aumenta el tamaño muestral el promedio de la distribución de variables aleatorias converge al promedio de la población completa.\n",
    "\n",
    "Un estudio realizado en el casino de la universidad MSU, indica que el tiempo de espera en la cola del casino para obtener su almuerzo puede modelarse como una distribución Exponencial con parámetro: $\\lambda = 0.1$\n",
    "\n",
    ">a) **Utilizando las funciones provistas por los lenguajes** calcule la probabilidad **teórica** de que un alumno espere menos de 10 minutos, exactamente 20 minutos y más de 50 minutos."
   ]
  },
  {
   "cell_type": "markdown",
   "metadata": {},
   "source": [
    "### Desarrollo\n",
    "\n",
    "Dadas las funciones de python es posible calcular para $\\lambda = 0.1$ con el parámetro scale de la función stats.expon de scipy, además se utiliza la función de probabilidad acumulada cdf."
   ]
  },
  {
   "cell_type": "code",
   "execution_count": 9,
   "metadata": {},
   "outputs": [
    {
     "name": "stdout",
     "output_type": "stream",
     "text": [
      "Probabilidad de que un alumno espere menos de 10 min:     0.632\n",
      "Probabildiad de que un alumno espere exactamente 20 min:  0.014\n",
      "Probabilidad de que un alumno espere más de 50 min:       0.007\n"
     ]
    }
   ],
   "source": [
    "expDistrib = stats.expon(scale=1/0.1)\n",
    "PX10 = expDistrib.cdf(x=10)\n",
    "PX20 = expDistrib.pdf(x=20)\n",
    "PX50 = expDistrib.cdf(x=50)\n",
    "\n",
    "print(\"Probabilidad de que un alumno espere menos de 10 min:    \", round(PX10, 3))\n",
    "print(\"Probabildiad de que un alumno espere exactamente 20 min: \", round(PX20, 3))\n",
    "print(\"Probabilidad de que un alumno espere más de 50 min:      \", round(1 - PX50, 3))"
   ]
  },
  {
   "cell_type": "markdown",
   "metadata": {},
   "source": [
    ">b) Ahora genere 3 muestras de dicha distribución exponencial, con tamaños n = 5, 100, 300, 10000. Para cada una de estas muestras determine las mismas probabilidades calculadas en a) de manera empírica, comente sus resultados."
   ]
  },
  {
   "cell_type": "code",
   "execution_count": 6,
   "metadata": {},
   "outputs": [
    {
     "data": {
      "text/html": [
       "<div>\n",
       "<style scoped>\n",
       "    .dataframe tbody tr th:only-of-type {\n",
       "        vertical-align: middle;\n",
       "    }\n",
       "\n",
       "    .dataframe tbody tr th {\n",
       "        vertical-align: top;\n",
       "    }\n",
       "\n",
       "    .dataframe thead th {\n",
       "        text-align: right;\n",
       "    }\n",
       "</style>\n",
       "<table border=\"1\" class=\"dataframe\">\n",
       "  <thead>\n",
       "    <tr style=\"text-align: right;\">\n",
       "      <th></th>\n",
       "      <th>Probability</th>\n",
       "      <th>n = 5</th>\n",
       "      <th>n = 100</th>\n",
       "      <th>n = 300</th>\n",
       "      <th>n = 10000</th>\n",
       "    </tr>\n",
       "  </thead>\n",
       "  <tbody>\n",
       "    <tr>\n",
       "      <th>0</th>\n",
       "      <td>X &lt; 10</td>\n",
       "      <td>0.733333</td>\n",
       "      <td>0.643333</td>\n",
       "      <td>0.625556</td>\n",
       "      <td>0.630000</td>\n",
       "    </tr>\n",
       "    <tr>\n",
       "      <th>1</th>\n",
       "      <td>X = 20</td>\n",
       "      <td>0.000000</td>\n",
       "      <td>0.000000</td>\n",
       "      <td>0.000000</td>\n",
       "      <td>0.000000</td>\n",
       "    </tr>\n",
       "    <tr>\n",
       "      <th>2</th>\n",
       "      <td>X &gt; 50</td>\n",
       "      <td>0.000000</td>\n",
       "      <td>0.006667</td>\n",
       "      <td>0.006667</td>\n",
       "      <td>0.006667</td>\n",
       "    </tr>\n",
       "  </tbody>\n",
       "</table>\n",
       "</div>"
      ],
      "text/plain": [
       "  Probability     n = 5   n = 100   n = 300  n = 10000\n",
       "0      X < 10  0.733333  0.643333  0.625556   0.630000\n",
       "1      X = 20  0.000000  0.000000  0.000000   0.000000\n",
       "2      X > 50  0.000000  0.006667  0.006667   0.006667"
      ]
     },
     "execution_count": 6,
     "metadata": {},
     "output_type": "execute_result"
    }
   ],
   "source": [
    "\n",
    "# función que retorna una lista con 3 arreglos de distribucion exponencial de tamaño n\n",
    "def returnSets(n):\n",
    "    return [stats.expon.rvs(scale=1/0.1, size=n) for i in range(3)]\n",
    "\n",
    "# funcion que calcula las probabilidades solicitadas en base al set de datos de la funcion anterior\n",
    "def probSet(s):\n",
    "    retList = list()\n",
    "    for i in s:\n",
    "        ListProb10 = list()\n",
    "        ListProb20 = list()\n",
    "        ListProb50 = list()\n",
    "        for x in i:            \n",
    "            if x < 10: ListProb10.append(1)\n",
    "            elif x == 20: ListProb20.append(1)\n",
    "            elif x > 50: ListProb50.append(1)\n",
    "        \n",
    "        retList.append((sum(ListProb10)/len(i), sum(ListProb20)/len(i), sum(ListProb50)/len(i)))\n",
    "    return retList\n",
    "\n",
    "# funcion que calcula las probabilidades finales sumandolas y obteniendo el promedio entre ellas\n",
    "def sumProbSet(s):\n",
    "    final = list()\n",
    "    x, y, z = s\n",
    "    final.append((x[0]+y[0]+z[0])/3)\n",
    "    final.append((x[1]+y[1]+z[1])/3)\n",
    "    final.append((x[2]+y[2]+z[2])/3)\n",
    "    return final\n",
    "\n",
    "# funcion que retorna el promedio de un set de datos tipo probset (de la funcion returnSets)\n",
    "def listMean(L):\n",
    "    return sum([statistics.mean(x) for x in L])/3\n",
    "\n",
    "t5 = returnSets(5)\n",
    "t100 = returnSets(100)\n",
    "t300 = returnSets(300)\n",
    "t10000 = returnSets(10000)\n",
    "\n",
    "n5 = sumProbSet(probSet(t5))\n",
    "n100 = sumProbSet(probSet(t100))\n",
    "n300 = sumProbSet(probSet(t300))\n",
    "n10000 = sumProbSet(probSet(t10000))\n",
    "\n",
    "pd.DataFrame({\"Probability\": [\"X < 10\", \"X = 20\", \"X > 50\"],\n",
    "                   \"n = 5\": n5,\"n = 100\": n100,\"n = 300\": n300, \n",
    "                   \"n = 10000\": n10000})"
   ]
  },
  {
   "cell_type": "markdown",
   "metadata": {},
   "source": [
    "Según los resultados obtenidos, se puede apeciar que a medida que aumenta la cantidad de datos en la muestra, los resultados deseados se acercarán más a los resultados teóricos. Además se puede apreciar que el resultado de X = 20 debe ser 0, lo que resulta ser cierto, sin embargo, la probabilidad teórica en este caso es cercana a 0, puesto que el valor tiene un output de función probabilidad cercano a 0."
   ]
  },
  {
   "cell_type": "markdown",
   "metadata": {},
   "source": [
    ">c) ¿Cuál debería ser la media **teórica** de todas estas distribuciones? ¿Y cuál es la empírica? ¿Si difieren o son iguales a qué se debe esto?"
   ]
  },
  {
   "cell_type": "markdown",
   "metadata": {},
   "source": [
    "### Desarrollo \n",
    "En este caso, la media teórica de las distribuciones, debe ser $\\frac{1}{\\lambda}$.\n",
    "Por lo que se tiene $\\bar{x} = \\frac{1}{0.1} = 10$.\n",
    "\n",
    "En el caso de la media emprírica, se tiene lo siguiente:"
   ]
  },
  {
   "cell_type": "code",
   "execution_count": 11,
   "metadata": {},
   "outputs": [
    {
     "data": {
      "text/html": [
       "<div>\n",
       "<style scoped>\n",
       "    .dataframe tbody tr th:only-of-type {\n",
       "        vertical-align: middle;\n",
       "    }\n",
       "\n",
       "    .dataframe tbody tr th {\n",
       "        vertical-align: top;\n",
       "    }\n",
       "\n",
       "    .dataframe thead th {\n",
       "        text-align: right;\n",
       "    }\n",
       "</style>\n",
       "<table border=\"1\" class=\"dataframe\">\n",
       "  <thead>\n",
       "    <tr style=\"text-align: right;\">\n",
       "      <th></th>\n",
       "      <th>Cantidad de datos</th>\n",
       "      <th>Promedio</th>\n",
       "    </tr>\n",
       "  </thead>\n",
       "  <tbody>\n",
       "    <tr>\n",
       "      <th>0</th>\n",
       "      <td>5</td>\n",
       "      <td>13.771192</td>\n",
       "    </tr>\n",
       "    <tr>\n",
       "      <th>1</th>\n",
       "      <td>100</td>\n",
       "      <td>10.052461</td>\n",
       "    </tr>\n",
       "    <tr>\n",
       "      <th>2</th>\n",
       "      <td>300</td>\n",
       "      <td>10.573957</td>\n",
       "    </tr>\n",
       "    <tr>\n",
       "      <th>3</th>\n",
       "      <td>10000</td>\n",
       "      <td>9.927065</td>\n",
       "    </tr>\n",
       "  </tbody>\n",
       "</table>\n",
       "</div>"
      ],
      "text/plain": [
       "  Cantidad de datos   Promedio\n",
       "0                 5  13.771192\n",
       "1               100  10.052461\n",
       "2               300  10.573957\n",
       "3             10000   9.927065"
      ]
     },
     "execution_count": 11,
     "metadata": {},
     "output_type": "execute_result"
    }
   ],
   "source": [
    "# tabla con la información. Se utiliza un dataframe para una mejor estética.\n",
    "pd.DataFrame({\"Cantidad de datos\" : [\"5\",\"100\",\"300\",\"10000\"], \"Promedio\" : [listMean(t5), listMean(t100), \n",
    "                                                                             listMean(t300), listMean(t10000)]})"
   ]
  },
  {
   "cell_type": "markdown",
   "metadata": {},
   "source": [
    "Se puede ver que los resultados obtenidos empíricamente, son muy similares al resultado teórico. Sin embargo, cada vez que se aumenta la cantidad de datos en la muestra, el promedio es mucho más cercano a el valor teórico, esto se debe a la diferencia en la cantidad de datos puesto que al tener más, se puede acercar mejor a la distribución total, lo que significa que se acercarán más al promedio teórico."
   ]
  },
  {
   "cell_type": "markdown",
   "metadata": {},
   "source": [
    ">d) Genere **un** gráfico de 4 boxplot (1 de cada distribución) y compárelos. Comente lo que observa y concluya respecto a la ley de los grandes números."
   ]
  },
  {
   "cell_type": "code",
   "execution_count": 16,
   "metadata": {},
   "outputs": [
    {
     "data": {
      "image/png": "[encoded data removed]",
      "text/plain": [
       "<Figure size 1440x540 with 1 Axes>"
      ]
     },
     "metadata": {
      "needs_background": "light"
     },
     "output_type": "display_data"
    }
   ],
   "source": [
    "plt.figure(figsize=(20,7.5))                            # se prepara el tamaño del grafico\n",
    "plt.title(\"Distribuciones de tamaño n\",fontsize=20)     # titulo\n",
    "plt.boxplot([t5[0],                                     \n",
    "             t100[0],\n",
    "             t300[0],\n",
    "             t10000[0]], showfliers=False)              # se grafica en boxplots sin outliers \n",
    "a, labels =plt.xticks()\n",
    "labels = [\"n = 5\", \"n = 100\", \"n = 300\", \"n = 10000\"]   # etiquetas del eje x\n",
    "plt.xticks(a,labels, fontsize=25)                       \n",
    "m=plt.plot()                                            #grafico"
   ]
  },
  {
   "cell_type": "markdown",
   "metadata": {},
   "source": [
    "### Respuesta\n",
    "\n",
    "En efecto, se puede ver reflejada la ley de los grandes números, puesto que al analizar los boxplots de cada distribución, se puede destacar que los datos se encuentran cada vez menos dispersos con respecto a la caja, además de las respuestas anteriores, se tiene que el promedio parece converger al promedio teórico de la distribución. "
   ]
  },
  {
   "cell_type": "markdown",
   "metadata": {},
   "source": [
    "# EOF"
   ]
  }
 ],
 "metadata": {
  "kernelspec": {
   "display_name": "Python 3",
   "language": "python",
   "name": "python3"
  },
  "language_info": {
   "codemirror_mode": {
    "name": "ipython",
    "version": 3
   },
   "file_extension": ".py",
   "mimetype": "text/x-python",
   "name": "python",
   "nbconvert_exporter": "python",
   "pygments_lexer": "ipython3",
   "version": "3.7.3"
  }
 },
 "nbformat": 4,
 "nbformat_minor": 2
}
