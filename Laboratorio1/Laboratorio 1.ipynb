{
 "cells": [
  {
   "cell_type": "markdown",
   "metadata": {},
   "source": [
    "<img src=\"img/usmlogo.png\" style=\"float:right;height:85px\"> <img src=\"img/dilogo.png\" style=\"float:left;height:90px\">\n",
    "<center>\n",
    "    <h1> Laboratorio 1 </h1>\n",
    "    <h2> Profesor: Ricardo Ñanculef </h2>\n",
    "    <h3> Ayudante: Gabriel Ortega </h3>\n",
    "    <h4> Martin Salinas Scussolin; 201773557-0 ; Nueva </h4>\n",
    "    <h4> Alumno2 ; Rol ; Malla </h4>\n",
    "</center>\n",
    "<p>\n",
    "<center><h4>Marzo 2019</h4></center>\n",
    "</p>"
   ]
  },
  {
   "cell_type": "markdown",
   "metadata": {},
   "source": [
    "## Instrucciones\n",
    "\n",
    "\n",
    "La modalidad de trabajo será mediante el uso de jupyter notebook. El notebook debe ser desarrollado en parejas o individual. Este laboratorio debe ser entregado el día 5 de abril.\n",
    "\n",
    "La **modalidad de entrega será un archivo Apellido1_Apellido2_Lab1.zip** que contenga un notebook que incluya todas las preguntas con sus respectivas respuestas + un README que indique la forma correcta de ejecutar su notebook. Este notebook presenta ciertas preguntas marcadas con **O:** que indican que para los alumnos de malla nueva es opcional, pero obligatoria para los alumnos de malla vieja. En el caso de haber una pareja con un integrante de malla nueva y uno de malla vieja, se considera malla vieja. El laboratorio puede ser trabajado tanto en lenguaje R como en lenguaje python (para los que usen python 2.X, absténganse a las consecuencias). Lea bien el enunciado.\n",
    "\n",
    "\n",
    "**Cualquier copia detectada implicará reprobación del laboratorio con nota 0 (lo que implica reprobar el ramo con nota 0) además de la notificación correspondiente al Profesor.** \n",
    "\n",
    "**Puntos bonus para todos:** Debido a que a veces hay preguntas que les piden una conclusión utilizando ciertos elementos, si lo desea, puede agregar elementos extra para hacer una mejor conclusión o concluir algo más que tenga sentido con lo anterior; estos gráficos pueden otorgar puntos bonus dependiendo de su calidad y del comentario que lo acompañe (con un máximo de 3 puntos bonus por pregunta, no acumulables si alcanza la nota máxima)"
   ]
  },
  {
   "cell_type": "markdown",
   "metadata": {},
   "source": [
    "## 1. Sarcasmo en Reddit (30p)\n",
    "\n",
    "Reddit es una página web muy conocida que, en simples palabras, es una compilación de muchos foros llamados \"subreddits\", en esta sección trabajará con un dataset que contiene una compilación de comentarios realizados por usuarios en distintos subreddits, los que vienen con una indicación de si el comentario es sarcástico o no.\n",
    "[Fuente](https://www.kaggle.com/sherinclaudia/sarcastic-comments-on-reddit)\n",
    "\n",
    ">a) **O:** Cargue los datos y resuma brevemente que contiene el dataset "
   ]
  },
  {
   "cell_type": "code",
   "execution_count": 45,
   "metadata": {},
   "outputs": [],
   "source": [
    "import pandas as pd\n",
    "import numpy as np\n",
    "import matplotlib.pyplot as plt\n",
    "\n",
    "\n",
    "#carga del dataset\n",
    "dt = pd.read_csv('reddit.csv')\n"
   ]
  },
  {
   "cell_type": "markdown",
   "metadata": {},
   "source": [
    ">b) ¿Existe algún subreddit donde los comentarios no sarcásticos predominen? ¿Y alguno donde predominen los comentarios sarcásticos? "
   ]
  },
  {
   "cell_type": "code",
   "execution_count": 142,
   "metadata": {},
   "outputs": [],
   "source": [
    "#agrupacion de los datos por subreddit y label\n",
    "#se cuentan las repeticiones \n",
    "# data.head(n) muestra los primeros lugares del dataset, default= 5\n",
    "most_repeated = dt.groupby([\"label\",\"subreddit\"])[\"subreddit\"].count().sort_values(ascending = False)\n",
    "#se separa el dataset en 2 agrupado por label y subreddit, con la cantidad de comentarios respectiva\n",
    "Zer = pd.DataFrame(most_repeated[0].reset_index(name = \"count\"))     # sin sarcasmo\n",
    "One = pd.DataFrame(most_repeated[1].reset_index(name = \"count\"))     # con sarcasmo\n"
   ]
  },
  {
   "cell_type": "markdown",
   "metadata": {},
   "source": [
    "Usando los datos del inciso c, se puede ver que en varios subreddits predominan los comenterios no sarcasticos, por ejemplo: AskReddit, nba, nfl, etc.\n",
    "En el caso de los comentarios sarcasticos, se pueden ver los siguientes subreddits: politics, worldnews, pcmasterrace, etc."
   ]
  },
  {
   "cell_type": "markdown",
   "metadata": {},
   "source": [
    ">c) Realice un top 10 con los subreddits que más se repiten en la etiqueta sin sarcasmo y un top 10 de los que más se repiten en la etiqueta con sarcasmo. ¿Existen similitudes/diferencias en ambas listas? ¿A qué se puede deber esto?"
   ]
  },
  {
   "cell_type": "code",
   "execution_count": 93,
   "metadata": {},
   "outputs": [
    {
     "name": "stdout",
     "output_type": "stream",
     "text": [
      "top 10 subreddits sin sarcasmo\n"
     ]
    },
    {
     "data": {
      "text/html": [
       "<div>\n",
       "<style scoped>\n",
       "    .dataframe tbody tr th:only-of-type {\n",
       "        vertical-align: middle;\n",
       "    }\n",
       "\n",
       "    .dataframe tbody tr th {\n",
       "        vertical-align: top;\n",
       "    }\n",
       "\n",
       "    .dataframe thead th {\n",
       "        text-align: right;\n",
       "    }\n",
       "</style>\n",
       "<table border=\"1\" class=\"dataframe\">\n",
       "  <thead>\n",
       "    <tr style=\"text-align: right;\">\n",
       "      <th></th>\n",
       "      <th>subreddit</th>\n",
       "      <th>count</th>\n",
       "    </tr>\n",
       "  </thead>\n",
       "  <tbody>\n",
       "    <tr>\n",
       "      <th>0</th>\n",
       "      <td>AskReddit</td>\n",
       "      <td>39310</td>\n",
       "    </tr>\n",
       "    <tr>\n",
       "      <th>1</th>\n",
       "      <td>politics</td>\n",
       "      <td>15586</td>\n",
       "    </tr>\n",
       "    <tr>\n",
       "      <th>2</th>\n",
       "      <td>funny</td>\n",
       "      <td>9840</td>\n",
       "    </tr>\n",
       "    <tr>\n",
       "      <th>3</th>\n",
       "      <td>leagueoflegends</td>\n",
       "      <td>9628</td>\n",
       "    </tr>\n",
       "    <tr>\n",
       "      <th>4</th>\n",
       "      <td>worldnews</td>\n",
       "      <td>9429</td>\n",
       "    </tr>\n",
       "    <tr>\n",
       "      <th>5</th>\n",
       "      <td>pics</td>\n",
       "      <td>8329</td>\n",
       "    </tr>\n",
       "    <tr>\n",
       "      <th>6</th>\n",
       "      <td>pcmasterrace</td>\n",
       "      <td>8228</td>\n",
       "    </tr>\n",
       "    <tr>\n",
       "      <th>7</th>\n",
       "      <td>nfl</td>\n",
       "      <td>6935</td>\n",
       "    </tr>\n",
       "    <tr>\n",
       "      <th>8</th>\n",
       "      <td>news</td>\n",
       "      <td>6698</td>\n",
       "    </tr>\n",
       "    <tr>\n",
       "      <th>9</th>\n",
       "      <td>nba</td>\n",
       "      <td>6698</td>\n",
       "    </tr>\n",
       "  </tbody>\n",
       "</table>\n",
       "</div>"
      ],
      "text/plain": [
       "         subreddit  count\n",
       "0        AskReddit  39310\n",
       "1         politics  15586\n",
       "2            funny   9840\n",
       "3  leagueoflegends   9628\n",
       "4        worldnews   9429\n",
       "5             pics   8329\n",
       "6     pcmasterrace   8228\n",
       "7              nfl   6935\n",
       "8             news   6698\n",
       "9              nba   6698"
      ]
     },
     "execution_count": 93,
     "metadata": {},
     "output_type": "execute_result"
    }
   ],
   "source": [
    "#top 10 con subreddits sin sarcasmo\n",
    "print(\"top 10 subreddits sin sarcasmo\")\n",
    "Zer.head(10)"
   ]
  },
  {
   "cell_type": "code",
   "execution_count": 79,
   "metadata": {},
   "outputs": [
    {
     "name": "stdout",
     "output_type": "stream",
     "text": [
      "top 10 subreddits con sarcasmo\n"
     ]
    },
    {
     "data": {
      "text/html": [
       "<div>\n",
       "<style scoped>\n",
       "    .dataframe tbody tr th:only-of-type {\n",
       "        vertical-align: middle;\n",
       "    }\n",
       "\n",
       "    .dataframe tbody tr th {\n",
       "        vertical-align: top;\n",
       "    }\n",
       "\n",
       "    .dataframe thead th {\n",
       "        text-align: right;\n",
       "    }\n",
       "</style>\n",
       "<table border=\"1\" class=\"dataframe\">\n",
       "  <thead>\n",
       "    <tr style=\"text-align: right;\">\n",
       "      <th></th>\n",
       "      <th>subreddit</th>\n",
       "      <th>count</th>\n",
       "    </tr>\n",
       "  </thead>\n",
       "  <tbody>\n",
       "    <tr>\n",
       "      <th>0</th>\n",
       "      <td>AskReddit</td>\n",
       "      <td>26367</td>\n",
       "    </tr>\n",
       "    <tr>\n",
       "      <th>1</th>\n",
       "      <td>politics</td>\n",
       "      <td>23910</td>\n",
       "    </tr>\n",
       "    <tr>\n",
       "      <th>2</th>\n",
       "      <td>worldnews</td>\n",
       "      <td>16948</td>\n",
       "    </tr>\n",
       "    <tr>\n",
       "      <th>3</th>\n",
       "      <td>leagueoflegends</td>\n",
       "      <td>11409</td>\n",
       "    </tr>\n",
       "    <tr>\n",
       "      <th>4</th>\n",
       "      <td>pcmasterrace</td>\n",
       "      <td>10760</td>\n",
       "    </tr>\n",
       "    <tr>\n",
       "      <th>5</th>\n",
       "      <td>news</td>\n",
       "      <td>10193</td>\n",
       "    </tr>\n",
       "    <tr>\n",
       "      <th>6</th>\n",
       "      <td>funny</td>\n",
       "      <td>8099</td>\n",
       "    </tr>\n",
       "    <tr>\n",
       "      <th>7</th>\n",
       "      <td>pics</td>\n",
       "      <td>7825</td>\n",
       "    </tr>\n",
       "    <tr>\n",
       "      <th>8</th>\n",
       "      <td>todayilearned</td>\n",
       "      <td>7754</td>\n",
       "    </tr>\n",
       "    <tr>\n",
       "      <th>9</th>\n",
       "      <td>GlobalOffensive</td>\n",
       "      <td>7586</td>\n",
       "    </tr>\n",
       "  </tbody>\n",
       "</table>\n",
       "</div>"
      ],
      "text/plain": [
       "         subreddit  count\n",
       "0        AskReddit  26367\n",
       "1         politics  23910\n",
       "2        worldnews  16948\n",
       "3  leagueoflegends  11409\n",
       "4     pcmasterrace  10760\n",
       "5             news  10193\n",
       "6            funny   8099\n",
       "7             pics   7825\n",
       "8    todayilearned   7754\n",
       "9  GlobalOffensive   7586"
      ]
     },
     "execution_count": 79,
     "metadata": {},
     "output_type": "execute_result"
    }
   ],
   "source": [
    "#top 10 con subreddits con sarcasmo\n",
    "print(\"top 10 subreddits con sarcasmo\")\n",
    "One.head(10)"
   ]
  },
  {
   "cell_type": "markdown",
   "metadata": {},
   "source": [
    "Se ve que ambas listas son similares entre los primeros lugares puesto que los subreddits de los primeros lugares, son de interes general,son temas como la politica, noticias, juegos de fama mundial, y lugares donde se pueden realizar consultas de cualquier tipo."
   ]
  },
  {
   "cell_type": "markdown",
   "metadata": {},
   "source": [
    ">d) Construya una línea de tiempo (use la columna que estime más conveniente como eje de tiempo) y coloree los datos según su etiqueta de sarcasmo, comente lo que observa.\n",
    "\n",
    "*Consejo: puede agrupar comentarios y contar el total que se registra en ese momento del tiempo en vez de graficar cada comentario en la línea.*"
   ]
  },
  {
   "cell_type": "code",
   "execution_count": 49,
   "metadata": {
    "scrolled": false
   },
   "outputs": [],
   "source": [
    "#se cambia la columna date a formato fecha para manipulacion\n",
    "\n",
    "dt['date'] = pd.to_datetime(dt.date, format = '%Y.%m')\n",
    "\n",
    "#aqui se agrupan los datos por fecha, label y cantidad por label. Ademas, se crean dos\n",
    "#nuevos dataset para facilidad de manipulacion. Uno con la etiqueta label = 0 (no sarcastico)\n",
    "#y label = 1 (sarcastico)\n",
    "\n",
    "new_data = dt.groupby(\n",
    "    [pd.Grouper(key='date', freq='4m'), \"label\"])[\"label\"].count().reset_index(name=\"count\").loc[:,:\"count\"]\n",
    "notSarc = pd.DataFrame(new_data.loc[new_data[\"label\"] == 0])\n",
    "Sarc = pd.DataFrame(new_data.loc[new_data[\"label\"] != 0])"
   ]
  },
  {
   "cell_type": "code",
   "execution_count": 50,
   "metadata": {},
   "outputs": [
    {
     "data": {
      "image/png": "[encoded data removed]",
      "text/plain": [
       "<Figure size 432x288 with 1 Axes>"
      ]
     },
     "metadata": {},
     "output_type": "display_data"
    }
   ],
   "source": [
    "#se grafican los datos en una linea temporal por cantidad segun fecha y etiqueta label con \n",
    "#los nuevos dataframes\n",
    "\n",
    "plt.plot(notSarc[\"date\"],notSarc[\"count\"], 'go',label=\"Comentarios no sarcasticos\",color=\"blue\",linestyle=':')\n",
    "plt.plot(Sarc[\"date\"],Sarc[\"count\"], 'go',label=\"Comentarios sarcasticos\",linestyle=':')\n",
    "plt.legend(loc='best')\n",
    "plt.xlabel(\"Intervalos de 4 meses\")\n",
    "plt.ylabel(\"Cantidad de comentarios\")\n",
    "plt.title(\"Total de comentarios sarcasticos y no sarcasticos\\nen reddit a lo largo del tiempo\")\n",
    "plt.show()"
   ]
  },
  {
   "cell_type": "markdown",
   "metadata": {},
   "source": [
    "Del grafico, primero se observa que la cantidad de comentarios en general va en aumento, lo que refleja\n",
    "el incremento de personas que utilizan reddit. Segundo, se puede ver que en un principio los comentarios \n",
    "sarcasticos predominaban pero por el 2016 empezaron a decaer.\n",
    "Tercero, los comentarios no sarcasticos comenzaron a aumentar a la vez que los comentarios sarcasticos empezaron a decaer."
   ]
  },
  {
   "cell_type": "markdown",
   "metadata": {},
   "source": [
    ">e) Haga un histograma y boxplot de los puntajes de comentarios sarcásticos y no sarcásticos, comparelos y concluya a partir de lo que observa, puede agregar otro tipo de gráficos si desea para apoyar su conclusión."
   ]
  },
  {
   "cell_type": "code",
   "execution_count": 51,
   "metadata": {},
   "outputs": [
    {
     "data": {
      "image/png": "[encoded data removed]",
      "text/plain": [
       "<Figure size 432x288 with 1 Axes>"
      ]
     },
     "metadata": {},
     "output_type": "display_data"
    }
   ],
   "source": [
    "data2 = pd.DataFrame(dt.groupby([\"score\",\"label\"])[\"score\"].count().reset_index(name=\"count\"))\n",
    "histoNot = pd.DataFrame(data2.loc[data2[\"label\"] == 0])\n",
    "histoYes = pd.DataFrame(data2.loc[data2[\"label\"] == 1])\n",
    "histoNot[\"score\"].hist()\n",
    "plt.title(\"comentarios no sarcasticos\")\n",
    "plt.xlabel(\"Puntajes\")\n",
    "plt.ylabel(\"Frecuencias\")\n",
    "plt.show()"
   ]
  },
  {
   "cell_type": "markdown",
   "metadata": {},
   "source": [
    "Se puede ver que el histograma está segregado hacia la derecha, por lo que refleja una alta cantidad de comentarios con puntaje entre 0 y mil, lo que indica que la gente esta votando muy equitativamente, o bien, hay una alta cantidad de comentarios con muy bajo puntaje, cosa que suele suceder frecuentemente."
   ]
  },
  {
   "cell_type": "code",
   "execution_count": 52,
   "metadata": {},
   "outputs": [
    {
     "data": {
      "image/png": "[encoded data removed]",
      "text/plain": [
       "<Figure size 432x288 with 1 Axes>"
      ]
     },
     "metadata": {},
     "output_type": "display_data"
    }
   ],
   "source": [
    "pd.DataFrame(histoNot[\"score\"]).boxplot()\n",
    "plt.title(\"Comentarios no sarcasticos\")\n",
    "plt.show()"
   ]
  },
  {
   "cell_type": "markdown",
   "metadata": {},
   "source": [
    "En el caso del boxplot, se puede ver que el puntaje medio de los datos rodea los 400 pts, cosa que e puede ver reflejado en el histograma, ademas, se pueden ver una gran cantidad de outliers, pero como hay una gran cantidad de datos, se puede decir que no son suficientes para extender el boxplot ni afectar la mediana."
   ]
  },
  {
   "cell_type": "code",
   "execution_count": 53,
   "metadata": {},
   "outputs": [
    {
     "data": {
      "image/png": "[encoded data removed]",
      "text/plain": [
       "<Figure size 432x288 with 1 Axes>"
      ]
     },
     "metadata": {},
     "output_type": "display_data"
    }
   ],
   "source": [
    "histoYes[\"score\"].hist(color=\"green\")\n",
    "plt.xlabel(\"Puntajes\")\n",
    "plt.ylabel(\"Frecuencias\")\n",
    "plt.title(\"comentarios sarcasticos\")\n",
    "plt.show()"
   ]
  },
  {
   "cell_type": "markdown",
   "metadata": {},
   "source": [
    "En este caso, sabemos que la cantidad de datos es menor, lo que se ve reflejado en la cantiadad de barras que tiene el histogram, ademas, se puede ver que la mayoria de los datos se concentran en los puntajes cercanos a 0, cosa que es esperable. Se pueden ver algunos puntajes superiores a 5000 pero son los minimos."
   ]
  },
  {
   "cell_type": "code",
   "execution_count": 54,
   "metadata": {},
   "outputs": [
    {
     "data": {
      "image/png": "[encoded data removed]",
      "text/plain": [
       "<Figure size 432x288 with 1 Axes>"
      ]
     },
     "metadata": {},
     "output_type": "display_data"
    }
   ],
   "source": [
    "pd.DataFrame(histoYes[\"score\"]).boxplot()\n",
    "plt.title(\"Comentarios sarcasticos\")\n",
    "plt.show()"
   ]
  },
  {
   "cell_type": "markdown",
   "metadata": {},
   "source": [
    "En este caso, se puede ver que los outliers mas alejados poseen un alto puntaje, pero aun asi no son suficientes como para afectar la distribucion de los datos, es posible destacar un puntaje medio cercano al de los comentarios con label 0."
   ]
  },
  {
   "cell_type": "markdown",
   "metadata": {},
   "source": [
    "## 2. Simulaciones \n",
    "\n",
    "Una de las gracias de tener una máquina con alta capacidad de cómputo es el poder realizar simulaciones. Las simulaciones nos permiten recrear experimentos que requieren una gran cantidad de datos, por ejemplo, lanzar un dado 10000 veces y determinar las probabilidades de cada resultado posible.\n",
    "\n",
    "\n",
    "### 2.1 Lanzamiento de Agujas (30p)\n",
    "\n",
    "Imagine que tiene un puñado de agujas ($n$ agujas) y las lanza al aire, estas agujas caen aleatoriamente dentro de un espacio de 20x20 unidades (asuma que la aguja puede quedar con una parte afuera y otra adentro si cae en alguno de los bordes/cerca de un borde de este espacio), este espacio tiene líneas horizontales cada 1 unidad en el eje Y, obviando los bordes inferior y superior de este espacio, usted está interesado en determinar la probabilidad de que una aguja atraviese cualquiera de estas líneas horizontales, para ello ha decidido simular este experimento utilizando el centroide de la aguja (posición donde cae) y el ángulo medido respecto a la horizontal que atraviesa el centroide $\\alpha$ (ver imagen)\n",
    "\n",
    "<img src=\"img/aguja.png\" style=\"float:center;height:100px\">\n",
    "\n",
    "El largo de la aguja es el mismo que la separación entre las lineas horizontales (1 unidad)\n",
    "\n",
    "\n",
    "Calcule la probabilidad utilizando $n =10,100,1000,10000,100000$ agujas\n",
    "\n",
    "Puntos bonus por :\n",
    "* (5) Probar con tamaños distintos del espacio y concluir comparando con los otros casos\n",
    "* (5) Añadir 1 gráfico por cada $n$ donde se vea el espacio y las agujas después de caer, recuerde hacer un comentario respecto al gráfico, no solo incluirlo."
   ]
  },
  {
   "cell_type": "code",
   "execution_count": null,
   "metadata": {},
   "outputs": [],
   "source": []
  },
  {
   "cell_type": "markdown",
   "metadata": {},
   "source": [
    "### 2.2 Cadenas de Markov (40p)\n",
    "\n",
    "Las cadenas de markov son un modelo estocástico para describir una secuencia de sucesos donde la probabilidad de ir a un estado siguiente depende solamente del estado actual, esto se puede modelar de la siguiente forma:\n",
    "\n",
    "$$ S_{n+1} = S_{n}\\cdot P$$\n",
    "\n",
    "Donde $P$ se conoce como matriz de transición y $S_{i}$ las matrices de estado ($S_{0}$ es conocida). Una cadena de markov se dice regular si su matriz de transición es regular, esto quiere decir que alguna potencia de $P$ tiene todas sus entradas positivas (para este caso 0 no es positivo).\n",
    "\n",
    "Si se tiene una cadena de markov regular, en algún momento de la secuencia se encontrará una matriz de estado tal que:\n",
    "\n",
    "$$ S_{f} \\cdot P = S_{f}$$ \n",
    "\n",
    "A esta matriz $S_{f}$ se le conoce como matriz estacionaria.\n",
    "\n",
    "Si desea profundizar más:\n",
    "- [MC 1](https://www.youtube.com/watch?v=uvYTGEZQTEs)\n",
    "- [MC 2](https://www.youtube.com/watch?v=jtHBfLtMq4U)\n",
    "- [MC 3](https://www.youtube.com/watch?v=P8DuuiINAo4&t)\n",
    "- [MC 4](https://www.youtube.com/watch?v=31X-M4okAI0)\n",
    "- [MC 5](https://www.youtube.com/watch?v=-kwnnNSGFMc)\n",
    "\n",
    "\n",
    "**Enunciado**\n",
    "\n",
    "Tres compañías de comida rápida están compitiendo por el primer lugar en la supremacía de comida rápida. \n",
    "\n",
    "* Si un cliente originalmente es fiel a \"Sansafood\" tiene un $65\\%$ de probabilidad de quedarse fiel a esta, un $20\\%$ de cambiarse a \"LDS ltda\" y un $15\\%$ de cambiarse a \"Wenzi's\".\n",
    "\n",
    "* Si un cliente originalmente es fiel a \"LDS ltda\" tiene un $40\\%$ de probabilidad de quedarse fiel a esta, un $30\\%$ de cambiarse a \"Sansafood\" y un $30\\%$ de cambiarse a \"Wenzi's\".\n",
    "\n",
    "* Si un cliente originalmente es fiel a \"Wenzi's\" tiene un $70\\%$ de probabilidad de quedarse fiel a esta, un $10\\%$ de cambiarse a \"Sansafood\" y un $20\\%$ de cambiarse a \"LDS ltda\".\n",
    "\n",
    "En un comienzo 200 clientes pertenecen a \"Sansafood\", 180 a \"LDS ltda\" y 20 a \"Wenzi's\".\n",
    "\n",
    ">a) Identifique la matriz de transición y la matriz de estado inicial"
   ]
  },
  {
   "cell_type": "code",
   "execution_count": 55,
   "metadata": {},
   "outputs": [
    {
     "data": {
      "text/plain": [
       "array([[0.465, 0.29 , 0.245]])"
      ]
     },
     "execution_count": 55,
     "metadata": {},
     "output_type": "execute_result"
    }
   ],
   "source": [
    "###   P - matriz transicion\n",
    "###     S   L    w\n",
    "### s [.65 .2   .15]\n",
    "### l [.3  .4   .3 ]\n",
    "### w [.1  .2   .7 ]\n",
    "P = np.array([[0.65, 0.2, 0.15],\n",
    "              [0.3,  0.4, 0.3 ],\n",
    "              [0.1,  0.2, 0.7 ]])\n",
    "\n",
    "### matriz de estado inicial S_0\n",
    "###              S        L         W\n",
    "###            [200/400  180/400  20/400]\n",
    "S_0 = np.array([[0.5,     0.45,   0.05]])\n",
    "\n",
    "S_1 = S_0.dot(P)\n",
    "S_1"
   ]
  },
  {
   "cell_type": "markdown",
   "metadata": {},
   "source": [
    ">**O:** b) Haga un diagrama de transición "
   ]
  },
  {
   "cell_type": "markdown",
   "metadata": {
    "collapsed": true
   },
   "source": [
    "las flechas representan la decision de una persona de cambiarse de compañia\n",
    "los núeros representanla proababilidad de que una persona se cambie de compañía"
   ]
  },
  {
   "cell_type": "markdown",
   "metadata": {},
   "source": [
    "<img src=\"img/transicion.png\">"
   ]
  },
  {
   "cell_type": "markdown",
   "metadata": {},
   "source": [
    ">**O:** c) ¿Este problema es un caso de una cadena de markov regular? ¿Por qué?"
   ]
  },
  {
   "cell_type": "markdown",
   "metadata": {
    "collapsed": true
   },
   "source": [
    "Si, dado que el caso que se presenta posee una matriz cuyos valores internos son todos positivos, dado que \n",
    "según la definición de cadena de Markov, para que sea regular, los valores de la matriz deben ser todos positivos."
   ]
  },
  {
   "cell_type": "markdown",
   "metadata": {},
   "source": [
    ">d) ¿Existirá la matriz estacionaria en este caso? Si su respuesta es sí, obténgala."
   ]
  },
  {
   "cell_type": "code",
   "execution_count": 56,
   "metadata": {},
   "outputs": [
    {
     "name": "stdout",
     "output_type": "stream",
     "text": [
      "S_transicion supuesta ============> [[0.33333333 0.25       0.41666667]]\n",
      "multiplicacion S_transicion * P ==> [[0.33333333 0.25       0.41666667]]\n"
     ]
    }
   ],
   "source": [
    "# En este codigo, se busca la matriz estacionaria usando el metodo recursivo\n",
    "# planteado en la definicionS_act = S_0.dot(P)\n",
    "S_act = S_1\n",
    "if (S_act == S_0).all():\n",
    "    S_tr = S_act\n",
    "else:\n",
    "    while(1):\n",
    "        S_tr = S_act.dot(P)\n",
    "        if (S_tr == S_act).all():\n",
    "            break\n",
    "        S_act = S_tr\n",
    "        \n",
    "# se comprueba con la multiplicacion de la matriz estacionaria con la matriz de transicion\n",
    "\n",
    "print(\"S_transicion supuesta ============>\",S_tr)\n",
    "\n",
    "print(\"multiplicacion S_transicion * P ==>\",S_tr.dot(P))\n",
    "\n",
    "\n",
    "    "
   ]
  },
  {
   "cell_type": "markdown",
   "metadata": {},
   "source": [
    ">e) Después de pasado mucho tiempo. ¿Quién tendrá una mayor cantidad de clientes? Asuma que la matriz de transición será válida por todo este periodo arbitrario de tiempo y no llegarán ni saldrán más clientes del mundo de comida rápida. **No realice esta simulación como una multiplicación de matrices**, use las probabilidades y las cantidades dadas. Compare con d) "
   ]
  },
  {
   "cell_type": "code",
   "execution_count": null,
   "metadata": {},
   "outputs": [],
   "source": []
  },
  {
   "cell_type": "markdown",
   "metadata": {},
   "source": [
    "## Reglas del Juego y Comentarios \n",
    "\n",
    "+ Errores ortográficos, de redacción y oraciones ambiguas descontarán parte de su puntaje.\n",
    "+ Dudas solamente hasta el  día 31 de Marzo a las 23hrs.\n",
    "+ Dudas **principalmente** vía moodle, evite otro tipo de medio ya que su duda podría ser la de otro.\n",
    "+ Cada día de atraso descuenta 25 puntos de la nota final con un máximo de dos días de retraso (después es 0).\n",
    "+ La versión de R que se usará para revisar es 3.5.2\n",
    "+ La versión de Python que se usará para revisar es 3.6.8\n",
    "+ Los alumnos malla nueva que decidan responder las preguntas opcionales (obviando algún bonus para todos) tendrán 1 punto bonus por pregunta correctamente respondida, con un máximo de nota 100.\n",
    "+ Use cualquier librería que estime conveniente, si requiere de instalación explicitarlo en el README (y bien explicitado).\n",
    "+ Código comentado para facilitar entendimiento.\n",
    "+ Sea formal y claro con su respuesta, explique su procedimiento y luego responda. \n",
    "+ Defina bien las secciones de su notebook, el orden siempre es bueno :) [Tips para usar Markdown](https://github.com/adam-p/markdown-here/wiki/Markdown-Cheatsheet)"
   ]
  }
 ],
 "metadata": {
  "kernelspec": {
   "display_name": "Python 3",
   "language": "python",
   "name": "python3"
  },
  "language_info": {
   "codemirror_mode": {
    "name": "ipython",
    "version": 3
   },
   "file_extension": ".py",
   "mimetype": "text/x-python",
   "name": "python",
   "nbconvert_exporter": "python",
   "pygments_lexer": "ipython3",
   "version": "3.6.7"
  }
 },
 "nbformat": 4,
 "nbformat_minor": 2
}
