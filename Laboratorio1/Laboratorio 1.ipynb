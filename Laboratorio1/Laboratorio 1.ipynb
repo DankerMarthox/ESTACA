{
 "cells": [
  {
   "cell_type": "markdown",
   "metadata": {},
   "source": [
    "<img src=\"img/usmlogo.png\" style=\"float:right;height:85px\"> <img src=\"img/dilogo.png\" style=\"float:left;height:90px\">\n",
    "<center>\n",
    "    <h1> Laboratorio 1 </h1>\n",
    "    <h2> Profesor: Ricardo Ñanculef </h2>\n",
    "    <h3> Ayudante: Gabriel Ortega </h3>\n",
    "    <h4> Martin Salinas Scussolin; 201773557-0 ; Nueva </h4>\n",
    "    <h4> Alumno2 ; Rol ; Malla </h4>\n",
    "</center>\n",
    "<p>\n",
    "<center><h4>Marzo 2019</h4></center>\n",
    "</p>"
   ]
  },
  {
   "cell_type": "markdown",
   "metadata": {},
   "source": [
    "## Instrucciones\n",
    "\n",
    "\n",
    "La modalidad de trabajo será mediante el uso de jupyter notebook. El notebook debe ser desarrollado en parejas o individual. Este laboratorio debe ser entregado el día 5 de abril.\n",
    "\n",
    "La **modalidad de entrega será un archivo Apellido1_Apellido2_Lab1.zip** que contenga un notebook que incluya todas las preguntas con sus respectivas respuestas + un README que indique la forma correcta de ejecutar su notebook. Este notebook presenta ciertas preguntas marcadas con **O:** que indican que para los alumnos de malla nueva es opcional, pero obligatoria para los alumnos de malla vieja. En el caso de haber una pareja con un integrante de malla nueva y uno de malla vieja, se considera malla vieja. El laboratorio puede ser trabajado tanto en lenguaje R como en lenguaje python (para los que usen python 2.X, absténganse a las consecuencias). Lea bien el enunciado.\n",
    "\n",
    "\n",
    "**Cualquier copia detectada implicará reprobación del laboratorio con nota 0 (lo que implica reprobar el ramo con nota 0) además de la notificación correspondiente al Profesor.** \n",
    "\n",
    "**Puntos bonus para todos:** Debido a que a veces hay preguntas que les piden una conclusión utilizando ciertos elementos, si lo desea, puede agregar elementos extra para hacer una mejor conclusión o concluir algo más que tenga sentido con lo anterior; estos gráficos pueden otorgar puntos bonus dependiendo de su calidad y del comentario que lo acompañe (con un máximo de 3 puntos bonus por pregunta, no acumulables si alcanza la nota máxima)"
   ]
  },
  {
   "cell_type": "markdown",
   "metadata": {},
   "source": [
    "## 1. Sarcasmo en Reddit (30p)\n",
    "\n",
    "Reddit es una página web muy conocida que, en simples palabras, es una compilación de muchos foros llamados \"subreddits\", en esta sección trabajará con un dataset que contiene una compilación de comentarios realizados por usuarios en distintos subreddits, los que vienen con una indicación de si el comentario es sarcástico o no.\n",
    "[Fuente](https://www.kaggle.com/sherinclaudia/sarcastic-comments-on-reddit)\n",
    "\n",
    ">a) **O:** Cargue los datos y resuma brevemente que contiene el dataset "
   ]
  },
  {
   "cell_type": "code",
   "execution_count": 108,
   "metadata": {},
   "outputs": [],
   "source": [
    "import pandas as pd\n",
    "import numpy as np\n",
    "import matplotlib as plt\n",
    "import matplotlib.image as mpimg\n",
    "\n",
    "\n",
    "#carga del dataset\n",
    "dt = pd.read_csv('reddit.csv')\n"
   ]
  },
  {
   "cell_type": "markdown",
   "metadata": {},
   "source": [
    ">b) ¿Existe algún subreddit donde los comentarios no sarcásticos predominen? ¿Y alguno donde predominen los comentarios sarcásticos? \n",
    "\n",
    "         Se puede ver que en el subreddit \"AskReddit\" predominan los comentarios no sarcásticos y además, \n",
    "         en este mismo predominan también los comentarios sarcásticos.\n",
    "    "
   ]
  },
  {
   "cell_type": "code",
   "execution_count": 91,
   "metadata": {},
   "outputs": [
    {
     "name": "stdout",
     "output_type": "stream",
     "text": [
      "Subreddit sin sarcasmo mas repetidos\n",
      "   subreddit  count\n",
      "0  AskReddit  39310\n",
      "\n",
      "\n",
      "Subreddit con sarcasmo mas repetidos\n",
      "   subreddit  count\n",
      "0  AskReddit  26367\n"
     ]
    }
   ],
   "source": [
    "#agrupacion de los datos por subreddit y label\n",
    "#se cuentan las repeticiones \n",
    "# data.head(n) muestra los primeros lugares del dataset\n",
    "most_repeated = dt.groupby([\"label\",\"subreddit\"])[\"label\"].count().sort_values(ascending = False)\n",
    "\n",
    "#en algunas partes deja de mostrar los labels dado que las entradas siguientes tienen el mismo,\n",
    "#cuando aparece un label distito lo muestra\n",
    "#la tercera columna es la cantidad de comentarios en el subreddit\n",
    "print(\"Subreddit sin sarcasmo mas repetidos\")\n",
    "print(most_repeated[0].head(1).reset_index(name=\"count\"))\n",
    "print(\"\\n\")\n",
    "print(\"Subreddit con sarcasmo mas repetidos\")\n",
    "print(most_repeated[1].head(1).reset_index(name=\"count\"))"
   ]
  },
  {
   "cell_type": "markdown",
   "metadata": {},
   "source": [
    ">c) Realice un top 10 con los subreddits que más se repiten en la etiqueta sin sarcasmo y un top 10 de los que más se repiten en la etiqueta con sarcasmo. ¿Existen similitudes/diferencias en ambas listas? ¿A qué se puede deber esto?"
   ]
  },
  {
   "cell_type": "code",
   "execution_count": 92,
   "metadata": {},
   "outputs": [
    {
     "name": "stdout",
     "output_type": "stream",
     "text": [
      "top 10 subreddits sin sarcasmo\n",
      "         subreddit  count\n",
      "0        AskReddit  39310\n",
      "1         politics  15586\n",
      "2            funny   9840\n",
      "3  leagueoflegends   9628\n",
      "4        worldnews   9429\n",
      "5             pics   8329\n",
      "6     pcmasterrace   8228\n",
      "7              nfl   6935\n",
      "8             news   6698\n",
      "9              nba   6698\n",
      "\n",
      "\n",
      "top 10 subreddits con sarcasmo\n",
      "         subreddit  count\n",
      "0        AskReddit  26367\n",
      "1         politics  23910\n",
      "2        worldnews  16948\n",
      "3  leagueoflegends  11409\n",
      "4     pcmasterrace  10760\n",
      "5             news  10193\n",
      "6            funny   8099\n",
      "7             pics   7825\n",
      "8    todayilearned   7754\n",
      "9  GlobalOffensive   7586\n"
     ]
    }
   ],
   "source": [
    "#top 10 con subreddits sin sarcasmo\n",
    "notSarcasm = most_repeated[0].head(10)\n",
    "\n",
    "#top 10 con subreddits con sarcasmo\n",
    "sarcasm = most_repeated[1].head(10)\n",
    "\n",
    "print(\"top 10 subreddits sin sarcasmo\")\n",
    "print(notSarcasm.reset_index(name=\"count\"))\n",
    "print(\"\\n\")\n",
    "print(\"top 10 subreddits con sarcasmo\")\n",
    "print(sarcasm.reset_index(name=\"count\"))"
   ]
  },
  {
   "cell_type": "markdown",
   "metadata": {},
   "source": [
    ">d) Construya una línea de tiempo (use la columna que estime más conveniente como eje de tiempo) y coloree los datos según su etiqueta de sarcasmo, comente lo que observa.\n",
    "\n",
    "*Consejo: puede agrupar comentarios y contar el total que se registra en ese momento del tiempo en vez de graficar cada comentario en la línea.*"
   ]
  },
  {
   "cell_type": "code",
   "execution_count": 100,
   "metadata": {},
   "outputs": [
    {
     "data": {
      "text/plain": [
       "<matplotlib.axes._subplots.AxesSubplot at 0x7fced5c8f9e8>"
      ]
     },
     "execution_count": 100,
     "metadata": {},
     "output_type": "execute_result"
    },
    {
     "data": {
      "image/png": "[encoded data removed]",
      "text/plain": [
       "<Figure size 432x288 with 1 Axes>"
      ]
     },
     "metadata": {},
     "output_type": "display_data"
    }
   ],
   "source": [
    "years = dt.groupby([pd.to_datetime(dt[\"date\"]).dt.year,\"label\"]).count().loc[:,:\"comment\"]\n",
    "years.rename(columns = {'comment':'count'}, inplace = True)\n",
    "years.plot.bar()\n"
   ]
  },
  {
   "cell_type": "markdown",
   "metadata": {},
   "source": [
    ">e) Haga un histograma y boxplot de los puntajes de comentarios sarcásticos y no sarcásticos, comparelos y concluya a partir de lo que observa, puede agregar otro tipo de gráficos si desea para apoyar su conclusión."
   ]
  },
  {
   "cell_type": "code",
   "execution_count": 94,
   "metadata": {},
   "outputs": [],
   "source": [
    "histo0 = dt.groupby([\"score\",\"label\"])[\"score\"].count()\n",
    "histo1 = dt.groupby([\"label\",\"score\"])[\"label\"].count()[1]\n"
   ]
  },
  {
   "cell_type": "markdown",
   "metadata": {},
   "source": [
    "## 2. Simulaciones \n",
    "\n",
    "Una de las gracias de tener una máquina con alta capacidad de cómputo es el poder realizar simulaciones. Las simulaciones nos permiten recrear experimentos que requieren una gran cantidad de datos, por ejemplo, lanzar un dado 10000 veces y determinar las probabilidades de cada resultado posible.\n",
    "\n",
    "\n",
    "### 2.1 Lanzamiento de Agujas (30p)\n",
    "\n",
    "Imagine que tiene un puñado de agujas ($n$ agujas) y las lanza al aire, estas agujas caen aleatoriamente dentro de un espacio de 20x20 unidades (asuma que la aguja puede quedar con una parte afuera y otra adentro si cae en alguno de los bordes/cerca de un borde de este espacio), este espacio tiene líneas horizontales cada 1 unidad en el eje Y, obviando los bordes inferior y superior de este espacio, usted está interesado en determinar la probabilidad de que una aguja atraviese cualquiera de estas líneas horizontales, para ello ha decidido simular este experimento utilizando el centroide de la aguja (posición donde cae) y el ángulo medido respecto a la horizontal que atraviesa el centroide $\\alpha$ (ver imagen)\n",
    "\n",
    "<img src=\"img/aguja.png\" style=\"float:center;height:100px\">\n",
    "\n",
    "El largo de la aguja es el mismo que la separación entre las lineas horizontales (1 unidad)\n",
    "\n",
    "\n",
    "Calcule la probabilidad utilizando $n =10,100,1000,10000,100000$ agujas\n",
    "\n",
    "Puntos bonus por :\n",
    "* (5) Probar con tamaños distintos del espacio y concluir comparando con los otros casos\n",
    "* (5) Añadir 1 gráfico por cada $n$ donde se vea el espacio y las agujas después de caer, recuerde hacer un comentario respecto al gráfico, no solo incluirlo."
   ]
  },
  {
   "cell_type": "code",
   "execution_count": null,
   "metadata": {},
   "outputs": [],
   "source": []
  },
  {
   "cell_type": "markdown",
   "metadata": {},
   "source": [
    "### 2.2 Cadenas de Markov (40p)\n",
    "\n",
    "Las cadenas de markov son un modelo estocástico para describir una secuencia de sucesos donde la probabilidad de ir a un estado siguiente depende solamente del estado actual, esto se puede modelar de la siguiente forma:\n",
    "\n",
    "$$ S_{n+1} = S_{n}\\cdot P$$\n",
    "\n",
    "Donde $P$ se conoce como matriz de transición y $S_{i}$ las matrices de estado ($S_{0}$ es conocida). Una cadena de markov se dice regular si su matriz de transición es regular, esto quiere decir que alguna potencia de $P$ tiene todas sus entradas positivas (para este caso 0 no es positivo).\n",
    "\n",
    "Si se tiene una cadena de markov regular, en algún momento de la secuencia se encontrará una matriz de estado tal que:\n",
    "\n",
    "$$ S_{f} \\cdot P = S_{f}$$ \n",
    "\n",
    "A esta matriz $S_{f}$ se le conoce como matriz estacionaria.\n",
    "\n",
    "Si desea profundizar más:\n",
    "- [MC 1](https://www.youtube.com/watch?v=uvYTGEZQTEs)\n",
    "- [MC 2](https://www.youtube.com/watch?v=jtHBfLtMq4U)\n",
    "- [MC 3](https://www.youtube.com/watch?v=P8DuuiINAo4&t)\n",
    "- [MC 4](https://www.youtube.com/watch?v=31X-M4okAI0)\n",
    "- [MC 5](https://www.youtube.com/watch?v=-kwnnNSGFMc)\n",
    "\n",
    "\n",
    "**Enunciado**\n",
    "\n",
    "Tres compañías de comida rápida están compitiendo por el primer lugar en la supremacía de comida rápida. \n",
    "\n",
    "* Si un cliente originalmente es fiel a \"Sansafood\" tiene un $65\\%$ de probabilidad de quedarse fiel a esta, un $20\\%$ de cambiarse a \"LDS ltda\" y un $15\\%$ de cambiarse a \"Wenzi's\".\n",
    "\n",
    "* Si un cliente originalmente es fiel a \"LDS ltda\" tiene un $40\\%$ de probabilidad de quedarse fiel a esta, un $30\\%$ de cambiarse a \"Sansafood\" y un $30\\%$ de cambiarse a \"Wenzi's\".\n",
    "\n",
    "* Si un cliente originalmente es fiel a \"Wenzi's\" tiene un $70\\%$ de probabilidad de quedarse fiel a esta, un $10\\%$ de cambiarse a \"Sansafood\" y un $20\\%$ de cambiarse a \"LDS ltda\".\n",
    "\n",
    "En un comienzo 200 clientes pertenecen a \"Sansafood\", 180 a \"LDS ltda\" y 20 a \"Wenzi's\".\n",
    "\n",
    ">a) Identifique la matriz de transición y la matriz de estado inicial"
   ]
  },
  {
   "cell_type": "code",
   "execution_count": 116,
   "metadata": {},
   "outputs": [
    {
     "data": {
      "text/plain": [
       "array([[0.41375, 0.258  , 0.32825]])"
      ]
     },
     "execution_count": 116,
     "metadata": {},
     "output_type": "execute_result"
    }
   ],
   "source": [
    "###   P - matriz transicion\n",
    "###     S   L    w\n",
    "### s [.65 .2   .15]\n",
    "### l [.3  .4   .3 ]\n",
    "### w [.1  .2   .7 ]\n",
    "P = np.array([[0.65, 0.2, 0.15],\n",
    "              [0.3,  0.4, 0.3 ],\n",
    "              [0.1,  0.2, 0.7 ]])\n",
    "\n",
    "### initial state matrix S_0\n",
    "###   S         L         W\n",
    "### [200/400  180/400  20/400]\n",
    "S_0 = np.array([[0.5, 0.45, 0.05]])"
   ]
  },
  {
   "cell_type": "markdown",
   "metadata": {},
   "source": [
    ">**O:** b) Haga un diagrama de transición \n",
    "<img src=\"img/transicion.png\">"
   ]
  },
  {
   "cell_type": "code",
   "execution_count": 111,
   "metadata": {},
   "outputs": [],
   "source": [
    "#done\n",
    "#las flechas representan la decision de una persona de cambiarse de compañia"
   ]
  },
  {
   "cell_type": "markdown",
   "metadata": {},
   "source": [
    ">**O:** c) ¿Este problema es un caso de una cadena de markov regular? ¿Por qué?"
   ]
  },
  {
   "cell_type": "code",
   "execution_count": 103,
   "metadata": {},
   "outputs": [],
   "source": [
    "#Si, dado que el caso que se presenta posee una matriz cuyos valores internos son todos positivos, dado que \n",
    "#según la definición de cadena de Markov, para que sea regular, los valores de la matriz deben ser todos positivos."
   ]
  },
  {
   "cell_type": "markdown",
   "metadata": {},
   "source": [
    ">d) ¿Existirá la matriz estacionaria en este caso? Si su respuesta es sí, obténgala."
   ]
  },
  {
   "cell_type": "code",
   "execution_count": 132,
   "metadata": {},
   "outputs": [
    {
     "name": "stdout",
     "output_type": "stream",
     "text": [
      "S_transicion supuesta ============> [[0.33333333 0.25       0.41666667]]\n",
      "multiplicacion S_transicion * P ==> [[0.33333333 0.25       0.41666667]]\n"
     ]
    }
   ],
   "source": [
    "# En este codigo, se busca la matriz estacionaria usando el metodo recursivo\n",
    "# planteado en la definicionS_act = S_0.dot(P)\n",
    "\n",
    "if (S_act == S_0).all():\n",
    "    S_tr = S_act\n",
    "else:\n",
    "    while(1):\n",
    "        S_tr = S_act.dot(P)\n",
    "        if (S_tr == S_act).all():\n",
    "            break\n",
    "        S_act = S_tr\n",
    "        \n",
    "# se comprueba con la multiplicacion de la matriz estacionaria con la matriz de transicion\n",
    "\n",
    "print(\"S_transicion supuesta ============>\",S_tr)\n",
    "\n",
    "print(\"multiplicacion S_transicion * P ==>\",S_tr.dot(P))\n",
    "\n",
    "\n",
    "    "
   ]
  },
  {
   "cell_type": "markdown",
   "metadata": {},
   "source": [
    ">e) Después de pasado mucho tiempo. ¿Quién tendrá una mayor cantidad de clientes? Asuma que la matriz de transición será válida por todo este periodo arbitrario de tiempo y no llegarán ni saldrán más clientes del mundo de comida rápida. **No realice esta simulación como una multiplicación de matrices**, use las probabilidades y las cantidades dadas. Compare con d) "
   ]
  },
  {
   "cell_type": "code",
   "execution_count": null,
   "metadata": {},
   "outputs": [],
   "source": []
  },
  {
   "cell_type": "markdown",
   "metadata": {},
   "source": [
    "## Reglas del Juego y Comentarios \n",
    "\n",
    "+ Errores ortográficos, de redacción y oraciones ambiguas descontarán parte de su puntaje.\n",
    "+ Dudas solamente hasta el  día 31 de Marzo a las 23hrs.\n",
    "+ Dudas **principalmente** vía moodle, evite otro tipo de medio ya que su duda podría ser la de otro.\n",
    "+ Cada día de atraso descuenta 25 puntos de la nota final con un máximo de dos días de retraso (después es 0).\n",
    "+ La versión de R que se usará para revisar es 3.5.2\n",
    "+ La versión de Python que se usará para revisar es 3.6.8\n",
    "+ Los alumnos malla nueva que decidan responder las preguntas opcionales (obviando algún bonus para todos) tendrán 1 punto bonus por pregunta correctamente respondida, con un máximo de nota 100.\n",
    "+ Use cualquier librería que estime conveniente, si requiere de instalación explicitarlo en el README (y bien explicitado).\n",
    "+ Código comentado para facilitar entendimiento.\n",
    "+ Sea formal y claro con su respuesta, explique su procedimiento y luego responda. \n",
    "+ Defina bien las secciones de su notebook, el orden siempre es bueno :) [Tips para usar Markdown](https://github.com/adam-p/markdown-here/wiki/Markdown-Cheatsheet)"
   ]
  }
 ],
 "metadata": {
  "kernelspec": {
   "display_name": "Python 3",
   "language": "python",
   "name": "python3"
  },
  "language_info": {
   "codemirror_mode": {
    "name": "ipython",
    "version": 3
   },
   "file_extension": ".py",
   "mimetype": "text/x-python",
   "name": "python",
   "nbconvert_exporter": "python",
   "pygments_lexer": "ipython3",
   "version": "3.6.7"
  }
 },
 "nbformat": 4,
 "nbformat_minor": 2
}
