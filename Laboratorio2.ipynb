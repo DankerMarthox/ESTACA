{
 "cells": [
  {
   "cell_type": "markdown",
   "metadata": {},
   "source": [
    "<img src=\"img/usmlogo.png\" style=\"float:right;height:85px\"> <img src=\"img/dilogo.png\" style=\"float:left;height:90px\">\n",
    "<center>\n",
    "    <h1> Laboratorio 2 </h1>\n",
    "    <h2> Profesor: Ricardo Ñanculef </h2>\n",
    "    <h3> Ayudante: Gabriel Ortega </h3>\n",
    "    <h4> Martin Salinas Scussolin; 201773557-0 ; Malla Nueva </h4>\n",
    "    <h4> Jose Quezada Silva ; 201773528-7 ; Malla Nueva </h4>\n",
    "</center>\n",
    "<p>\n",
    "<center><h4>Marzo 2019</h4></center>\n",
    "</p>"
   ]
  },
  {
   "cell_type": "markdown",
   "metadata": {},
   "source": [
    "## Instrucciones\n",
    "\n",
    "La modalidad de trabajo será mediante el uso de jupyter notebook. El notebook debe ser desarrollado en parejas o individual. Este laboratorio debe ser entregado el día 3 de Mayo.\n",
    "\n",
    "La **modalidad de entrega será un archivo Apellido1_Apellido2_Lab2.zip** que contenga un notebook que incluya todas las preguntas con sus respectivas respuestas + un README que indique la forma correcta de ejecutar su notebook. El laboratorio puede ser trabajado tanto en lenguaje R como en lenguaje python (para los que usen python 2.X, absténganse a las consecuencias). Lea bien el enunciado.\n",
    "\n",
    "\n",
    "**Cualquier copia detectada implicará nota 0 en el laboratorio correspondiente y se notificará la situación al profesor.**\n"
   ]
  },
  {
   "cell_type": "markdown",
   "metadata": {},
   "source": [
    "---\n",
    "**Esto es solo una sugerencia y no tendrá ningún impacto en su nota**\n",
    "\n",
    "## Tip para Gráficos (Python)\n",
    "\n",
    "Puede hacer sus gráficos un poco más estilosos utilizando la libreria seaborn\n",
    "\n",
    "```python\n",
    "import matplotlib.pyplot as plt\n",
    "import seaborn as sns\n",
    "sns.set()\n",
    "%matplotlib inline #con esto no es necesario hacer plt.show()\n",
    "```\n",
    "\n",
    "El uso es igual que un gráfico de matplotlib, solo que ```sns.set()``` hace que se cargue la visualización de seaborn encima. [Informacion sobre seaborn.set()](https://seaborn.pydata.org/generated/seaborn.set.html)\n",
    "\n",
    "## Tip para Gráficos (R)\n",
    "\n",
    "Puede hacer sus gráficos un poco más estilosos utilizando la libreria [ggplot2](https://www.statmethods.net/advgraphs/ggplot2.html)\n",
    "\n",
    "\n",
    "## Interactive Widgets\n",
    "\n",
    "Si usted está trabajando en python puede hacer una widget interactiva que varíe los parámetros de una función, como se puede ver en el siguiente fragmento de código (debe ejecutarlo)."
   ]
  },
  {
   "cell_type": "code",
   "execution_count": 1,
   "metadata": {},
   "outputs": [],
   "source": [
    "from ipywidgets import interact \n",
    "import matplotlib.pyplot as plt\n",
    "import seaborn as sns\n",
    "import numpy as np\n",
    "sns.set()\n",
    "%matplotlib inline \n",
    "\n"
   ]
  },
  {
   "cell_type": "code",
   "execution_count": 2,
   "metadata": {},
   "outputs": [
    {
     "data": {
      "application/vnd.jupyter.widget-view+json": {
       "model_id": "41d8890039f3498a87e5b5ea37f8728d"
      }
     },
     "metadata": {},
     "output_type": "display_data"
    },
    {
     "data": {
      "text/plain": [
       "<function __main__.plot_serie>"
      ]
     },
     "execution_count": 2,
     "metadata": {},
     "output_type": "execute_result"
    },
    {
     "data": {
      "image/png": "[encoded data removed]",
      "text/plain": [
       "<Figure size 432x288 with 1 Axes>"
      ]
     },
     "metadata": {},
     "output_type": "display_data"
    }
   ],
   "source": [
    "def plot_serie(x):\n",
    "    values = np.arange(1,x,0.5)**2\n",
    "    values2 = np.arange(1,x,0.5)**3\n",
    "    plt.xlabel(\"X\")\n",
    "    plt.ylabel(\"Y\")\n",
    "    plt.plot(values/values2)\n",
    "        \n",
    "\n",
    "interact(plot_serie,x=(2,20))"
   ]
  },
  {
   "cell_type": "markdown",
   "metadata": {},
   "source": [
    "---\n",
    "## 1. Retención de Clientes\n",
    "\n",
    "La fuga (*churn*, término en inglés) de clientes es algo que muchas empresas de hoy en día sufren, la fuga puede deberse a muchos factores, uno de estos podría ser alguna característica del servicio en sí que provee la empresa. En esta sección usted trabajará con un dataset de \"Telco\", una empresa de telecomunicaciones, donde verá varios datos relacionados al plan de los clientes, uno de estos campos siendo \"*Churn*\", si el cliente se fugó o no. \n",
    "\n",
    "El archivo a utilizar es \"churn.csv\" y para información extra puede referirse a [este enlace](https://www.kaggle.com/blastchar/telco-customer-churn)\n",
    "\n",
    ">a) Haga un análisis exploratorio **a su criterio** del dataset y extraiga 3 conclusiones acerca del conjunto de datos"
   ]
  },
  {
   "cell_type": "code",
   "execution_count": 3,
   "metadata": {},
   "outputs": [],
   "source": [
    "import pandas as pd\n",
    "import scipy as sc"
   ]
  },
  {
   "cell_type": "code",
   "execution_count": 4,
   "metadata": {},
   "outputs": [],
   "source": [
    "#inclusion dataset\n",
    "df = pd.read_csv(\"churn.csv\") "
   ]
  },
  {
   "cell_type": "code",
   "execution_count": 15,
   "metadata": {},
   "outputs": [],
   "source": [
    "dfFemale = df.loc[(df[\"gender\"] == 'Female')]                #size\n",
    "dfMale = df.loc[(df[\"gender\"] == 'Male')]"
   ]
  },
  {
   "cell_type": "code",
   "execution_count": 17,
   "metadata": {},
   "outputs": [],
   "source": [
    "dfToPlotMale = pd.DataFrame(dfMale.groupby(\"tenure\").size())\n",
    "dfToPlotMale.columns=[\"Men\"]\n",
    "\n",
    "dfToPlotFemale = pd.DataFrame(dfFemale.groupby(\"tenure\").size())\n",
    "dfToPlotFemale.columns=[\"Women\"]\n"
   ]
  },
  {
   "cell_type": "code",
   "execution_count": 18,
   "metadata": {},
   "outputs": [],
   "source": [
    "dfToPlot = pd.concat([dfToPlotMale,\n",
    "                      dfToPlotFemale],\n",
    "                      sort=False,\n",
    "                      axis=1)\n"
   ]
  },
  {
   "cell_type": "code",
   "execution_count": 24,
   "metadata": {},
   "outputs": [
    {
     "data": {
      "text/html": [
       "<div>\n",
       "<style scoped>\n",
       "    .dataframe tbody tr th:only-of-type {\n",
       "        vertical-align: middle;\n",
       "    }\n",
       "\n",
       "    .dataframe tbody tr th {\n",
       "        vertical-align: top;\n",
       "    }\n",
       "\n",
       "    .dataframe thead th {\n",
       "        text-align: right;\n",
       "    }\n",
       "</style>\n",
       "<table border=\"1\" class=\"dataframe\">\n",
       "  <thead>\n",
       "    <tr style=\"text-align: right;\">\n",
       "      <th></th>\n",
       "      <th>Men</th>\n",
       "      <th>Women</th>\n",
       "    </tr>\n",
       "  </thead>\n",
       "  <tbody>\n",
       "    <tr>\n",
       "      <th>mean</th>\n",
       "      <td>48.698630</td>\n",
       "      <td>47.780822</td>\n",
       "    </tr>\n",
       "    <tr>\n",
       "      <th>std</th>\n",
       "      <td>40.917154</td>\n",
       "      <td>37.016981</td>\n",
       "    </tr>\n",
       "    <tr>\n",
       "      <th>min</th>\n",
       "      <td>6.000000</td>\n",
       "      <td>5.000000</td>\n",
       "    </tr>\n",
       "    <tr>\n",
       "      <th>25%</th>\n",
       "      <td>33.000000</td>\n",
       "      <td>32.000000</td>\n",
       "    </tr>\n",
       "    <tr>\n",
       "      <th>50%</th>\n",
       "      <td>38.000000</td>\n",
       "      <td>38.000000</td>\n",
       "    </tr>\n",
       "    <tr>\n",
       "      <th>75%</th>\n",
       "      <td>50.000000</td>\n",
       "      <td>48.000000</td>\n",
       "    </tr>\n",
       "    <tr>\n",
       "      <th>max</th>\n",
       "      <td>329.000000</td>\n",
       "      <td>284.000000</td>\n",
       "    </tr>\n",
       "  </tbody>\n",
       "</table>\n",
       "</div>"
      ],
      "text/plain": [
       "             Men       Women\n",
       "mean   48.698630   47.780822\n",
       "std    40.917154   37.016981\n",
       "min     6.000000    5.000000\n",
       "25%    33.000000   32.000000\n",
       "50%    38.000000   38.000000\n",
       "75%    50.000000   48.000000\n",
       "max   329.000000  284.000000"
      ]
     },
     "execution_count": 24,
     "metadata": {},
     "output_type": "execute_result"
    }
   ],
   "source": [
    "dfToPlot.describe()[1:]"
   ]
  },
  {
   "cell_type": "code",
   "execution_count": 25,
   "metadata": {},
   "outputs": [
    {
     "data": {
      "text/plain": [
       "<matplotlib.axes._subplots.AxesSubplot at 0x7efbbab7e438>"
      ]
     },
     "execution_count": 25,
     "metadata": {},
     "output_type": "execute_result"
    },
    {
     "data": {
      "image/png": "[encoded data removed]",
      "text/plain": [
       "<Figure size 432x288 with 1 Axes>"
      ]
     },
     "metadata": {},
     "output_type": "display_data"
    }
   ],
   "source": [
    "dfToPlot.boxplot(showfliers=False)"
   ]
  },
  {
   "cell_type": "markdown",
   "metadata": {},
   "source": [
    "> b.1) Determine la probabilidad de que: <ul>\n",
    "    <li>Un cliente sea mujer dado que tiene fibra óptica </li>\n",
    "    <li>Un cliente sea hombre dado que tiene fibra óptica</li>\n",
    "    <li>Un cliente sea mujer dado que no tiene fibra óptica</li>\n",
    "    <li>Un cliente sea hombre dado que no tiene fibra óptica</li>\n",
    "    </ul>\n",
    "    Además indique cuál/es de estos pares deben sumar 1 (Si es que algún par debe sumar esta cantidad). Justifique su respuesta.\n",
    "    "
   ]
  },
  {
   "cell_type": "code",
   "execution_count": 47,
   "metadata": {},
   "outputs": [],
   "source": [
    "class probs:\n",
    "\n",
    "    opticFiber = len(df.loc[df[\"InternetService\"] == \"Fiber optic\"])/len(df)\n",
    "    notOpticFiber = len(df.loc[df[\"InternetService\"] != \"Fiber optic\"])/len(df)\n",
    "    \n",
    "    women = len(df.loc[(df[\"gender\"] == \"Female\")])/len(df)\n",
    "    womenOF = len(df.loc[(df[\"gender\"] == \"Female\") & (df[\"InternetService\"] == \"Fiber optic\")])/len(df)\n",
    "    womenNotOf = len(df.loc[(df[\"gender\"] == \"Female\") & (df[\"InternetService\"] != \"Fiber optic\")])/len(df)\n",
    "   \n",
    "    men = len(df.loc[(df[\"gender\"] == \"Male\")])/len(df)\n",
    "    menOF = len(df.loc[(df[\"gender\"] == \"Male\") & (df[\"InternetService\"] == \"Fiber optic\")])/len(df)\n",
    "    menNotOf = len(df.loc[(df[\"gender\"] == \"Male\") & (df[\"InternetService\"] != \"Fiber optic\")])/len(df)\n",
    "    \n",
    "def p_A_if_B(a,b):\n",
    "    return a/b\n",
    "\n",
    "def Bayes(a,b,c):\n",
    "    return (a*b/c)"
   ]
  },
  {
   "cell_type": "code",
   "execution_count": 48,
   "metadata": {},
   "outputs": [
    {
     "name": "stdout",
     "output_type": "stream",
     "text": [
      "0.5016149870801033\n",
      "0.4983850129198967\n",
      "0.49024575627058525\n",
      "0.5097542437294148\n"
     ]
    }
   ],
   "source": [
    "#round(probabilities.women,2)\n",
    "print(p_A_if_B(probs.womenOF, probs.opticFiber))\n",
    "print(p_A_if_B(probs.menOF, probs.opticFiber))\n",
    "print(p_A_if_B(probs.womenNotOf, probs.notOpticFiber))\n",
    "print(p_A_if_B(probs.menNotOf, probs.notOpticFiber))"
   ]
  },
  {
   "cell_type": "markdown",
   "metadata": {},
   "source": [
    ">b.2) ¿Es posible concluir que si un cliente es hombre tiene más probabilidad de tener fibra óptica? ¿Y si es mujer? ¿Por qué?"
   ]
  },
  {
   "cell_type": "markdown",
   "metadata": {},
   "source": [
    ">Por Bayes"
   ]
  },
  {
   "cell_type": "code",
   "execution_count": 49,
   "metadata": {},
   "outputs": [
    {
     "name": "stdout",
     "output_type": "stream",
     "text": [
      "0.4340365682137834\n"
     ]
    }
   ],
   "source": [
    "print(Bayes(p_A_if_B(probs.menOF, probs.opticFiber),probs.opticFiber,probs.men))"
   ]
  },
  {
   "cell_type": "code",
   "execution_count": 50,
   "metadata": {},
   "outputs": [
    {
     "name": "stdout",
     "output_type": "stream",
     "text": [
      "0.4452408256880734\n"
     ]
    }
   ],
   "source": [
    "print(Bayes(p_A_if_B(probs.womenOF, probs.opticFiber),probs.opticFiber,probs.women))"
   ]
  },
  {
   "cell_type": "markdown",
   "metadata": {},
   "source": [
    ">c) Utilizando criterios de probabilidad condicional ¿Hay algún servicio de internet más propenso a la fuga?"
   ]
  },
  {
   "cell_type": "code",
   "execution_count": 55,
   "metadata": {},
   "outputs": [],
   "source": [
    "class probs2:\n",
    "    \n",
    "    IntChurn = len(df.loc[(df[\"Churn\"] == \"Yes\") & (df[\"InternetService\"] != \"No\") ])\n",
    "    IntDSL = len(df.loc[(df[\"InternetService\"] == \"DSL\")])\n",
    "    IntDSLChurn = len(df.loc[(df[\"InternetService\"] == \"DSL\") & (df[\"Churn\"] == \"Yes\")])\n",
    "    \n",
    "    IntOf = len(df.loc[(df[\"InternetService\"] == \"Fiber optic\")])\n",
    "    IntOfChurn = len(df.loc[(df[\"InternetService\"] == \"Fiber optic\") & (df[\"Churn\"] == \"Yes\")])\n"
   ]
  },
  {
   "cell_type": "code",
   "execution_count": 56,
   "metadata": {},
   "outputs": [
    {
     "data": {
      "text/plain": [
       "0.1895910780669145"
      ]
     },
     "execution_count": 56,
     "metadata": {},
     "output_type": "execute_result"
    }
   ],
   "source": [
    "p_A_if_B(probs2.IntDSLChurn,probs2.IntDSL)"
   ]
  },
  {
   "cell_type": "code",
   "execution_count": 57,
   "metadata": {},
   "outputs": [
    {
     "data": {
      "text/plain": [
       "0.4189276485788114"
      ]
     },
     "execution_count": 57,
     "metadata": {},
     "output_type": "execute_result"
    }
   ],
   "source": [
    "p_A_if_B(probs2.IntOfChurn,probs2.IntOf)"
   ]
  },
  {
   "cell_type": "markdown",
   "metadata": {},
   "source": [
    ">d) Utilizando criterios de probabilidad condicional, ¿es el cargo mensual un buen predictor de la fuga? y ¿es la fuga un buen predictor del cargo mensual de un cliente?"
   ]
  },
  {
   "cell_type": "markdown",
   "metadata": {},
   "source": [
    "#### Se obtienen rangos de cargo mensual"
   ]
  },
  {
   "cell_type": "code",
   "execution_count": 77,
   "metadata": {
    "scrolled": true
   },
   "outputs": [
    {
     "data": {
      "text/plain": [
       "MonthlyCharges\n",
       "(18.25, 38.25]      40416.35\n",
       "(38.25, 58.25]      49396.00\n",
       "(58.25, 78.25]      93648.70\n",
       "(78.25, 98.25]     159553.15\n",
       "(98.25, 118.25]    112491.20\n",
       "Name: MonthlyCharges, dtype: float64"
      ]
     },
     "execution_count": 77,
     "metadata": {},
     "output_type": "execute_result"
    }
   ],
   "source": [
    "df[\"MonthlyCharges\"].groupby(pd.cut(df[\"MonthlyCharges\"],bins=np.arange(18.25,118.75,20))).sum()#.tolist()"
   ]
  },
  {
   "cell_type": "code",
   "execution_count": 62,
   "metadata": {},
   "outputs": [],
   "source": [
    "class probs3:\n",
    "      \n",
    "    ChurnThot = len(df.loc[(df[\"Churn\"] == \"Yes\")])\n",
    "    \n",
    "    p1 = len(df.loc[(df[\"MonthlyCharges\"] > 18.25) & (df[\"MonthlyCharges\"] <= 38.25) & (df[\"Churn\"] == \"Yes\")])\n",
    "    p2 = len(df.loc[(df[\"MonthlyCharges\"] > 38.25) & (df[\"MonthlyCharges\"] <= 58.25) & (df[\"Churn\"] == \"Yes\")])\n",
    "    p3 = len(df.loc[(df[\"MonthlyCharges\"] > 58.25) & (df[\"MonthlyCharges\"] <= 78.25) & (df[\"Churn\"] == \"Yes\")])\n",
    "    p4 = len(df.loc[(df[\"MonthlyCharges\"] > 78.25) & (df[\"MonthlyCharges\"] <= 98.25) & (df[\"Churn\"] == \"Yes\")])\n",
    "    p5 = len(df.loc[(df[\"MonthlyCharges\"] > 98.25) & (df[\"MonthlyCharges\"] <= 118.25) & (df[\"Churn\"] == \"Yes\")])\n",
    "    \n",
    "    mOne = len(df.loc[(df[\"MonthlyCharges\"] > 18.25) & (df[\"MonthlyCharges\"] <= 38.25)])\n",
    "    mTwo = len(df.loc[(df[\"MonthlyCharges\"] > 38.25) & (df[\"MonthlyCharges\"] <= 58.25)])\n",
    "    mThree = len(df.loc[(df[\"MonthlyCharges\"] > 58.25) & (df[\"MonthlyCharges\"] <= 78.25)])\n",
    "    mFour = len(df.loc[(df[\"MonthlyCharges\"] > 78.25) & (df[\"MonthlyCharges\"] <= 98.25)])\n",
    "    mFive = len(df.loc[(df[\"MonthlyCharges\"] > 98.25) & (df[\"MonthlyCharges\"] <= 118.25)])\n",
    "\n",
    "class probs4:\n",
    "    P1 = Bayes(p_A_if_B(probs3.p1,probs3.mOne),probs3.mOne, probs3.ChurnThot)\n",
    "    P2 = Bayes(p_A_if_B(probs3.p2,probs3.mTwo), probs3.mTwo, probs3.ChurnThot)\n",
    "    P3 = Bayes(p_A_if_B(probs3.p3,probs3.mThree), probs3.mThree, probs3.ChurnThot)\n",
    "    P4 = Bayes(p_A_if_B(probs3.p4,probs3.mFour), probs3.mFour, probs3.ChurnThot)\n",
    "    P5 = Bayes(p_A_if_B(probs3.p5,probs3.mFive), probs3.mFive, probs3.ChurnThot)"
   ]
  },
  {
   "cell_type": "code",
   "execution_count": 59,
   "metadata": {},
   "outputs": [
    {
     "name": "stdout",
     "output_type": "stream",
     "text": [
      "0.11414253897550111\n",
      "0.2715430861723447\n",
      "0.2921597633136095\n",
      "0.3667763157894737\n",
      "0.30740393626991563\n"
     ]
    }
   ],
   "source": [
    "print(probs3.p1/probs3.mOne)\n",
    "print(probs3.p2/probs3.mTwo)\n",
    "print(probs3.p3/probs3.mThree)\n",
    "print(probs3.p4/probs3.mFour)\n",
    "print(probs3.p5/probs3.mFive)"
   ]
  },
  {
   "cell_type": "code",
   "execution_count": 66,
   "metadata": {},
   "outputs": [
    {
     "name": "stdout",
     "output_type": "stream",
     "text": [
      "0.10968432316746923\n",
      "0.14499732477260568\n",
      "0.21134296415195292\n",
      "0.3579454253611557\n",
      "0.17549491706795078\n"
     ]
    }
   ],
   "source": [
    "print(probs4.P1)\n",
    "print(probs4.P2)\n",
    "print(probs4.P3)\n",
    "print(probs4.P4)\n",
    "print(probs4.P5)"
   ]
  },
  {
   "cell_type": "markdown",
   "metadata": {},
   "source": [
    "# NO"
   ]
  },
  {
   "cell_type": "markdown",
   "metadata": {},
   "source": [
    ">e) Utilizando criterios de probabilidad condicional, ¿es el cargo mensual un buen predictor de la estadia de un cliente? y ¿es la estadia del cliente un buen predictor del cargo mensual de este?\n",
    "\n",
    "*Estadia*: tenure"
   ]
  },
  {
   "cell_type": "code",
   "execution_count": 101,
   "metadata": {},
   "outputs": [
    {
     "data": {
      "text/plain": [
       "tenure\n",
       "(0, 36]      54377\n",
       "(36, 72]    173613\n",
       "Name: tenure, dtype: int64"
      ]
     },
     "execution_count": 101,
     "metadata": {},
     "output_type": "execute_result"
    }
   ],
   "source": [
    "df[\"MonthlyCharges\"].groupby(pd.cut(df[\"MonthlyCharges\"],bins=np.arange(18.25,118.75,))).sum()#.tolist()\n",
    "df[\"tenure\"].groupby(pd.cut(df[\"tenure\"],bins=np.arange(0,73,36))).sum()#.tolist()"
   ]
  },
  {
   "cell_type": "code",
   "execution_count": 116,
   "metadata": {},
   "outputs": [],
   "source": [
    "class probs5:\n",
    "    p1_lt = len(df.loc[(df[\"MonthlyCharges\"] > 18.25) & (df[\"MonthlyCharges\"] <= 38.25) & (df[\"tenure\"] <= 36)])\n",
    "    p1_ht = len(df.loc[(df[\"MonthlyCharges\"] > 18.25) & (df[\"MonthlyCharges\"] <= 38.25) & (df[\"tenure\"] > 36)])\n",
    "    \n",
    "    p2_lt = len(df.loc[(df[\"MonthlyCharges\"] > 38.25) & (df[\"MonthlyCharges\"] <= 58.25) & (df[\"tenure\"] <= 36)])\n",
    "    p2_ht = len(df.loc[(df[\"MonthlyCharges\"] > 38.25) & (df[\"MonthlyCharges\"] <= 58.25) & (df[\"tenure\"] > 36)])\n",
    "    \n",
    "    p3_lt = len(df.loc[(df[\"MonthlyCharges\"] > 58.25) & (df[\"MonthlyCharges\"] <= 78.25) & (df[\"tenure\"] <= 36)])\n",
    "    p3_ht = len(df.loc[(df[\"MonthlyCharges\"] > 58.25) & (df[\"MonthlyCharges\"] <= 78.25) & (df[\"tenure\"] > 36)])\n",
    "    \n",
    "    p4_lt = len(df.loc[(df[\"MonthlyCharges\"] > 78.25) & (df[\"MonthlyCharges\"] <= 98.25) & (df[\"tenure\"] <= 36)])\n",
    "    p4_ht = len(df.loc[(df[\"MonthlyCharges\"] > 78.25) & (df[\"MonthlyCharges\"] <= 98.25) & (df[\"tenure\"] > 36)])\n",
    "    \n",
    "    p5_lt = len(df.loc[(df[\"MonthlyCharges\"] > 98.25) & (df[\"MonthlyCharges\"] <= 118.25) & (df[\"tenure\"] <= 36)])\n",
    "    p5_ht = len(df.loc[(df[\"MonthlyCharges\"] > 98.25) & (df[\"MonthlyCharges\"] <= 118.25) & (df[\"tenure\"] > 36)])\n",
    "    \n",
    "    "
   ]
  },
  {
   "cell_type": "code",
   "execution_count": 117,
   "metadata": {},
   "outputs": [
    {
     "name": "stdout",
     "output_type": "stream",
     "text": [
      "LOW\n",
      "0.6375278396436526\n",
      "0.7234468937875751\n",
      "0.6427514792899408\n",
      "0.5696271929824561\n",
      "0.2492970946579194 \n",
      "\n",
      "HIGH\n",
      "0.36247216035634744\n",
      "0.27655310621242485\n",
      "0.3572485207100592\n",
      "0.4303728070175439\n",
      "0.7507029053420806\n"
     ]
    }
   ],
   "source": [
    "probs5.p1_lt\n",
    "probs5.p1_ht\n",
    "\n",
    "probs5.p2_lt\n",
    "probs5.p2_ht\n",
    "\n",
    "probs5.p3_lt\n",
    "probs5.p3_ht\n",
    "\n",
    "probs5.p4_lt\n",
    "probs5.p4_ht\n",
    "\n",
    "probs5.p5_lt\n",
    "probs5.p5_ht\n",
    "\n",
    "print(\"LOW\")\n",
    "print(probs5.p1_lt/probs3.mOne)\n",
    "print(probs5.p2_lt/probs3.mTwo)\n",
    "print(probs5.p3_lt/probs3.mThree)\n",
    "print(probs5.p4_lt/probs3.mFour)\n",
    "print(probs5.p5_lt/probs3.mFive,\"\\n\")\n",
    "\n",
    "print(\"HIGH\")\n",
    "print(probs5.p1_ht/probs3.mOne)\n",
    "print(probs5.p2_ht/probs3.mTwo)\n",
    "print(probs5.p3_ht/probs3.mThree)\n",
    "print(probs5.p4_ht/probs3.mFour)\n",
    "print(probs5.p5_ht/probs3.mFive)"
   ]
  },
  {
   "cell_type": "markdown",
   "metadata": {},
   "source": [
    "## 2. Máquina de Rube Goldberg\n",
    "\n",
    "Una máquina de Rube Goldberg es un artefacto extremadamente complejo que realiza una tarea fácil. Usted, en su tiempo libre, decidió construir uno de estos artefactos que consta de 5 etapas:\n",
    "\n",
    "<ol>\n",
    "    <li>Lanza una bolita que rueda por un riel con una probabilidad de $\\dfrac{2}{5}$ de caerse</li>\n",
    "    <li>Después de rodar por el riel cae en una catapulta que la lanza en la dirección correcta el $60\\%$ de las veces</li>\n",
    "    <li>Impacta contra una tela que le frena el impulso y la hace caer sobre el interruptor de un ventilador, el $80\\%$ de las veces es capaz de activar el ventilador</li>\n",
    "    <li>Cuando el ventilador se activa empuja un barco de juguete en una fuente con agua hasta el otro extremo de esta para empujar otra bolita, el barco llega con suficiente impulso con una probabilidad de $\\dfrac{6}{9}$</li>\n",
    "    <li>Esta bolita rueda por otro riel y cae sobre el control remoto que enciende su televisor, en un $30\\%$ de las veces logra encenderlo</li>\n",
    "</ol>\n",
    "\n",
    ">a) Usted quiere subir su máquina de Rube Goldberg a Youtube™, estime cuántas veces (en promedio) tendrá que poner en marcha su máquina hasta que resulte por primera vez en video. A su vez, haga un gráfico mostrando la probabilidad de no tener éxito en función del número de puestas en marcha de la máquina y comente."
   ]
  },
  {
   "cell_type": "code",
   "execution_count": null,
   "metadata": {
    "collapsed": true
   },
   "outputs": [],
   "source": []
  },
  {
   "cell_type": "markdown",
   "metadata": {},
   "source": [
    "> b) Si usted cuenta con 1000 bolitas, estime tanto téorica como empíricamente cuántas bolitas fallan en cada estapa. Compare sus resultados obtenidos.\n",
    "\n",
    "*Recuerde que habrá una cantidad de bolitas que no fallarán*"
   ]
  },
  {
   "cell_type": "code",
   "execution_count": null,
   "metadata": {
    "collapsed": true
   },
   "outputs": [],
   "source": []
  },
  {
   "cell_type": "markdown",
   "metadata": {},
   "source": [
    "> c) Determine la función de probabilidad que rige este fenómeno según todos los estados posibles de la bolita"
   ]
  },
  {
   "cell_type": "code",
   "execution_count": null,
   "metadata": {
    "collapsed": true
   },
   "outputs": [],
   "source": []
  },
  {
   "cell_type": "markdown",
   "metadata": {},
   "source": [
    ">d) Genere 1000 valores aleatorios que sigan la función de probabilidad que encontró en c), haga un histograma y compare con lo obtenido en b)"
   ]
  },
  {
   "cell_type": "code",
   "execution_count": null,
   "metadata": {
    "collapsed": true
   },
   "outputs": [],
   "source": []
  },
  {
   "cell_type": "markdown",
   "metadata": {},
   "source": [
    "## 3. Perritos Enfermos\n",
    "\n",
    "Usted trabaja en un refugio de animales que se especializa en recibir perros, además de contar con el equipo necesario para tratar con enfermedades que estos puedan presentar. Viendo las noticias se enteró que un virus sumamente peligroso para los perros se está expandiendo rápidamente por la zona y sospecha que algunos de los perros bajo su cuidado pueden estar infectados pero, no presentan un síntoma de momento. Para suerte suya este virus tiene cura hace tiempo y cuenta con el equipo para analizar muestras de saliva para detectar qué perro está infectado con el virus o no.\n",
    "\n",
    "Usted tiene 500 perros, para no hacer la prueba 1 a 1 ha decidido juntar muestras de saliva en grupos de $K$ perros (con $K$ siendo un divisor de 500), y en caso de que el examen arroje positivo hará la prueba 1 a 1 del grupo. Asuma que 8 perros están infectados, pero usted no sabe esto a priori.\n",
    "\n",
    ">a) ¿Es posible determinar **teóricamente** un $K$ tal que la cantidad de veces que se realiza la prueba sea la menor posible? De ser así, encuentre dicho K. ¿Qué distribución es comparable a este fenómeno?"
   ]
  },
  {
   "cell_type": "code",
   "execution_count": null,
   "metadata": {
    "collapsed": true
   },
   "outputs": [],
   "source": [
    "#NORMAL AAAHH\n",
    "K E {1,2,4,5,10,20,25,50,100,125,250,500}\n",
    "#en ese caso estaría por la mitad aprox ...mmmmmmgrdsrgklsdgñ"
   ]
  },
  {
   "cell_type": "markdown",
   "metadata": {},
   "source": [
    ">b) Encuentre **empíricamente** un valor de $K$ que minimice la cantidad de veces que se realiza la prueba y compare con el obtenido en b)"
   ]
  },
  {
   "cell_type": "code",
   "execution_count": null,
   "metadata": {
    "collapsed": true
   },
   "outputs": [],
   "source": []
  },
  {
   "cell_type": "markdown",
   "metadata": {},
   "source": [
    ">c) Ahora usted conoce la cantidad de perros infectados, realice el mismo experimento que en b) y compare sus resultados. ¿A qué se debe esta diferencia? "
   ]
  },
  {
   "cell_type": "code",
   "execution_count": null,
   "metadata": {
    "collapsed": true
   },
   "outputs": [],
   "source": []
  },
  {
   "cell_type": "markdown",
   "metadata": {},
   "source": [
    "## Reglas del Juego y Comentarios \n",
    "\n",
    "+ Errores ortográficos, de redacción y oraciones ambiguas descontarán parte de su puntaje.\n",
    "+ Dudas solamente hasta el día 27 de Abril a las 15hrs.\n",
    "+ Dudas **principalmente** vía moodle, evite otro tipo de medio ya que su duda podría ser la de otro.\n",
    "+ Cada día de atraso descuenta 25 puntos de la nota final con un máximo de dos días de retraso (después es 0).\n",
    "+ La versión de R que se usará para revisar es 3.5.3\n",
    "+ La versión de Python que se usará para revisar es 3.6.8\n",
    "+ Use cualquier librería que estime conveniente, si requiere de instalación explicitarlo en el README (y bien explicitado).\n",
    "+ Código comentado para facilitar entendimiento.\n",
    "+ Sea formal y claro con su respuesta, **explique su procedimiento y luego responda.** \n",
    "+ Defina bien las secciones de su notebook, el orden siempre es bueno :) [Tips para usar Markdown](https://github.com/adam-p/markdown-here/wiki/Markdown-Cheatsheet)"
   ]
  }
 ],
 "metadata": {
  "kernelspec": {
   "display_name": "Python 3",
   "language": "python",
   "name": "python3"
  },
  "language_info": {
   "codemirror_mode": {
    "name": "ipython",
    "version": 3
   },
   "file_extension": ".py",
   "mimetype": "text/x-python",
   "name": "python",
   "nbconvert_exporter": "python",
   "pygments_lexer": "ipython3",
   "version": "3.6.7"
  },
  "widgets": {
   "state": {
    "547222c7693644a29b38b21b706610b5": {
     "views": [
      {
       "cell_index": 3
      }
     ]
    }
   },
   "version": "1.2.0"
  }
 },
 "nbformat": 4,
 "nbformat_minor": 2
}
